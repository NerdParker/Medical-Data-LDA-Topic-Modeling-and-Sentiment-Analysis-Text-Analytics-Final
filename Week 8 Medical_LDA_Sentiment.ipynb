{
 "cells": [
  {
   "cell_type": "code",
   "execution_count": 1,
   "metadata": {},
   "outputs": [
    {
     "name": "stderr",
     "output_type": "stream",
     "text": [
      "[nltk_data] Downloading package stopwords to\n",
      "[nltk_data]     C:\\Users\\607791\\AppData\\Roaming\\nltk_data...\n",
      "[nltk_data]   Package stopwords is already up-to-date!\n"
     ]
    }
   ],
   "source": [
    "# package to clean text\n",
    "import nltk; nltk.download('stopwords')\n",
    "from nltk.tokenize import RegexpTokenizer\n",
    "from nltk.corpus import stopwords\n",
    "import re\n",
    "\n",
    "# packages to store and manipulate data\n",
    "import numpy as np\n",
    "import pandas as pd\n",
    "from pprint import pprint\n",
    "\n",
    "# gensim\n",
    "import gensim\n",
    "import gensim.corpora as corpora\n",
    "from gensim.utils import simple_preprocess\n",
    "from gensim.models import CoherenceModel\n",
    "import logging\n",
    "logging.basicConfig(format='%(asctime)s : %(levelname)s : %(message)s', level=logging.ERROR)\n",
    "\n",
    "# spacy for lemmatization\n",
    "import spacy\n",
    "nlp = spacy.load(\"en_core_web_sm\")\n",
    "\n",
    "# plotting tools\n",
    "import pyLDAvis\n",
    "import pyLDAvis.gensim\n",
    "import matplotlib.pyplot as plt\n",
    "%matplotlib inline\n",
    "import seaborn as sns\n",
    "\n",
    "# classification\n",
    "from sklearn.model_selection import train_test_split\n",
    "from sklearn.model_selection import KFold\n",
    "from sklearn.preprocessing import StandardScaler, MinMaxScaler\n",
    "from sklearn.linear_model import LogisticRegression\n",
    "from sklearn.metrics import accuracy_score\n",
    "from sklearn.metrics import f1_score\n",
    "from sklearn import linear_model\n",
    "from sklearn import metrics\n",
    "\n",
    "import warnings\n",
    "warnings.filterwarnings(\"ignore\",category=DeprecationWarning)"
   ]
  },
  {
   "cell_type": "code",
   "execution_count": 2,
   "metadata": {},
   "outputs": [
    {
     "data": {
      "text/html": [
       "<div>\n",
       "<style scoped>\n",
       "    .dataframe tbody tr th:only-of-type {\n",
       "        vertical-align: middle;\n",
       "    }\n",
       "\n",
       "    .dataframe tbody tr th {\n",
       "        vertical-align: top;\n",
       "    }\n",
       "\n",
       "    .dataframe thead th {\n",
       "        text-align: right;\n",
       "    }\n",
       "</style>\n",
       "<table border=\"1\" class=\"dataframe\">\n",
       "  <thead>\n",
       "    <tr style=\"text-align: right;\">\n",
       "      <th></th>\n",
       "      <th>Unnamed: 0</th>\n",
       "      <th>description</th>\n",
       "      <th>medical_specialty</th>\n",
       "      <th>sample_name</th>\n",
       "      <th>transcription</th>\n",
       "      <th>keywords</th>\n",
       "    </tr>\n",
       "  </thead>\n",
       "  <tbody>\n",
       "    <tr>\n",
       "      <th>0</th>\n",
       "      <td>0</td>\n",
       "      <td>A 23-year-old white female presents with comp...</td>\n",
       "      <td>Allergy / Immunology</td>\n",
       "      <td>Allergic Rhinitis</td>\n",
       "      <td>SUBJECTIVE:,  This 23-year-old white female pr...</td>\n",
       "      <td>allergy / immunology, allergic rhinitis, aller...</td>\n",
       "    </tr>\n",
       "    <tr>\n",
       "      <th>1</th>\n",
       "      <td>1</td>\n",
       "      <td>Consult for laparoscopic gastric bypass.</td>\n",
       "      <td>Bariatrics</td>\n",
       "      <td>Laparoscopic Gastric Bypass Consult - 2</td>\n",
       "      <td>PAST MEDICAL HISTORY:, He has difficulty climb...</td>\n",
       "      <td>bariatrics, laparoscopic gastric bypass, weigh...</td>\n",
       "    </tr>\n",
       "    <tr>\n",
       "      <th>2</th>\n",
       "      <td>2</td>\n",
       "      <td>Consult for laparoscopic gastric bypass.</td>\n",
       "      <td>Bariatrics</td>\n",
       "      <td>Laparoscopic Gastric Bypass Consult - 1</td>\n",
       "      <td>HISTORY OF PRESENT ILLNESS: , I have seen ABC ...</td>\n",
       "      <td>bariatrics, laparoscopic gastric bypass, heart...</td>\n",
       "    </tr>\n",
       "    <tr>\n",
       "      <th>3</th>\n",
       "      <td>3</td>\n",
       "      <td>2-D M-Mode. Doppler.</td>\n",
       "      <td>Cardiovascular / Pulmonary</td>\n",
       "      <td>2-D Echocardiogram - 1</td>\n",
       "      <td>2-D M-MODE: , ,1.  Left atrial enlargement wit...</td>\n",
       "      <td>cardiovascular / pulmonary, 2-d m-mode, dopple...</td>\n",
       "    </tr>\n",
       "    <tr>\n",
       "      <th>4</th>\n",
       "      <td>4</td>\n",
       "      <td>2-D Echocardiogram</td>\n",
       "      <td>Cardiovascular / Pulmonary</td>\n",
       "      <td>2-D Echocardiogram - 2</td>\n",
       "      <td>1.  The left ventricular cavity size and wall ...</td>\n",
       "      <td>cardiovascular / pulmonary, 2-d, doppler, echo...</td>\n",
       "    </tr>\n",
       "  </tbody>\n",
       "</table>\n",
       "</div>"
      ],
      "text/plain": [
       "   Unnamed: 0                                        description  \\\n",
       "0           0   A 23-year-old white female presents with comp...   \n",
       "1           1           Consult for laparoscopic gastric bypass.   \n",
       "2           2           Consult for laparoscopic gastric bypass.   \n",
       "3           3                             2-D M-Mode. Doppler.     \n",
       "4           4                                 2-D Echocardiogram   \n",
       "\n",
       "             medical_specialty                                sample_name  \\\n",
       "0         Allergy / Immunology                         Allergic Rhinitis    \n",
       "1                   Bariatrics   Laparoscopic Gastric Bypass Consult - 2    \n",
       "2                   Bariatrics   Laparoscopic Gastric Bypass Consult - 1    \n",
       "3   Cardiovascular / Pulmonary                    2-D Echocardiogram - 1    \n",
       "4   Cardiovascular / Pulmonary                    2-D Echocardiogram - 2    \n",
       "\n",
       "                                       transcription  \\\n",
       "0  SUBJECTIVE:,  This 23-year-old white female pr...   \n",
       "1  PAST MEDICAL HISTORY:, He has difficulty climb...   \n",
       "2  HISTORY OF PRESENT ILLNESS: , I have seen ABC ...   \n",
       "3  2-D M-MODE: , ,1.  Left atrial enlargement wit...   \n",
       "4  1.  The left ventricular cavity size and wall ...   \n",
       "\n",
       "                                            keywords  \n",
       "0  allergy / immunology, allergic rhinitis, aller...  \n",
       "1  bariatrics, laparoscopic gastric bypass, weigh...  \n",
       "2  bariatrics, laparoscopic gastric bypass, heart...  \n",
       "3  cardiovascular / pulmonary, 2-d m-mode, dopple...  \n",
       "4  cardiovascular / pulmonary, 2-d, doppler, echo...  "
      ]
     },
     "execution_count": 2,
     "metadata": {},
     "output_type": "execute_result"
    }
   ],
   "source": [
    "# Import Dataset\n",
    "df = pd.read_csv('C:/Users/607791/Desktop/DS/Text Analytics/Week8/mtsamples.csv/mtsamples.csv')\n",
    "df.head()"
   ]
  },
  {
   "cell_type": "code",
   "execution_count": 3,
   "metadata": {},
   "outputs": [],
   "source": [
    "# clean text function\n",
    "def clean_text(docs):\n",
    "    # remove punctuation and numbers\n",
    "    print('removing punctuation and digits')\n",
    "    table = str.maketrans({key: None for key in string.punctuation + string.digits})\n",
    "    clean_docs = [d.translate(table) for d in docs]\n",
    "    \n",
    "    print('spacy nlp...')\n",
    "    nlp_docs = [nlp(d) for d in clean_docs]\n",
    "    \n",
    "    # pronouns stay, rest lemmatized\n",
    "    print('getting lemmas')\n",
    "    lemmatized_docs = [[w.lemma_ if w.lemma_ != '-PRON-'\n",
    "                           else w.lower_\n",
    "                           for w in d]\n",
    "                      for d in nlp_docs]\n",
    "    \n",
    "    # remove stopwords\n",
    "    print('removing stopwords')\n",
    "    lemmatized_docs = [[lemma for lemma in doc if lemma not in stopwords] for doc in lemmatized_docs]\n",
    "    \n",
    "    # join tokens back into doc\n",
    "    clean_docs = [' '.join(l) for l in lemmatized_docs]\n",
    "        \n",
    "    return clean_docs"
   ]
  },
  {
   "cell_type": "code",
   "execution_count": 4,
   "metadata": {},
   "outputs": [],
   "source": [
    "stopwords = nltk.corpus.stopwords.words('english')\n",
    "stopwords = set(stopwords + ['RT','from', 'subject', 're', 'edu', 'use', 'make', 'time', 'look', 'first', 'new', 'still', 'last', 'think', 'see', 'how', 'go', 'smerconish', 'tcodmqvbdqfbu', 'say', 'ask', 'get'])"
   ]
  },
  {
   "cell_type": "code",
   "execution_count": 5,
   "metadata": {},
   "outputs": [
    {
     "name": "stdout",
     "output_type": "stream",
     "text": [
      "removing punctuation and digits\n",
      "spacy nlp...\n",
      "getting lemmas\n",
      "removing stopwords\n"
     ]
    }
   ],
   "source": [
    "import string\n",
    "# list\n",
    "\n",
    "data = df.transcription.values.tolist()\n",
    "\n",
    "data = clean_text(data)"
   ]
  },
  {
   "cell_type": "code",
   "execution_count": 6,
   "metadata": {},
   "outputs": [],
   "source": [
    "import re\n",
    "# remove http links\n",
    "data = [re.sub('http://\\S+', '', sent) for sent in data]\n",
    "\n",
    "# remove https links\n",
    "data = [re.sub('https://\\S+', '', sent) for sent in data]\n",
    "\n",
    "# remove Emails\n",
    "data = [re.sub('\\S*@\\S*\\s?', '', sent) for sent in data]\n",
    "\n",
    "# remove single quotes\n",
    "data = [re.sub(\"\\'\", \"\", sent) for sent in data]\n",
    "\n",
    "clean_med = data"
   ]
  },
  {
   "cell_type": "code",
   "execution_count": 7,
   "metadata": {},
   "outputs": [
    {
     "data": {
      "image/png": "[encoded data removed]",
      "text/plain": [
       "<PIL.Image.Image image mode=RGB size=400x200 at 0x1AEA7F73F98>"
      ]
     },
     "execution_count": 7,
     "metadata": {},
     "output_type": "execute_result"
    }
   ],
   "source": [
    "# wordcloud\n",
    "from wordcloud import WordCloud\n",
    "long_string = ','.join(list(data))\n",
    "wordcloud = WordCloud(background_color=\"white\", max_words=5000, contour_width=3, contour_color='steelblue')\n",
    "wordcloud.generate(long_string)\n",
    "wordcloud.to_image()"
   ]
  },
  {
   "cell_type": "code",
   "execution_count": 8,
   "metadata": {},
   "outputs": [
    {
     "data": {
      "image/png": "[encoded data removed]",
      "text/plain": [
       "<Figure size 1008x672 with 1 Axes>"
      ]
     },
     "metadata": {
      "needs_background": "light"
     },
     "output_type": "display_data"
    }
   ],
   "source": [
    "from sklearn.feature_extraction.text import CountVectorizer\n",
    "import matplotlib.pyplot as plt\n",
    "import seaborn as sns\n",
    "sns.set_style('whitegrid')\n",
    "%matplotlib inline\n",
    "\n",
    "# visualize the top occuring words post cleaning\n",
    "def top_words(count, vectorize):\n",
    "    import matplotlib.pyplot as plt\n",
    "    word = vectorize.get_feature_names()\n",
    "    total = np.zeros(len(word))\n",
    "    for t in count:\n",
    "        total+=t.toarray()[0]\n",
    "    \n",
    "    dict_count = (zip(word, total))\n",
    "    dict_count = sorted(dict_count, key=lambda x:x[1], reverse=True)[0:12]\n",
    "    word = [w[0] for w in dict_count]\n",
    "    counts = [w[1] for w in dict_count]\n",
    "    x_pos = np.arange(len(word)) \n",
    "    \n",
    "    plt.figure(2, figsize=(14, 14/1.5))\n",
    "    plt.subplot(title='Top Words')\n",
    "    sns.set_context(\"notebook\", font_scale=2, rc={\"lines.linewidth\": 2.5})\n",
    "    sns.barplot(x_pos, counts, palette='colorblind')\n",
    "    plt.xticks(x_pos, word, rotation=90) \n",
    "    plt.xlabel('Word')\n",
    "    plt.ylabel('Total')\n",
    "    plt.show()\n",
    "\n",
    "vectorize = CountVectorizer(stop_words='english')\n",
    "count = vectorize.fit_transform(data)\n",
    "top_words(count, vectorize)"
   ]
  },
  {
   "cell_type": "code",
   "execution_count": 9,
   "metadata": {},
   "outputs": [],
   "source": [
    "def sent_to_words(sentences):\n",
    "    for sentence in sentences:\n",
    "        yield(gensim.utils.simple_preprocess(str(sentence), deacc=True))\n",
    "        \n",
    "med_words = list(sent_to_words(data))"
   ]
  },
  {
   "cell_type": "code",
   "execution_count": 10,
   "metadata": {},
   "outputs": [
    {
     "name": "stdout",
     "output_type": "stream",
     "text": [
      "['subjective', 'yearold', 'white', 'female', 'present', 'complaint', 'allergy', 'allergy', 'live', 'seattle', 'bad', 'past', 'try', 'claritin', 'zyrtec', 'work', 'short', 'seem', 'lose', 'effectiveness', 'allegra', 'also', 'summer', 'begin', 'two', 'week', 'ago', 'appear', 'work', 'well', 'overthecounter', 'spray', 'prescription', 'nasal_spray', 'asthma', 'doest', 'require', 'daily', 'medication', 'flare', 'upmedications', 'medication', 'currently', 'ortho', 'tricyclen', 'know', 'medicine', 'weight_pound', 'blood', 'pressure', 'heent', 'throat', 'mildly', 'erythematous', 'without', 'exudate', 'nasal', 'mucosa', 'erythematous', 'swollen', 'clear', 'drainage', 'tm', 'clearneck_supple', 'without', 'adenopathylung', 'clearassessment', 'allergic', 'rhinitisplan', 'try', 'zyrtec', 'instead', 'allegra', 'another', 'option', 'loratadine', 'prescription', 'coverage', 'may', 'cheap', 'samples', 'nasonex', 'two', 'spray_nostril', 'give', 'three', 'week', 'prescription', 'write', 'well']\n"
     ]
    }
   ],
   "source": [
    "# bigram and trigram models\n",
    "bigram = gensim.models.Phrases(med_words, min_count=8, threshold=100)\n",
    "trigram = gensim.models.Phrases(bigram[med_words], threshold=100)  \n",
    "bigram_mod = gensim.models.phrases.Phraser(bigram)\n",
    "trigram_mod = gensim.models.phrases.Phraser(trigram)\n",
    "\n",
    "# output test\n",
    "print(trigram_mod[bigram_mod[med_words[0]]])"
   ]
  },
  {
   "cell_type": "code",
   "execution_count": 11,
   "metadata": {},
   "outputs": [],
   "source": [
    "\"\"\"https://spacy.io/api/annotation\"\"\"\n",
    "\n",
    "def bigrams(texts):\n",
    "    return [bigram_mod[doc] for doc in texts]\n",
    "\n",
    "def trigrams(texts):\n",
    "    return [trigram_mod[bigram_mod[doc]] for doc in texts]\n",
    "\n",
    "def lemmatization(texts, allowed_postags=['NOUN', 'ADJ', 'VERB', 'ADV']):\n",
    "    texts_out = []\n",
    "    for sent in texts:\n",
    "        doc = nlp(\" \".join(sent)) \n",
    "        texts_out.append([token.lemma_ for token in doc if token.pos_ in allowed_postags])\n",
    "    return texts_out\n",
    "\n",
    "def words(sentences):\n",
    "    for sentence in sentences:\n",
    "        yield(gensim.utils.simple_preprocess(str(sentence), deacc=True))"
   ]
  },
  {
   "cell_type": "code",
   "execution_count": 12,
   "metadata": {},
   "outputs": [
    {
     "name": "stdout",
     "output_type": "stream",
     "text": [
      "[['subjective', 'yearold', 'white', 'female', 'present', 'complaint', 'allergy', 'allergy', 'live', 'bad', 'try', 'claritin', 'zyrtec', 'work', 'short', 'seem', 'lose', 'effectiveness', 'allegra', 'also', 'summer', 'begin', 'week', 'ago', 'appear', 'work', 'well', 'overthecounter', 'spray', 'prescription', 'nasal', 'spray', 'asthma', 'do', 'require', 'upmedication', 'medication', 'currently', 'ortho', 'tricyclen', 'know', 'medicine', 'weight', 'pound', 'blood', 'pressure', 'heent', 'throat', 'mildly', 'erythematous', 'exudate', 'nasal', 'mucosa', 'erythematous', 'swollen', 'clear', 'drainage', 'clearassessment', 'allergic', 'rhinitisplan', 'try', 'zyrtec', 'instead', 'allegra', 'option', 'loratadine', 'prescription', 'coverage', 'may', 'cheap', 'sample', 'give', 'week', 'prescription', 'write', 'well']]\n"
     ]
    }
   ],
   "source": [
    "# bigrams\n",
    "med_bigrams = bigrams(med_words)\n",
    "med_bigrams\n",
    "# lemmatization\n",
    "med_lemmatized = lemmatization(med_bigrams, allowed_postags=['NOUN', 'ADJ', 'VERB', 'ADV'])\n",
    "print(med_lemmatized[:1])"
   ]
  },
  {
   "cell_type": "code",
   "execution_count": 13,
   "metadata": {},
   "outputs": [],
   "source": [
    "# Dictionary\n",
    "id2word = corpora.Dictionary(med_lemmatized)\n",
    "# Corpus\n",
    "texts = med_lemmatized\n",
    "# transcription term frequency\n",
    "corpus = [id2word.doc2bow(text) for text in texts]"
   ]
  },
  {
   "cell_type": "code",
   "execution_count": 14,
   "metadata": {},
   "outputs": [],
   "source": [
    "# LDA model\n",
    "lda_model = gensim.models.ldamodel.LdaModel(corpus=corpus,\n",
    "                                           id2word=id2word,\n",
    "                                           num_topics=8, \n",
    "                                           random_state=10,\n",
    "                                           update_every=1,\n",
    "                                           chunksize=100,\n",
    "                                           passes=10,\n",
    "                                           alpha='auto',\n",
    "                                           per_word_topics=True)"
   ]
  },
  {
   "cell_type": "code",
   "execution_count": 15,
   "metadata": {},
   "outputs": [
    {
     "name": "stdout",
     "output_type": "stream",
     "text": [
      "[(0,\n",
      "  '0.041*\"normal\" + 0.032*\"history\" + 0.022*\"blood\" + 0.020*\"heart\" + '\n",
      "  '0.019*\"rate\" + 0.018*\"chest\" + 0.016*\"negative\" + 0.013*\"pressure\" + '\n",
      "  '0.011*\"show\" + 0.010*\"disease\"'),\n",
      " (1,\n",
      "  '0.035*\"patient\" + 0.030*\"place\" + 0.022*\"procedure\" + 0.017*\"suture\" + '\n",
      "  '0.016*\"remove\" + 0.014*\"incision\" + 0.012*\"take\" + 0.012*\"tube\" + '\n",
      "  '0.012*\"room\" + 0.011*\"skin\"'),\n",
      " (2,\n",
      "  '0.023*\"right\" + 0.017*\"graft\" + 0.016*\"leave\" + 0.012*\"area\" + 0.011*\"skin\" '\n",
      "  '+ 0.009*\"patient\" + 0.009*\"foot\" + 0.008*\"wound\" + 0.007*\"perform\" + '\n",
      "  '0.007*\"tissue\"'),\n",
      " (3,\n",
      "  '0.054*\"patient\" + 0.029*\"history\" + 0.020*\"pain\" + 0.013*\"also\" + '\n",
      "  '0.010*\"deny\" + 0.010*\"medical\" + 0.008*\"state\" + 0.008*\"year\" + 0.008*\"day\" '\n",
      "  '+ 0.007*\"present\"'),\n",
      " (4,\n",
      "  '0.046*\"leave\" + 0.043*\"artery\" + 0.035*\"right\" + 0.024*\"coronary\" + '\n",
      "  '0.019*\"patient\" + 0.012*\"perform\" + 0.012*\"pulmonary\" + 0.011*\"procedure\" + '\n",
      "  '0.011*\"catheter\" + 0.010*\"stenosis\"'),\n",
      " (5,\n",
      "  '0.035*\"knee\" + 0.023*\"fracture\" + 0.020*\"pain\" + 0.018*\"hip\" + '\n",
      "  '0.016*\"right\" + 0.016*\"extremity\" + 0.014*\"joint\" + 0.013*\"injury\" + '\n",
      "  '0.011*\"anterior\" + 0.011*\"lateral\"'),\n",
      " (6,\n",
      "  '0.028*\"right\" + 0.025*\"leave\" + 0.013*\"low\" + 0.012*\"upper\" + '\n",
      "  '0.012*\"normal\" + 0.012*\"reveal\" + 0.011*\"neck\" + 0.009*\"appear\" + '\n",
      "  '0.009*\"evidence\" + 0.008*\"also\"'),\n",
      " (7,\n",
      "  '0.025*\"abdominal\" + 0.019*\"colon\" + 0.015*\"small\" + 0.013*\"bowel\" + '\n",
      "  '0.013*\"bladder\" + 0.012*\"normal\" + 0.011*\"document\" + 0.011*\"note\" + '\n",
      "  '0.011*\"abdoman\" + 0.011*\"low\"')]\n"
     ]
    }
   ],
   "source": [
    "from pprint import pprint\n",
    "# Topics key words\n",
    "pprint(lda_model.print_topics())\n",
    "lda = lda_model[corpus]"
   ]
  },
  {
   "cell_type": "code",
   "execution_count": 16,
   "metadata": {},
   "outputs": [
    {
     "name": "stdout",
     "output_type": "stream",
     "text": [
      "Perplexity:  -7.615898771183485\n",
      "Coherence:  0.4937981498294672\n"
     ]
    }
   ],
   "source": [
    "# Perplexity measures the model with lower scores being the goal and a sign of a good model\n",
    "print('Perplexity: ', lda_model.log_perplexity(corpus))\n",
    "\n",
    "# Coherence measures the proposed topics distinguishability\n",
    "coherence_lda = CoherenceModel(model=lda_model, texts=texts, dictionary=id2word, coherence='c_v')\n",
    "coherence = coherence_lda.get_coherence()\n",
    "print('Coherence: ', coherence)"
   ]
  },
  {
   "cell_type": "code",
   "execution_count": 17,
   "metadata": {},
   "outputs": [
    {
     "data": {
      "text/html": [
       "<div>\n",
       "<style scoped>\n",
       "    .dataframe tbody tr th:only-of-type {\n",
       "        vertical-align: middle;\n",
       "    }\n",
       "\n",
       "    .dataframe tbody tr th {\n",
       "        vertical-align: top;\n",
       "    }\n",
       "\n",
       "    .dataframe thead th {\n",
       "        text-align: right;\n",
       "    }\n",
       "</style>\n",
       "<table border=\"1\" class=\"dataframe\">\n",
       "  <thead>\n",
       "    <tr style=\"text-align: right;\">\n",
       "      <th></th>\n",
       "      <th>Unnamed: 0</th>\n",
       "      <th>description</th>\n",
       "      <th>medical_specialty</th>\n",
       "      <th>sample_name</th>\n",
       "      <th>transcription</th>\n",
       "      <th>keywords</th>\n",
       "      <th>clean</th>\n",
       "    </tr>\n",
       "  </thead>\n",
       "  <tbody>\n",
       "    <tr>\n",
       "      <th>0</th>\n",
       "      <td>0</td>\n",
       "      <td>A 23-year-old white female presents with comp...</td>\n",
       "      <td>Allergy / Immunology</td>\n",
       "      <td>Allergic Rhinitis</td>\n",
       "      <td>SUBJECTIVE:,  This 23-year-old white female pr...</td>\n",
       "      <td>allergy / immunology, allergic rhinitis, aller...</td>\n",
       "      <td>subjective yearold white female present compla...</td>\n",
       "    </tr>\n",
       "    <tr>\n",
       "      <th>1</th>\n",
       "      <td>1</td>\n",
       "      <td>Consult for laparoscopic gastric bypass.</td>\n",
       "      <td>Bariatrics</td>\n",
       "      <td>Laparoscopic Gastric Bypass Consult - 2</td>\n",
       "      <td>PAST MEDICAL HISTORY:, He has difficulty climb...</td>\n",
       "      <td>bariatrics, laparoscopic gastric bypass, weigh...</td>\n",
       "      <td>past medical history difficulty climb_stair di...</td>\n",
       "    </tr>\n",
       "    <tr>\n",
       "      <th>2</th>\n",
       "      <td>2</td>\n",
       "      <td>Consult for laparoscopic gastric bypass.</td>\n",
       "      <td>Bariatrics</td>\n",
       "      <td>Laparoscopic Gastric Bypass Consult - 1</td>\n",
       "      <td>HISTORY OF PRESENT ILLNESS: , I have seen ABC ...</td>\n",
       "      <td>bariatrics, laparoscopic gastric bypass, heart...</td>\n",
       "      <td>history present today old overweight year age ...</td>\n",
       "    </tr>\n",
       "    <tr>\n",
       "      <th>3</th>\n",
       "      <td>3</td>\n",
       "      <td>2-D M-Mode. Doppler.</td>\n",
       "      <td>Cardiovascular / Pulmonary</td>\n",
       "      <td>2-D Echocardiogram - 1</td>\n",
       "      <td>2-D M-MODE: , ,1.  Left atrial enlargement wit...</td>\n",
       "      <td>cardiovascular / pulmonary, 2-d m-mode, dopple...</td>\n",
       "      <td>leave atrial enlargement leave atrial diameter...</td>\n",
       "    </tr>\n",
       "    <tr>\n",
       "      <th>4</th>\n",
       "      <td>4</td>\n",
       "      <td>2-D Echocardiogram</td>\n",
       "      <td>Cardiovascular / Pulmonary</td>\n",
       "      <td>2-D Echocardiogram - 2</td>\n",
       "      <td>1.  The left ventricular cavity size and wall ...</td>\n",
       "      <td>cardiovascular / pulmonary, 2-d, doppler, echo...</td>\n",
       "      <td>leave ventricular cavity size wall thickness a...</td>\n",
       "    </tr>\n",
       "  </tbody>\n",
       "</table>\n",
       "</div>"
      ],
      "text/plain": [
       "   Unnamed: 0                                        description  \\\n",
       "0           0   A 23-year-old white female presents with comp...   \n",
       "1           1           Consult for laparoscopic gastric bypass.   \n",
       "2           2           Consult for laparoscopic gastric bypass.   \n",
       "3           3                             2-D M-Mode. Doppler.     \n",
       "4           4                                 2-D Echocardiogram   \n",
       "\n",
       "             medical_specialty                                sample_name  \\\n",
       "0         Allergy / Immunology                         Allergic Rhinitis    \n",
       "1                   Bariatrics   Laparoscopic Gastric Bypass Consult - 2    \n",
       "2                   Bariatrics   Laparoscopic Gastric Bypass Consult - 1    \n",
       "3   Cardiovascular / Pulmonary                    2-D Echocardiogram - 1    \n",
       "4   Cardiovascular / Pulmonary                    2-D Echocardiogram - 2    \n",
       "\n",
       "                                       transcription  \\\n",
       "0  SUBJECTIVE:,  This 23-year-old white female pr...   \n",
       "1  PAST MEDICAL HISTORY:, He has difficulty climb...   \n",
       "2  HISTORY OF PRESENT ILLNESS: , I have seen ABC ...   \n",
       "3  2-D M-MODE: , ,1.  Left atrial enlargement wit...   \n",
       "4  1.  The left ventricular cavity size and wall ...   \n",
       "\n",
       "                                            keywords  \\\n",
       "0  allergy / immunology, allergic rhinitis, aller...   \n",
       "1  bariatrics, laparoscopic gastric bypass, weigh...   \n",
       "2  bariatrics, laparoscopic gastric bypass, heart...   \n",
       "3  cardiovascular / pulmonary, 2-d m-mode, dopple...   \n",
       "4  cardiovascular / pulmonary, 2-d, doppler, echo...   \n",
       "\n",
       "                                               clean  \n",
       "0  subjective yearold white female present compla...  \n",
       "1  past medical history difficulty climb_stair di...  \n",
       "2  history present today old overweight year age ...  \n",
       "3  leave atrial enlargement leave atrial diameter...  \n",
       "4  leave ventricular cavity size wall thickness a...  "
      ]
     },
     "execution_count": 17,
     "metadata": {},
     "output_type": "execute_result"
    }
   ],
   "source": [
    "for i in range(len(med_lemmatized)):\n",
    "    med_lemmatized[i] = ' '.join(med_lemmatized[i])\n",
    "    \n",
    "df['clean'] = med_lemmatized\n",
    "df.head()"
   ]
  },
  {
   "cell_type": "code",
   "execution_count": 18,
   "metadata": {},
   "outputs": [
    {
     "name": "stderr",
     "output_type": "stream",
     "text": [
      "C:\\Users\\607791\\Anaconda\\lib\\site-packages\\pyLDAvis\\_prepare.py:257: FutureWarning: Sorting because non-concatenation axis is not aligned. A future version\n",
      "of pandas will change to not sort by default.\n",
      "\n",
      "To accept the future behavior, pass 'sort=False'.\n",
      "\n",
      "To retain the current behavior and silence the warning, pass 'sort=True'.\n",
      "\n",
      "  return pd.concat([default_term_info] + list(topic_dfs))\n"
     ]
    },
    {
     "data": {
      "text/html": [
       "\n",
       "<link rel=\"stylesheet\" type=\"text/css\" href=\"https://cdn.rawgit.com/bmabey/pyLDAvis/files/ldavis.v1.0.0.css\">\n",
       "\n",
       "\n",
       "<div id=\"ldavis_el55008018511194123526231380746\"></div>\n",
       "<script type=\"text/javascript\">\n",
       "\n",
       "var ldavis_el55008018511194123526231380746_data = {\"mdsDat\": {\"x\": [-0.1306408826318742, 0.19060652039549664, -0.017876791592395268, -0.31672185142299053, 0.10476246414226938, 0.2056694571008807, 0.09967917251815778, -0.13547808850954446], \"y\": [0.19874650684251632, 0.1162282721167698, -0.12191649476107702, 0.10622409284095388, 0.06986638810118583, 0.029307236405061016, -0.1363107715545441, -0.26214522999086515], \"topics\": [1, 2, 3, 4, 5, 6, 7, 8], \"cluster\": [1, 1, 1, 1, 1, 1, 1, 1], \"Freq\": [26.5465145111084, 20.673826217651367, 13.913030624389648, 10.74335765838623, 10.407041549682617, 8.688398361206055, 5.528524875640869, 3.4993057250976562]}, \"tinfo\": {\"Category\": [\"Default\", \"Default\", \"Default\", \"Default\", \"Default\", \"Default\", \"Default\", \"Default\", \"Default\", \"Default\", \"Default\", \"Default\", \"Default\", \"Default\", \"Default\", \"Default\", \"Default\", \"Default\", \"Default\", \"Default\", \"Default\", \"Default\", \"Default\", \"Default\", \"Default\", \"Default\", \"Default\", \"Default\", \"Default\", \"Default\", \"Topic1\", \"Topic1\", \"Topic1\", \"Topic1\", \"Topic1\", \"Topic1\", \"Topic1\", \"Topic1\", \"Topic1\", \"Topic1\", \"Topic1\", \"Topic1\", \"Topic1\", \"Topic1\", \"Topic1\", \"Topic1\", \"Topic1\", \"Topic1\", \"Topic1\", \"Topic1\", \"Topic1\", \"Topic1\", \"Topic1\", \"Topic1\", \"Topic1\", \"Topic1\", \"Topic1\", \"Topic1\", \"Topic1\", \"Topic1\", \"Topic1\", \"Topic1\", \"Topic1\", \"Topic1\", \"Topic1\", \"Topic1\", \"Topic1\", \"Topic1\", \"Topic1\", \"Topic1\", \"Topic1\", \"Topic1\", \"Topic1\", \"Topic1\", \"Topic1\", \"Topic1\", \"Topic1\", \"Topic1\", \"Topic1\", \"Topic1\", \"Topic1\", \"Topic1\", \"Topic1\", \"Topic1\", \"Topic1\", \"Topic1\", \"Topic1\", \"Topic1\", \"Topic1\", \"Topic1\", \"Topic1\", \"Topic1\", \"Topic1\", \"Topic1\", \"Topic1\", \"Topic1\", \"Topic1\", \"Topic1\", \"Topic1\", \"Topic1\", \"Topic1\", \"Topic2\", \"Topic2\", \"Topic2\", \"Topic2\", \"Topic2\", \"Topic2\", \"Topic2\", \"Topic2\", \"Topic2\", \"Topic2\", \"Topic2\", \"Topic2\", \"Topic2\", \"Topic2\", \"Topic2\", \"Topic2\", \"Topic2\", \"Topic2\", \"Topic2\", \"Topic2\", \"Topic2\", \"Topic2\", \"Topic2\", \"Topic2\", \"Topic2\", \"Topic2\", \"Topic2\", \"Topic2\", \"Topic2\", \"Topic2\", \"Topic2\", \"Topic2\", \"Topic2\", \"Topic2\", \"Topic2\", \"Topic2\", \"Topic2\", \"Topic2\", \"Topic2\", \"Topic2\", \"Topic2\", \"Topic2\", \"Topic2\", \"Topic2\", \"Topic2\", \"Topic2\", \"Topic2\", \"Topic2\", \"Topic2\", \"Topic2\", \"Topic2\", \"Topic2\", \"Topic2\", \"Topic2\", \"Topic2\", \"Topic2\", \"Topic2\", \"Topic2\", \"Topic2\", \"Topic2\", \"Topic2\", \"Topic2\", \"Topic2\", \"Topic2\", \"Topic2\", \"Topic2\", \"Topic2\", \"Topic2\", \"Topic2\", \"Topic2\", \"Topic2\", \"Topic3\", \"Topic3\", \"Topic3\", \"Topic3\", \"Topic3\", \"Topic3\", \"Topic3\", \"Topic3\", \"Topic3\", \"Topic3\", \"Topic3\", \"Topic3\", \"Topic3\", \"Topic3\", \"Topic3\", \"Topic3\", \"Topic3\", \"Topic3\", \"Topic3\", \"Topic3\", \"Topic3\", \"Topic3\", \"Topic3\", \"Topic3\", \"Topic3\", \"Topic3\", \"Topic3\", \"Topic3\", \"Topic3\", \"Topic3\", \"Topic3\", \"Topic3\", \"Topic3\", \"Topic3\", \"Topic3\", \"Topic3\", \"Topic3\", \"Topic3\", \"Topic3\", \"Topic3\", \"Topic3\", \"Topic3\", \"Topic3\", \"Topic3\", \"Topic3\", \"Topic3\", \"Topic3\", \"Topic3\", \"Topic3\", \"Topic3\", \"Topic3\", \"Topic3\", \"Topic3\", \"Topic3\", \"Topic3\", \"Topic3\", \"Topic3\", \"Topic3\", \"Topic3\", \"Topic3\", \"Topic3\", \"Topic3\", \"Topic3\", \"Topic4\", \"Topic4\", \"Topic4\", \"Topic4\", \"Topic4\", \"Topic4\", \"Topic4\", \"Topic4\", \"Topic4\", \"Topic4\", \"Topic4\", \"Topic4\", \"Topic4\", \"Topic4\", \"Topic4\", \"Topic4\", \"Topic4\", \"Topic4\", \"Topic4\", \"Topic4\", \"Topic4\", \"Topic4\", \"Topic4\", \"Topic4\", \"Topic4\", \"Topic4\", \"Topic4\", \"Topic4\", \"Topic4\", \"Topic4\", \"Topic4\", \"Topic4\", \"Topic4\", \"Topic4\", \"Topic4\", \"Topic4\", \"Topic4\", \"Topic4\", \"Topic4\", \"Topic4\", \"Topic4\", \"Topic4\", \"Topic4\", \"Topic4\", \"Topic4\", \"Topic4\", \"Topic4\", \"Topic4\", \"Topic4\", \"Topic4\", \"Topic4\", \"Topic4\", \"Topic4\", \"Topic4\", \"Topic4\", \"Topic4\", \"Topic4\", \"Topic4\", \"Topic4\", \"Topic4\", \"Topic4\", \"Topic4\", \"Topic4\", \"Topic5\", \"Topic5\", \"Topic5\", \"Topic5\", \"Topic5\", \"Topic5\", \"Topic5\", \"Topic5\", \"Topic5\", \"Topic5\", \"Topic5\", \"Topic5\", \"Topic5\", \"Topic5\", \"Topic5\", \"Topic5\", \"Topic5\", \"Topic5\", \"Topic5\", \"Topic5\", \"Topic5\", \"Topic5\", \"Topic5\", \"Topic5\", \"Topic5\", \"Topic5\", \"Topic5\", \"Topic5\", \"Topic5\", \"Topic5\", \"Topic5\", \"Topic5\", \"Topic5\", \"Topic5\", \"Topic5\", \"Topic5\", \"Topic5\", \"Topic5\", \"Topic5\", \"Topic5\", \"Topic5\", \"Topic5\", \"Topic5\", \"Topic5\", \"Topic5\", \"Topic5\", \"Topic5\", \"Topic5\", \"Topic5\", \"Topic5\", \"Topic5\", \"Topic5\", \"Topic5\", \"Topic5\", \"Topic5\", \"Topic5\", \"Topic6\", \"Topic6\", \"Topic6\", \"Topic6\", \"Topic6\", \"Topic6\", \"Topic6\", \"Topic6\", \"Topic6\", \"Topic6\", \"Topic6\", \"Topic6\", \"Topic6\", \"Topic6\", \"Topic6\", \"Topic6\", \"Topic6\", \"Topic6\", \"Topic6\", \"Topic6\", \"Topic6\", \"Topic6\", \"Topic6\", \"Topic6\", \"Topic6\", \"Topic6\", \"Topic6\", \"Topic6\", \"Topic6\", \"Topic6\", \"Topic6\", \"Topic6\", \"Topic6\", \"Topic6\", \"Topic6\", \"Topic6\", \"Topic6\", \"Topic6\", \"Topic6\", \"Topic6\", \"Topic6\", \"Topic6\", \"Topic6\", \"Topic6\", \"Topic6\", \"Topic6\", \"Topic6\", \"Topic6\", \"Topic6\", \"Topic6\", \"Topic6\", \"Topic6\", \"Topic6\", \"Topic6\", \"Topic6\", \"Topic6\", \"Topic6\", \"Topic6\", \"Topic6\", \"Topic6\", \"Topic6\", \"Topic6\", \"Topic6\", \"Topic6\", \"Topic7\", \"Topic7\", \"Topic7\", \"Topic7\", \"Topic7\", \"Topic7\", \"Topic7\", \"Topic7\", \"Topic7\", \"Topic7\", \"Topic7\", \"Topic7\", \"Topic7\", \"Topic7\", \"Topic7\", \"Topic7\", \"Topic7\", \"Topic7\", \"Topic7\", \"Topic7\", \"Topic7\", \"Topic7\", \"Topic7\", \"Topic7\", \"Topic7\", \"Topic7\", \"Topic7\", \"Topic7\", \"Topic7\", \"Topic7\", \"Topic7\", \"Topic7\", \"Topic7\", \"Topic7\", \"Topic7\", \"Topic7\", \"Topic7\", \"Topic7\", \"Topic7\", \"Topic7\", \"Topic7\", \"Topic7\", \"Topic7\", \"Topic7\", \"Topic7\", \"Topic7\", \"Topic7\", \"Topic7\", \"Topic7\", \"Topic7\", \"Topic7\", \"Topic7\", \"Topic7\", \"Topic7\", \"Topic7\", \"Topic7\", \"Topic7\", \"Topic7\", \"Topic7\", \"Topic7\", \"Topic8\", \"Topic8\", \"Topic8\", \"Topic8\", \"Topic8\", \"Topic8\", \"Topic8\", \"Topic8\", \"Topic8\", \"Topic8\", \"Topic8\", \"Topic8\", \"Topic8\", \"Topic8\", \"Topic8\", \"Topic8\", \"Topic8\", \"Topic8\", \"Topic8\", \"Topic8\", \"Topic8\", \"Topic8\", \"Topic8\", \"Topic8\", \"Topic8\", \"Topic8\", \"Topic8\", \"Topic8\", \"Topic8\", \"Topic8\", \"Topic8\", \"Topic8\", \"Topic8\", \"Topic8\", \"Topic8\", \"Topic8\", \"Topic8\", \"Topic8\", \"Topic8\", \"Topic8\", \"Topic8\", \"Topic8\", \"Topic8\", \"Topic8\", \"Topic8\", \"Topic8\", \"Topic8\", \"Topic8\", \"Topic8\", \"Topic8\", \"Topic8\", \"Topic8\", \"Topic8\", \"Topic8\", \"Topic8\", \"Topic8\"], \"Freq\": [9750.0, 4017.0, 10812.0, 21205.0, 10389.0, 6370.0, 5606.0, 5104.0, 6548.0, 1674.0, 2298.0, 3707.0, 3120.0, 2939.0, 1892.0, 2131.0, 2945.0, 1528.0, 1261.0, 3424.0, 1126.0, 3332.0, 2187.0, 1393.0, 3444.0, 2257.0, 2209.0, 1964.0, 2603.0, 1940.0, 2208.6826171875, 1548.60498046875, 922.5887451171875, 467.3905334472656, 459.3322448730469, 456.5308837890625, 400.0259704589844, 398.3222961425781, 381.82904052734375, 380.66607666015625, 373.9738464355469, 368.0033264160156, 363.6796875, 363.5312805175781, 362.49859619140625, 350.393798828125, 345.2543029785156, 344.4416809082031, 342.2396240234375, 327.40399169921875, 326.34527587890625, 315.2308654785156, 309.9549255371094, 308.3941955566406, 305.9707946777344, 287.7564392089844, 269.68359375, 269.7570495605469, 265.7248229980469, 262.9988708496094, 1247.253173828125, 1839.781005859375, 963.2875366210938, 708.2874145507812, 2195.34130859375, 1291.30224609375, 1823.0054931640625, 554.2160034179688, 1031.502197265625, 876.6343994140625, 447.4786376953125, 1084.5665283203125, 1085.9996337890625, 579.2546997070312, 4523.52197265625, 1802.45703125, 579.7838745117188, 934.7058715820312, 1250.4237060546875, 6690.96337890625, 1338.1334228515625, 793.7953491210938, 12421.3408203125, 649.7438354492188, 753.3294677734375, 1342.52734375, 1212.448974609375, 2880.6943359375, 1099.4637451171875, 1154.2236328125, 1391.8974609375, 816.7467651367188, 1340.927978515625, 1640.6087646484375, 1367.2374267578125, 939.7330322265625, 1150.0142822265625, 1462.5035400390625, 1155.249267578125, 1097.3702392578125, 995.4857177734375, 639.4517822265625, 635.7637939453125, 573.905517578125, 434.20709228515625, 420.029541015625, 387.9706115722656, 373.3980407714844, 368.3651123046875, 369.87982177734375, 599.0746459960938, 349.404541015625, 349.2807312011719, 342.6406555175781, 308.4173278808594, 249.44113159179688, 228.41981506347656, 212.56585693359375, 213.32473754882812, 199.4171905517578, 198.08665466308594, 188.35321044921875, 184.73483276367188, 177.91490173339844, 367.3435363769531, 159.57565307617188, 153.96331787109375, 150.37339782714844, 143.66937255859375, 137.72335815429688, 133.54136657714844, 2163.84228515625, 3032.9892578125, 552.5010375976562, 1323.8001708984375, 951.6851196289062, 1999.3760986328125, 930.56884765625, 2583.5654296875, 365.6192321777344, 5410.4111328125, 678.9721069335938, 839.5973510742188, 645.7337036132812, 1865.2894287109375, 2836.290771484375, 880.2952880859375, 3907.644775390625, 772.5281982421875, 1292.3465576171875, 1783.28076171875, 1051.0816650390625, 1200.6031494140625, 2149.2900390625, 706.9635620117188, 2054.67626953125, 1149.9542236328125, 2234.06396484375, 1078.6263427734375, 1382.014404296875, 6243.13330078125, 1036.03271484375, 1162.0625, 1702.8350830078125, 884.9613037109375, 993.0051879882812, 2006.5050048828125, 1225.01025390625, 1155.6361083984375, 1170.323486328125, 1222.770751953125, 966.9537963867188, 693.3225708007812, 492.80560302734375, 359.8346862792969, 351.28680419921875, 344.646484375, 329.54949951171875, 328.10015869140625, 324.6577453613281, 315.8782958984375, 286.7191467285156, 274.10369873046875, 272.5760192871094, 326.6356201171875, 259.3995056152344, 247.58302307128906, 237.73995971679688, 231.6499786376953, 230.55690002441406, 229.9088897705078, 227.91957092285156, 221.53419494628906, 219.22666931152344, 217.85467529296875, 217.99298095703125, 207.7091064453125, 200.61453247070312, 192.02883911132812, 190.1192169189453, 189.13934326171875, 185.97122192382812, 486.2955627441406, 475.0046081542969, 1396.30810546875, 367.6046447753906, 404.4871826171875, 1368.3233642578125, 1490.4857177734375, 347.70611572265625, 1133.873291015625, 899.0968017578125, 1564.1163330078125, 3379.817626953125, 1144.015869140625, 2955.1435546875, 625.9089965820312, 717.8773193359375, 374.1161193847656, 788.07177734375, 1424.972412109375, 728.475830078125, 535.3321533203125, 512.1229248046875, 518.8590698242188, 921.0489501953125, 541.702392578125, 421.4367980957031, 589.1651000976562, 734.9894409179688, 470.41339111328125, 563.6822509765625, 605.1468505859375, 474.8338623046875, 516.8880615234375, 1527.67529296875, 781.689453125, 494.52996826171875, 491.72021484375, 461.02716064453125, 322.5567626953125, 324.71826171875, 317.7765808105469, 309.46051025390625, 259.84796142578125, 257.9231262207031, 256.1829528808594, 251.37744140625, 234.69451904296875, 198.2633056640625, 189.9072723388672, 191.20704650878906, 177.0737762451172, 174.42276000976562, 174.46206665039062, 169.44061279296875, 155.25221252441406, 151.58274841308594, 145.5426025390625, 139.84498596191406, 136.32257080078125, 135.57150268554688, 134.279052734375, 131.69651794433594, 130.77720642089844, 834.6015014648438, 1748.47119140625, 483.2464904785156, 255.20005798339844, 217.78021240234375, 1828.84228515625, 392.30535888671875, 921.665771484375, 861.2783813476562, 3803.7470703125, 2076.021240234375, 1649.3140869140625, 847.234619140625, 448.9914855957031, 320.5986022949219, 2971.913330078125, 662.0501708984375, 1167.7254638671875, 417.7422790527344, 924.7092895507812, 672.5891723632812, 713.7691040039062, 988.1383056640625, 363.2515563964844, 443.1455383300781, 831.2852783203125, 521.9617309570312, 809.6174926757812, 449.7864074707031, 468.4543151855469, 466.667236328125, 478.885009765625, 455.6339416503906, 607.8475952148438, 600.0963745117188, 578.505126953125, 521.4736328125, 489.36175537109375, 466.3563537597656, 418.44134521484375, 417.22998046875, 395.0208435058594, 367.844482421875, 362.5410461425781, 333.22564697265625, 287.475830078125, 285.29669189453125, 264.0798645019531, 225.5199737548828, 214.86573791503906, 206.89524841308594, 195.01205444335938, 187.66929626464844, 181.0391845703125, 166.3716278076172, 164.81565856933594, 163.4827880859375, 162.07070922851562, 162.07049560546875, 151.35543823242188, 151.25157165527344, 149.17433166503906, 145.2607421875, 3921.16845703125, 2126.484375, 344.8204040527344, 1009.2928466796875, 903.8720703125, 1042.8961181640625, 695.89208984375, 763.8065795898438, 528.9497680664062, 4170.9306640625, 315.4134521484375, 3194.04150390625, 620.0799560546875, 583.2144165039062, 491.3511657714844, 898.919189453125, 1043.8258056640625, 1033.167236328125, 395.94671630859375, 652.7437133789062, 1728.462646484375, 621.49365234375, 733.0759887695312, 538.5930786132812, 478.1459045410156, 481.4102478027344, 440.9264221191406, 382.2188720703125, 368.97509765625, 363.5813903808594, 345.1661376953125, 316.99749755859375, 291.1187438964844, 287.71630859375, 274.24127197265625, 255.6747589111328, 251.89418029785156, 238.97987365722656, 208.1728515625, 201.24180603027344, 198.74107360839844, 165.0414276123047, 156.43341064453125, 151.9056396484375, 150.3102264404297, 144.86097717285156, 141.7381591796875, 141.6749725341797, 140.32534790039062, 138.42604064941406, 138.14137268066406, 132.72152709960938, 132.0061798095703, 131.41537475585938, 128.1221923828125, 125.80084228515625, 389.8274230957031, 1259.7783203125, 222.02684020996094, 635.3483276367188, 454.7098388671875, 232.13328552246094, 203.97442626953125, 665.7052001953125, 364.25006103515625, 241.4722442626953, 240.4215087890625, 490.19989013671875, 221.1552276611328, 915.7022705078125, 1709.0538330078125, 792.2957763671875, 335.9053039550781, 388.9087219238281, 1196.1256103515625, 314.2497863769531, 406.5990295410156, 532.1861572265625, 446.3709716796875, 433.44482421875, 556.8715209960938, 342.78228759765625, 713.849609375, 474.6970520019531, 341.6253356933594, 332.8266906738281, 361.027099609375, 341.4712219238281, 342.71246337890625, 337.4715270996094, 1673.7066650390625, 467.0800476074219, 354.8304443359375, 271.19244384765625, 268.0552978515625, 260.7932434082031, 239.9414520263672, 217.1694793701172, 215.0126495361328, 197.71014404296875, 164.86070251464844, 163.27914428710938, 154.57290649414062, 152.71934509277344, 150.5366973876953, 120.96281433105469, 100.19287109375, 97.39063262939453, 97.53551483154297, 96.56983184814453, 92.3108901977539, 93.49637603759766, 90.69881439208984, 84.5563735961914, 83.4355697631836, 80.24840545654297, 78.20662689208984, 76.47455596923828, 74.53314971923828, 73.81050872802734, 1097.7054443359375, 332.7674560546875, 376.869140625, 852.4901733398438, 144.5661163330078, 197.60931396484375, 153.88893127441406, 222.42788696289062, 686.4640502929688, 313.0351867675781, 269.1667785644531, 271.5540771484375, 634.0867309570312, 174.9912872314453, 279.4994812011719, 264.3880310058594, 759.0708618164062, 320.21807861328125, 517.5770263671875, 977.31884765625, 471.64898681640625, 395.49005126953125, 533.5895385742188, 296.1770935058594, 769.4181518554688, 317.99664306640625, 298.6385803222656, 436.6329650878906, 483.352783203125, 338.33404541015625, 584.7686767578125, 294.463623046875, 259.9375915527344, 224.39486694335938, 215.4044952392578, 214.70648193359375, 177.65634155273438, 172.21583557128906, 164.14962768554688, 160.58689880371094, 154.25108337402344, 153.17552185058594, 149.23263549804688, 125.53469848632812, 127.23424530029297, 119.38722229003906, 105.2337875366211, 103.66824340820312, 97.31175994873047, 83.94062042236328, 82.9530029296875, 81.57181549072266, 80.91104125976562, 77.2386703491211, 75.98782348632812, 75.0748291015625, 74.48297882080078, 74.18374633789062, 71.52349090576172, 66.90706634521484, 345.9250793457031, 208.6513671875, 330.4530334472656, 142.00262451171875, 393.6556701660156, 406.3403625488281, 257.6031494140625, 749.5922241210938, 266.0784606933594, 264.7901306152344, 266.12823486328125, 136.07252502441406, 296.4415283203125, 452.97564697265625, 157.81251525878906, 292.40997314453125, 265.01422119140625, 258.3149719238281, 222.19508361816406, 303.9732666015625, 339.4508361816406, 324.2486267089844, 354.2989807128906, 246.61044311523438, 214.7022247314453, 172.2720184326172], \"Term\": [\"history\", \"artery\", \"leave\", \"patient\", \"right\", \"normal\", \"pain\", \"procedure\", \"place\", \"knee\", \"coronary\", \"blood\", \"suture\", \"chest\", \"rate\", \"heart\", \"incision\", \"negative\", \"abdominal\", \"remove\", \"fracture\", \"skin\", \"tube\", \"graft\", \"low\", \"extremity\", \"deny\", \"small\", \"pressure\", \"evidence\", \"deny\", \"medication\", \"currently\", \"visit\", \"daily\", \"walk\", \"past\", \"seizure\", \"heent\", \"drink\", \"eat\", \"allergy\", \"stroke\", \"atrial_fibrillation\", \"pleasant\", \"sleep\", \"tell\", \"alcohol\", \"diabete\", \"clinic\", \"mom\", \"physician\", \"occasional\", \"disorder\", \"drug\", \"want\", \"marry\", \"nee\", \"diabetes\", \"nontender\", \"problem\", \"state\", \"ago\", \"home\", \"medical\", \"report\", \"year\", \"complain\", \"month\", \"illness\", \"call\", \"treatment\", \"today\", \"complaint\", \"pain\", \"day\", \"pound\", \"plan\", \"symptom\", \"history\", \"would\", \"review\", \"patient\", \"know\", \"mother\", \"continue\", \"week\", \"also\", \"need\", \"feel\", \"yearold\", \"work\", \"include\", \"present\", \"give\", \"may\", \"surgery\", \"take\", \"significant\", \"well\", \"follow\", \"suction\", \"dissect\", \"pocket\", \"endotracheal\", \"fascia\", \"tie\", \"irrigate\", \"divide\", \"ligature\", \"secure\", \"clamp\", \"electrocautery\", \"stitch\", \"extubate\", \"thoracotomy\", \"interrupted\", \"instrument\", \"nipple\", \"tunnel\", \"superiorly\", \"mechanical\", \"true\", \"rib\", \"subcuticular\", \"irrigation\", \"harvest\", \"dressing_apply\", \"suite\", \"arrival\", \"protamine\", \"tube\", \"suture\", \"silk\", \"operate\", \"hemostasis\", \"fashion\", \"carry\", \"incision\", \"interrupt\", \"place\", \"preppe_drape\", \"recovery\", \"superior\", \"close\", \"remove\", \"supine\", \"procedure\", \"run\", \"sterile\", \"position\", \"dissection\", \"bring\", \"room\", \"cavity\", \"skin\", \"identify\", \"take\", \"tolerate\", \"tissue\", \"patient\", \"open\", \"diagnosis\", \"perform\", \"subcutaneous\", \"condition\", \"leave\", \"chest\", \"anterior\", \"area\", \"right\", \"blood\", \"nasal\", \"cervical\", \"experience\", \"brain\", \"face\", \"impression\", \"tongue\", \"facial\", \"nose\", \"die\", \"sinus\", \"sugar\", \"diagnostic\", \"doctor\", \"evening\", \"insulin\", \"symmetrical\", \"tracheostomy\", \"really\", \"frequent\", \"onset\", \"suspect\", \"lot\", \"orient\", \"edema\", \"airway\", \"man\", \"normally\", \"accident\", \"clinically\", \"lobe\", \"associate\", \"reveal\", \"diet\", \"involve\", \"neck\", \"upper\", \"primary\", \"evidence\", \"muscle\", \"low\", \"right\", \"appear\", \"leave\", \"lesion\", \"bilateral\", \"consistent\", \"side\", \"normal\", \"examination\", \"breast\", \"head\", \"could\", \"also\", \"multiple\", \"ear\", \"level\", \"area\", \"undergo\", \"small\", \"show\", \"acute\", \"note\", \"negative\", \"lung\", \"cough\", \"rhythm\", \"bid\", \"breath\", \"rash\", \"supple\", \"focal\", \"murmur\", \"daughter\", \"depression\", \"wheeze\", \"clear_auscultation\", \"respiration\", \"beat_per\", \"pleural\", \"tachycardia\", \"diarrhea\", \"aspirin\", \"tone\", \"headache\", \"social\", \"rise\", \"prednisone\", \"effusion\", \"hearing\", \"health\", \"baby\", \"sister\", \"respiratory\", \"rate\", \"admission\", \"equal\", \"rule\", \"heart\", \"sound\", \"pulse\", \"regular\", \"normal\", \"blood\", \"chest\", \"clear\", \"cardiac\", \"fever\", \"history\", \"hypertension\", \"pressure\", \"temperature\", \"disease\", \"bilaterally\", \"intact\", \"show\", \"palpable\", \"white\", \"present\", \"sign\", \"note\", \"failure\", \"admit\", \"minute\", \"system\", \"good\", \"ventricular\", \"advance\", \"main\", \"renal\", \"stent\", \"ventricle\", \"flow\", \"common\", \"aortic\", \"atrial\", \"circumflex\", \"descending\", \"contrast\", \"angiography\", \"balloon\", \"catheterization\", \"obstructive\", \"shunt\", \"oxygen\", \"tooth\", \"selective\", \"occlusion\", \"dominant\", \"atrium\", \"lad\", \"diagonal\", \"aspiration\", \"maximum\", \"subclavian\", \"verse\", \"artery\", \"coronary\", \"venous\", \"catheter\", \"stenosis\", \"pulmonary\", \"vessel\", \"femoral\", \"branch\", \"leave\", \"image\", \"right\", \"proximal\", \"distal\", \"wire\", \"pressure\", \"perform\", \"procedure\", \"lead\", \"obtain\", \"patient\", \"disease\", \"normal\", \"anterior\", \"significant\", \"give\", \"angioplasty\", \"occlude\", \"plaque\", \"carotid\", \"pericardial\", \"obtuse_marginal\", \"reduction\", \"elevation\", \"radial\", \"lavage\", \"pericardium\", \"cataract\", \"proximally\", \"stente\", \"fifth\", \"refill\", \"wedge\", \"modify\", \"limb\", \"outline\", \"cosmetic\", \"thumb\", \"occlusive\", \"congenital\", \"fourth\", \"measurement\", \"hemodialysis\", \"maximal\", \"circulation\", \"width\", \"implant\", \"graft\", \"collateral\", \"wound\", \"superficial\", \"engage\", \"mediastinal\", \"foot\", \"bypass\", \"forearm\", \"release\", \"eye\", \"establish\", \"area\", \"right\", \"skin\", \"medial\", \"wire\", \"leave\", \"toe\", \"distal\", \"tissue\", \"lateral\", \"site\", \"perform\", \"aspect\", \"patient\", \"note\", \"subcutaneous\", \"proximal\", \"incision\", \"follow\", \"place\", \"good\", \"knee\", \"disc\", \"flexion\", \"taper\", \"tibial\", \"balance\", \"disk\", \"lumbar_spine\", \"vertebral\", \"fusion\", \"pin\", \"disability\", \"ability\", \"instability\", \"force\", \"fluoroscopic\", \"lumbosacral\", \"radiculopathy\", \"cap\", \"progression\", \"impingement\", \"infiltration\", \"radicular\", \"penetration\", \"patellar\", \"neurologically\", \"arthrosis\", \"abduction\", \"protrusion\", \"meniscus\", \"fracture\", \"lumbar\", \"degenerative\", \"hip\", \"decompression\", \"plate\", \"orthopedic\", \"thigh\", \"joint\", \"spinal\", \"screw\", \"tear\", \"injury\", \"osteoarthritis\", \"compression\", \"spine\", \"extremity\", \"shoulder\", \"lateral\", \"pain\", \"posterior\", \"inch\", \"anterior\", \"degree\", \"right\", \"leg\", \"bone\", \"low\", \"leave\", \"back\", \"colon\", \"gallbladder\", \"colonoscopy\", \"pelvic\", \"progress\", \"questionable\", \"reasonable\", \"polyp\", \"vaginal\", \"delay\", \"uterine\", \"node\", \"distention\", \"invasion\", \"epigastric\", \"malignant\", \"diverticulosis\", \"hysterectomy\", \"sigmoid\", \"stain\", \"serve\", \"regularly\", \"prolapse\", \"nursing\", \"rectum\", \"lobectomy\", \"malignancy\", \"laparoscopic\", \"diverticulitis\", \"ovary\", \"document\", \"nodule\", \"abdoman\", \"suspicious\", \"bladder\", \"bowel\", \"adhesion\", \"abdominal\", \"kidney\", \"quadrant\", \"liver\", \"inflammatory\", \"tumor\", \"small\", \"pattern\", \"cancer\", \"size\", \"fluid\", \"port\", \"evidence\", \"note\", \"low\", \"normal\", \"appear\", \"find\", \"obstruction\"], \"Total\": [9750.0, 4017.0, 10812.0, 21205.0, 10389.0, 6370.0, 5606.0, 5104.0, 6548.0, 1674.0, 2298.0, 3707.0, 3120.0, 2939.0, 1892.0, 2131.0, 2945.0, 1528.0, 1261.0, 3424.0, 1126.0, 3332.0, 2187.0, 1393.0, 3444.0, 2257.0, 2209.0, 1964.0, 2603.0, 1940.0, 2209.775146484375, 1549.69775390625, 923.6815185546875, 468.483154296875, 460.4246826171875, 457.6239013671875, 401.1185607910156, 399.41448974609375, 382.9214782714844, 381.75848388671875, 375.0661315917969, 369.09619140625, 364.7728271484375, 364.6250915527344, 363.5919494628906, 351.4859313964844, 346.34759521484375, 345.5343933105469, 343.3330078125, 328.4973449707031, 327.4375, 316.3238525390625, 311.04876708984375, 309.4867248535156, 307.0645446777344, 288.8486633300781, 270.77630615234375, 270.8508605957031, 266.8175354003906, 264.092529296875, 1262.327880859375, 1878.02392578125, 988.0747680664062, 727.657470703125, 2339.533935546875, 1359.40869140625, 1960.0445556640625, 569.3360595703125, 1091.7645263671875, 921.5159301757812, 455.8916015625, 1163.1611328125, 1176.12890625, 601.951416015625, 5606.06787109375, 2109.934814453125, 610.1751708984375, 1051.449951171875, 1458.277099609375, 9750.6416015625, 1592.0384521484375, 887.8621215820312, 21205.814453125, 707.8636474609375, 842.5233764648438, 1701.9620361328125, 1506.7391357421875, 4520.85986328125, 1431.3148193359375, 1609.4639892578125, 2153.082763671875, 1003.9837646484375, 2212.3486328125, 3376.4814453125, 2614.62939453125, 1288.2137451171875, 2146.96826171875, 4117.6220703125, 2255.501953125, 2750.427490234375, 2532.9404296875, 640.4196166992188, 636.7313232421875, 574.876220703125, 435.1751403808594, 420.99700927734375, 388.9389953613281, 374.365478515625, 369.33282470703125, 370.8540954589844, 600.6714477539062, 350.3721923828125, 350.2481994628906, 343.6082458496094, 309.3856506347656, 250.4100799560547, 229.38711547851562, 213.5335693359375, 214.29920959472656, 200.38543701171875, 199.055419921875, 189.32777404785156, 185.71827697753906, 178.8968963623047, 369.46875, 160.54425048828125, 154.9315185546875, 151.34129333496094, 144.6405792236328, 138.7133331298828, 134.51162719726562, 2187.692626953125, 3120.517333984375, 569.0326538085938, 1401.9072265625, 1016.5012817382812, 2217.5341796875, 1003.64599609375, 2945.35546875, 380.01617431640625, 6548.42626953125, 731.2412719726562, 917.7232666015625, 695.2453002929688, 2162.039794921875, 3424.47119140625, 977.2029418945312, 5104.71826171875, 858.5988159179688, 1571.7606201171875, 2423.4765625, 1302.578857421875, 1576.4017333984375, 3242.34326171875, 828.970947265625, 3332.574462890625, 1643.7188720703125, 4117.6220703125, 1517.650634765625, 2200.17578125, 21205.814453125, 1483.49853515625, 1877.8408203125, 3883.688232421875, 1227.3505859375, 1600.6859130859375, 10812.39453125, 2939.306396484375, 2578.52880859375, 3210.696044921875, 10389.89453125, 3707.26416015625, 694.3931884765625, 493.8758544921875, 360.9112243652344, 352.3564453125, 345.7168273925781, 330.62139892578125, 329.1701354980469, 325.7288818359375, 316.9482727050781, 287.78955078125, 275.1756591796875, 273.6459045410156, 327.9234924316406, 260.4697265625, 248.65475463867188, 238.8102264404297, 232.7206268310547, 231.62962341308594, 230.9794464111328, 228.99070739746094, 222.60472106933594, 220.29757690429688, 218.92471313476562, 219.0637664794922, 208.78004455566406, 201.68515014648438, 193.09918212890625, 191.19131469726562, 190.20924377441406, 187.04258728027344, 490.7975158691406, 489.9523620605469, 1732.6390380859375, 398.9983215332031, 454.8356628417969, 1981.22119140625, 2238.794677734375, 399.4700622558594, 1940.2628173828125, 1469.1282958984375, 3444.732177734375, 10389.89453125, 2276.689453125, 10812.39453125, 1056.2291259765625, 1391.0084228515625, 492.3675231933594, 1847.93359375, 6370.5947265625, 1843.9215087890625, 1020.3295288085938, 974.5396728515625, 1031.067626953125, 4520.85986328125, 1204.918212890625, 650.2699584960938, 1705.7777099609375, 3210.696044921875, 993.0855712890625, 1964.4677734375, 2769.620849609375, 1251.978271484375, 4091.890380859375, 1528.7843017578125, 782.8002319335938, 495.63836669921875, 492.8287353515625, 462.13604736328125, 323.66522216796875, 325.83416748046875, 318.88482666015625, 310.5714416503906, 260.9562683105469, 259.0323791503906, 257.29248046875, 252.48565673828125, 235.8027801513672, 199.37220764160156, 191.0166778564453, 192.33282470703125, 178.18296813964844, 175.5309600830078, 175.57151794433594, 170.54925537109375, 156.36087036132812, 152.69178771972656, 146.66429138183594, 140.95338439941406, 137.43423461914062, 136.67991638183594, 135.38839721679688, 132.80511474609375, 131.8859405517578, 846.3416137695312, 1892.5943603515625, 518.5632934570312, 264.8919677734375, 225.01416015625, 2131.004638671875, 438.2092590332031, 1133.4730224609375, 1083.00341796875, 6370.5947265625, 3707.26416015625, 2939.306396484375, 1289.06982421875, 623.6441040039062, 393.3511962890625, 9750.6416015625, 1122.3114013671875, 2603.04736328125, 584.8733520507812, 2100.363525390625, 1302.11865234375, 1468.6651611328125, 2769.620849609375, 478.3762512207031, 716.3405151367188, 3376.4814453125, 1180.1478271484375, 4091.890380859375, 807.4588012695312, 969.0142822265625, 975.9314575195312, 1492.0848388671875, 2267.439208984375, 608.96044921875, 601.2094116210938, 579.6192016601562, 522.5863647460938, 490.47412109375, 467.4692077636719, 419.5541076660156, 418.34368896484375, 396.2159729003906, 368.95770263671875, 363.65350341796875, 334.3381042480469, 288.58837890625, 286.4095458984375, 265.19287109375, 226.63291931152344, 215.97865295410156, 208.00778198242188, 196.12538146972656, 188.78318786621094, 182.15411376953125, 167.48483276367188, 165.93173217773438, 164.59556579589844, 163.1837158203125, 163.190673828125, 152.46810913085938, 152.36611938476562, 150.29122924804688, 146.3733673095703, 4017.09619140625, 2298.670654296875, 360.8380126953125, 1151.815185546875, 1115.2666015625, 1327.07763671875, 928.5307006835938, 1039.6243896484375, 717.6815795898438, 10812.39453125, 390.69549560546875, 10389.89453125, 1028.02978515625, 1037.2916259765625, 881.1688842773438, 2603.04736328125, 3883.688232421875, 5104.71826171875, 604.7034301757812, 1935.1282958984375, 21205.814453125, 2100.363525390625, 6370.5947265625, 2578.52880859375, 2255.501953125, 2614.62939453125, 441.91510009765625, 383.2052001953125, 369.96337890625, 364.5684814453125, 346.15679931640625, 317.9947814941406, 292.10302734375, 288.7035217285156, 275.2288513183594, 256.6636962890625, 252.91415405273438, 239.9656219482422, 209.15704345703125, 202.23216247558594, 199.7270965576172, 166.02857971191406, 157.4240264892578, 152.89236450195312, 151.2950439453125, 145.84645080566406, 142.72219848632812, 142.65916442871094, 141.31068420410156, 139.41561889648438, 139.13070678710938, 133.7081298828125, 132.9957733154297, 132.4020538330078, 129.1082763671875, 126.78707122802734, 401.2333679199219, 1393.5743408203125, 241.79563903808594, 856.5645141601562, 584.289306640625, 265.6285400390625, 228.27816772460938, 1101.220947265625, 505.74560546875, 298.62261962890625, 309.2227478027344, 928.7037963867188, 280.7765808105469, 3210.696044921875, 10389.89453125, 3332.574462890625, 627.8911743164062, 881.1688842773438, 10812.39453125, 564.4701538085938, 1037.2916259765625, 2200.17578125, 1415.671875, 1346.6434326171875, 3883.688232421875, 855.4907836914062, 21205.814453125, 4091.890380859375, 1227.3505859375, 1028.02978515625, 2945.35546875, 2532.9404296875, 6548.42626953125, 2267.439208984375, 1674.6634521484375, 468.0362854003906, 355.7867126464844, 272.1564025878906, 269.0131530761719, 261.75225830078125, 240.89764404296875, 218.12557983398438, 215.971435546875, 198.6664581298828, 165.81863403320312, 164.23687744140625, 155.5326385498047, 153.67678833007812, 151.49642944335938, 121.9930191040039, 101.14913177490234, 98.34637451171875, 98.49546813964844, 97.5283203125, 93.26689910888672, 94.46601867675781, 91.65496063232422, 85.51502227783203, 84.39204406738281, 81.2099380493164, 79.16271209716797, 77.43116760253906, 75.49026489257812, 74.76618957519531, 1126.5316162109375, 339.8878173828125, 403.14068603515625, 944.8042602539062, 153.73609924316406, 226.24261474609375, 170.0858917236328, 263.2287292480469, 1009.6580200195312, 408.2060241699219, 342.0260009765625, 355.5497131347656, 1158.71826171875, 212.95726013183594, 408.57586669921875, 401.93353271484375, 2257.833984375, 578.7198486328125, 1415.671875, 5606.06787109375, 1542.8675537109375, 1097.3472900390625, 2578.52880859375, 668.3997192382812, 10389.89453125, 915.7071533203125, 739.5491333007812, 3444.732177734375, 10812.39453125, 1625.0733642578125, 585.7939453125, 295.4889221191406, 260.96319580078125, 225.42103576660156, 216.433837890625, 215.73348999023438, 178.68807983398438, 173.24118041992188, 165.17543029785156, 161.61618041992188, 155.27651977539062, 154.20152282714844, 150.25930786132812, 126.56024169921875, 128.28196716308594, 120.41498565673828, 106.25953674316406, 104.6950912475586, 98.33702850341797, 84.97196960449219, 83.98042297363281, 82.599365234375, 81.94012451171875, 78.269775390625, 77.01388549804688, 76.10260772705078, 75.50901794433594, 75.20957946777344, 72.54998779296875, 67.9321060180664, 357.96771240234375, 226.45335388183594, 388.8761291503906, 160.0992889404297, 541.9784545898438, 576.3803100585938, 335.5472412109375, 1261.791015625, 403.10809326171875, 430.54803466796875, 438.10284423828125, 173.93167114257812, 741.325927734375, 1964.4677734375, 243.31039428710938, 999.3838500976562, 845.3989868164062, 906.5242919921875, 693.5731811523438, 1940.2628173828125, 4091.890380859375, 3444.732177734375, 6370.5947265625, 2276.689453125, 1658.3236083984375, 387.75567626953125], \"loglift\": [30.0, 29.0, 28.0, 27.0, 26.0, 25.0, 24.0, 23.0, 22.0, 21.0, 20.0, 19.0, 18.0, 17.0, 16.0, 15.0, 14.0, 13.0, 12.0, 11.0, 10.0, 9.0, 8.0, 7.0, 6.0, 5.0, 4.0, 3.0, 2.0, 1.0, 1.3257999420166016, 1.325600028038025, 1.3250999450683594, 1.3238999843597412, 1.3238999843597412, 1.3238999843597412, 1.3235000371932983, 1.3235000371932983, 1.3234000205993652, 1.3234000205993652, 1.3234000205993652, 1.3233000040054321, 1.3233000040054321, 1.3233000040054321, 1.3233000040054321, 1.323199987411499, 1.323099970817566, 1.323099970817566, 1.323099970817566, 1.3229000568389893, 1.3229000568389893, 1.3228000402450562, 1.322700023651123, 1.322700023651123, 1.322700023651123, 1.3224999904632568, 1.3221999406814575, 1.3221999406814575, 1.3221999406814575, 1.322100043296814, 1.3142999410629272, 1.3056999444961548, 1.3008999824523926, 1.299299955368042, 1.2626999616622925, 1.274899959564209, 1.2538000345230103, 1.299399971961975, 1.2695000171661377, 1.2762999534606934, 1.3076000213623047, 1.2562999725341797, 1.246500015258789, 1.2877999544143677, 1.1117000579833984, 1.1687999963760376, 1.2752000093460083, 1.2086000442504883, 1.1725000143051147, 0.9496999979019165, 1.152500033378601, 1.2143000364303589, 0.7914000153541565, 1.2405999898910522, 1.214400053024292, 1.0889999866485596, 1.1089999675750732, 0.8755999803543091, 1.0625, 0.9937999844551086, 0.8899999856948853, 1.1198999881744385, 0.8256000280380249, 0.6044999957084656, 0.6779000163078308, 1.0109000205993652, 0.7020000219345093, 0.29109999537467957, 0.6571999788284302, 0.4074000120162964, 0.39239999651908875, 1.5748000144958496, 1.5748000144958496, 1.5745999813079834, 1.5741000175476074, 1.5740000009536743, 1.573799967765808, 1.573699951171875, 1.573699951171875, 1.573699951171875, 1.5736000537872314, 1.5735000371932983, 1.5735000371932983, 1.5735000371932983, 1.573199987411499, 1.5723999738693237, 1.572100043296814, 1.5717999935150146, 1.5716999769210815, 1.5714999437332153, 1.5714000463485718, 1.5710999965667725, 1.5709999799728394, 1.5707999467849731, 1.5705000162124634, 1.5702999830245972, 1.5700000524520874, 1.5699000358581543, 1.569599986076355, 1.569100022315979, 1.569100022315979, 1.5652999877929688, 1.5478999614715576, 1.5468000173568726, 1.5190000534057617, 1.5104000568389893, 1.4726999998092651, 1.5006999969482422, 1.445199966430664, 1.5377000570297241, 1.3854000568389893, 1.5020999908447266, 1.4873000383377075, 1.5024000406265259, 1.4286999702453613, 1.3878999948501587, 1.4718999862670898, 1.3091000318527222, 1.4707000255584717, 1.3805999755859375, 1.2696000337600708, 1.361799955368042, 1.3040000200271606, 1.1650999784469604, 1.417099952697754, 1.0927000045776367, 1.219099998474121, 0.9648000001907349, 1.2347999811172485, 1.111299991607666, 0.35350000858306885, 1.2173000574111938, 1.0964000225067139, 0.751800000667572, 1.2491999864578247, 1.0988999605178833, -0.1080000028014183, 0.7010999917984009, 0.7736999988555908, 0.5670999884605408, -0.5633999705314636, 0.23240000009536743, 1.9708000421524048, 1.9701999425888062, 1.9694000482559204, 1.9693000316619873, 1.9692000150680542, 1.969099998474121, 1.969099998474121, 1.969099998474121, 1.968999981880188, 1.9686000347137451, 1.968400001525879, 1.968400001525879, 1.968400001525879, 1.9681999683380127, 1.968000054359436, 1.967900037765503, 1.9677000045776367, 1.9677000045776367, 1.9677000045776367, 1.9677000045776367, 1.9674999713897705, 1.9674999713897705, 1.9673999547958374, 1.9673999547958374, 1.9672000408172607, 1.9670000076293945, 1.9667999744415283, 1.9666999578475952, 1.9666999578475952, 1.966599941253662, 1.9630999565124512, 1.9414000511169434, 1.756500005722046, 1.8904000520706177, 1.8550000190734863, 1.6022000312805176, 1.565500020980835, 1.8336000442504883, 1.4351999759674072, 1.4812999963760376, 1.182800054550171, 0.8493000268936157, 1.2841999530792236, 0.6751999855041504, 1.4491000175476074, 1.3108999729156494, 1.697700023651123, 1.1201000213623047, 0.4747999906539917, 1.0435999631881714, 1.3273999691009521, 1.3288999795913696, 1.285599946975708, 0.3813999891281128, 1.1728999614715576, 1.538599967956543, 0.9093000292778015, 0.49799999594688416, 1.225100040435791, 0.7239000201225281, 0.4512999951839447, 1.0027999877929688, -0.0966000035405159, 2.2302000522613525, 2.2295000553131104, 2.228600025177002, 2.228600025177002, 2.2284998893737793, 2.2274999618530273, 2.2274999618530273, 2.227400064468384, 2.227299928665161, 2.226599931716919, 2.226599931716919, 2.226599931716919, 2.2265000343322754, 2.2262001037597656, 2.2253000736236572, 2.225100040435791, 2.2249999046325684, 2.224600076675415, 2.2244999408721924, 2.2244999408721924, 2.224400043487549, 2.22379994392395, 2.223599910736084, 2.2232000827789307, 2.2230000495910645, 2.2228000164031982, 2.2227001190185547, 2.2227001190185547, 2.2225000858306885, 2.222399950027466, 2.216900110244751, 2.151700019836426, 2.1603000164031982, 2.1935999393463135, 2.198199987411499, 2.078000068664551, 2.1201999187469482, 2.0239999294281006, 2.001800060272217, 1.7151999473571777, 1.6510000228881836, 1.6531000137329102, 1.8112000226974487, 1.9023000001907349, 2.026400089263916, 1.042799949645996, 1.7030999660491943, 1.4292999505996704, 1.8944000005722046, 1.4105000495910645, 1.5702999830245972, 1.5092999935150146, 1.2001999616622925, 1.9556000232696533, 1.750599980354309, 0.8292999863624573, 1.4150999784469604, 0.6107000112533569, 1.645799994468689, 1.503999948501587, 1.4931000471115112, 1.0944000482559204, 0.6262000203132629, 2.2609000205993652, 2.2607998847961426, 2.2607998847961426, 2.2606000900268555, 2.2604000568389893, 2.2602999210357666, 2.259999990463257, 2.259999990463257, 2.259700059890747, 2.259700059890747, 2.2595999240875244, 2.259399890899658, 2.2588000297546387, 2.2588000297546387, 2.258500099182129, 2.2578001022338867, 2.257499933242798, 2.2572999000549316, 2.256999969482422, 2.2567999362945557, 2.256500005722046, 2.25600004196167, 2.2558999061584473, 2.2558999061584473, 2.2558000087738037, 2.2558000087738037, 2.2553999423980713, 2.2553000450134277, 2.255199909210205, 2.2551000118255615, 2.2385001182556152, 2.184799909591675, 2.2172999382019043, 2.1305999755859375, 2.052500009536743, 2.021699905395508, 1.9743000268936157, 1.9543999433517456, 1.9575999975204468, 1.3100999593734741, 2.0485999584198, 1.0830999612808228, 1.757099986076355, 1.686900019645691, 1.6785999536514282, 1.1993999481201172, 0.9488000273704529, 0.6651999950408936, 1.8392000198364258, 1.1758999824523926, -0.2443999946117401, 1.0448999404907227, 0.10050000250339508, 0.6966999769210815, 0.7114999890327454, 0.5705000162124634, 2.4409000873565674, 2.4405999183654785, 2.440500020980835, 2.440500020980835, 2.4402999877929688, 2.440000057220459, 2.4398000240325928, 2.4398000240325928, 2.4395999908447266, 2.439300060272217, 2.4391000270843506, 2.4391000270843506, 2.438499927520752, 2.4382998943328857, 2.438199996948242, 2.4372000694274902, 2.4368999004364014, 2.4367001056671143, 2.4367001056671143, 2.4363999366760254, 2.436300039291382, 2.436300039291382, 2.436199903488159, 2.4361000061035156, 2.436000108718872, 2.435800075531006, 2.435699939727783, 2.435699939727783, 2.435499906539917, 2.4354000091552734, 2.414299964904785, 2.3422000408172607, 2.3578999042510986, 2.144399881362915, 2.1923999786376953, 2.3083999156951904, 2.3306000232696533, 1.9399000406265259, 2.115000009536743, 2.230799913406372, 2.191499948501587, 1.8042000532150269, 2.2044999599456787, 1.188599944114685, 0.6383000016212463, 1.006600022315979, 1.8176000118255615, 1.6253000497817993, 0.24160000681877136, 1.8574999570846558, 1.506600022315979, 1.023900032043457, 1.2890000343322754, 1.3095999956130981, 0.5009999871253967, 1.5285999774932861, -0.948199987411499, 0.2890999913215637, 1.1642999649047852, 1.3154000043869019, 0.3440999984741211, 0.439300000667572, -0.5069000124931335, 0.5382999777793884, 2.894700050354004, 2.893199920654297, 2.8926000595092773, 2.891700029373169, 2.891700029373169, 2.8915998935699463, 2.8912999629974365, 2.890899896621704, 2.8907999992370605, 2.890399932861328, 2.8894999027252197, 2.889400005340576, 2.8891000747680664, 2.8889999389648438, 2.8889000415802, 2.8868000507354736, 2.8857998847961426, 2.885499954223633, 2.885499954223633, 2.8854000568389893, 2.8849000930786133, 2.8849000930786133, 2.8847999572753906, 2.884000062942505, 2.8838999271392822, 2.8833000659942627, 2.8831000328063965, 2.8828001022338867, 2.882499933242798, 2.8824000358581543, 2.86929988861084, 2.8740999698638916, 2.827899932861328, 2.7923998832702637, 2.833699941635132, 2.7599000930786133, 2.7952001094818115, 2.726799964904785, 2.509399890899658, 2.6298000812530518, 2.6556999683380127, 2.625699996948242, 2.2923998832702637, 2.698899984359741, 2.5155999660491943, 2.4763998985290527, 1.8051999807357788, 2.3034000396728516, 1.8890000581741333, 1.1484999656677246, 1.7101000547409058, 1.8746999502182007, 1.3199000358581543, 2.0813000202178955, 0.2922999858856201, 1.8375999927520752, 1.9883999824523926, 0.8296999931335449, -0.21250000596046448, 1.3259999752044678, 3.3508999347686768, 3.349100112915039, 3.3487000465393066, 3.3480000495910645, 3.3478000164031982, 3.3478000164031982, 3.3468000888824463, 3.3466999530792236, 3.346400022506714, 3.3461999893188477, 3.3459999561309814, 3.345900058746338, 3.3457000255584717, 3.3445000648498535, 3.344399929046631, 3.3440001010894775, 3.342900037765503, 3.3427000045776367, 3.342099905014038, 3.340399980545044, 3.3403000831604004, 3.340100049972534, 3.3399999141693115, 3.3392999172210693, 3.339200019836426, 3.3389999866485596, 3.338900089263916, 3.338900089263916, 3.338399887084961, 3.337399959564209, 3.3183999061584473, 3.270699977874756, 3.1898000240325928, 3.2327001094818115, 3.032900094985962, 3.003000020980835, 3.0882999897003174, 2.8317999839782715, 2.9372000694274902, 2.866499900817871, 2.854099988937378, 3.107100009918213, 2.436000108718872, 1.8854999542236328, 2.9196999073028564, 2.1236000061035156, 2.1926000118255615, 2.0971999168395996, 2.2142999172210693, 1.4989999532699585, 0.8632000088691711, 0.9894999861717224, 0.4632999897003174, 1.1298999786376953, 1.3083000183105469, 2.541300058364868], \"logprob\": [30.0, 29.0, 28.0, 27.0, 26.0, 25.0, 24.0, 23.0, 22.0, 21.0, 20.0, 19.0, 18.0, 17.0, 16.0, 15.0, 14.0, 13.0, 12.0, 11.0, 10.0, 9.0, 8.0, 7.0, 6.0, 5.0, 4.0, 3.0, 2.0, 1.0, -4.646200180053711, -5.001299858093262, -5.519199848175049, -6.19920015335083, -6.216599941253662, -6.222700119018555, -6.354899883270264, -6.359099864959717, -6.401400089263916, -6.4045000076293945, -6.4222002029418945, -6.438300132751465, -6.450099945068359, -6.450500011444092, -6.453400135040283, -6.487299919128418, -6.502099990844727, -6.504499912261963, -6.510900020599365, -6.555200099945068, -6.5584001541137695, -6.593100070953369, -6.610000133514404, -6.614999771118164, -6.622900009155273, -6.684299945831299, -6.749100208282471, -6.748899936676025, -6.763899803161621, -6.774199962615967, -5.217700004577637, -4.828999996185303, -5.47599983215332, -5.7835001945495605, -4.652299880981445, -5.183000087738037, -4.838200092315674, -6.028800010681152, -5.407599925994873, -5.570300102233887, -6.242800235748291, -5.357500076293945, -5.356100082397461, -5.9847002029418945, -3.92930006980896, -4.8495001792907715, -5.983699798583984, -5.506199836730957, -5.215199947357178, -3.537899971008301, -5.14739990234375, -5.669600009918213, -2.9191999435424805, -5.869800090789795, -5.72189998626709, -5.144100189208984, -5.245999813079834, -4.3805999755859375, -5.343800067901611, -5.295199871063232, -5.107999801635742, -5.64109992980957, -5.145299911499023, -4.943600177764893, -5.125800132751465, -5.500800132751465, -5.298900127410889, -5.058499813079834, -5.294300079345703, -5.345699787139893, -5.44320011138916, -5.635799884796143, -5.641499996185303, -5.743899822235107, -6.022799968719482, -6.056000232696533, -6.13539981842041, -6.173699855804443, -6.187300205230713, -6.183199882507324, -5.701000213623047, -6.240099906921387, -6.240499973297119, -6.259699821472168, -6.3649001121521, -6.577099800109863, -6.665200233459473, -6.737100124359131, -6.733500003814697, -6.801000118255615, -6.807700157165527, -6.857999801635742, -6.877399921417236, -6.91510009765625, -6.190100193023682, -7.023799896240234, -7.059599876403809, -7.083199977874756, -7.128799915313721, -7.17110013961792, -7.202000141143799, -4.4166998863220215, -4.079100131988525, -5.781899929046631, -4.908100128173828, -5.238100051879883, -4.495800018310547, -5.2606000900268555, -4.2393999099731445, -6.194799900054932, -3.5002999305725098, -5.575799942016602, -5.363399982452393, -5.625999927520752, -4.565199851989746, -4.146100044250488, -5.316100120544434, -3.825700044631958, -5.446700096130371, -4.93209981918335, -4.610199928283691, -5.138800144195557, -5.005799770355225, -4.423500061035156, -5.535399913787842, -4.468500137329102, -5.048900127410889, -4.384799957275391, -5.1128997802734375, -4.865099906921387, -3.357100009918213, -5.153200149536133, -5.038400173187256, -4.656300067901611, -5.310800075531006, -5.1956000328063965, -4.492199897766113, -4.9857001304626465, -5.044000148773193, -5.031300067901611, -4.987500190734863, -5.2221999168396, -5.15880012512207, -5.500199794769287, -5.814700126647949, -5.838699817657471, -5.857800006866455, -5.902599811553955, -5.9070000648498535, -5.917500019073486, -5.945000171661377, -6.041800022125244, -6.0868000984191895, -6.092400074005127, -5.911499977111816, -6.142000198364258, -6.188600063323975, -6.229100227355957, -6.255099773406982, -6.259799957275391, -6.262599945068359, -6.271299839019775, -6.299699783325195, -6.310200214385986, -6.316500186920166, -6.315899848937988, -6.364200115203857, -6.398900032043457, -6.442699909210205, -6.452700138092041, -6.457799911499023, -6.474699974060059, -5.513500213623047, -5.5370001792907715, -4.458700180053711, -5.793300151824951, -5.697700023651123, -4.479000091552734, -4.393499851226807, -5.848999977111816, -4.666900157928467, -4.898900032043457, -4.345200061798096, -3.574700117111206, -4.6579999923706055, -3.7090001106262207, -5.261099815368652, -5.124000072479248, -5.7758002281188965, -5.030700206756592, -4.438399791717529, -5.109399795532227, -5.417399883270264, -5.4618000984191895, -5.448699951171875, -4.874800205230713, -5.405600070953369, -5.656700134277344, -5.321599960327148, -5.100500106811523, -5.5467000007629395, -5.365799903869629, -5.2947998046875, -5.537399768829346, -5.452499866485596, -4.110300064086914, -4.780300140380859, -5.2382001876831055, -5.243899822235107, -5.308300018310547, -5.665500164031982, -5.65880012512207, -5.6803998947143555, -5.706999778747559, -5.881700038909912, -5.889100074768066, -5.895899772644043, -5.91480016708374, -5.983500003814697, -6.152200222015381, -6.195199966430664, -6.188399791717529, -6.265200138092041, -6.280300140380859, -6.280099868774414, -6.309299945831299, -6.396699905395508, -6.4207000732421875, -6.461299896240234, -6.501200199127197, -6.526800155639648, -6.532299995422363, -6.541900157928467, -6.561299800872803, -6.568299770355225, -4.714799880981445, -3.9753000736236572, -5.261300086975098, -5.899700164794922, -6.058300018310547, -3.930299997329712, -5.469699859619141, -4.615600109100342, -4.6834001541137695, -3.197999954223633, -3.8036000728607178, -4.033699989318848, -4.69980001449585, -5.334799766540527, -5.671599864959717, -3.4447999000549316, -4.946400165557861, -4.379000186920166, -5.406899929046631, -4.612299919128418, -4.930600166320801, -4.871200084686279, -4.546000003814697, -5.5467000007629395, -5.347899913787842, -4.718800067901611, -5.184199810028076, -4.745200157165527, -5.333000183105469, -5.292300224304199, -5.296199798583984, -5.270299911499023, -5.320099830627441, -5.000100135803223, -5.012899875640869, -5.049499988555908, -5.153299808502197, -5.216899871826172, -5.264999866485596, -5.3734002113342285, -5.376299858093262, -5.431000232696533, -5.502299785614014, -5.5167999267578125, -5.601200103759766, -5.748799800872803, -5.756400108337402, -5.833700180053711, -5.991600036621094, -6.039999961853027, -6.0777997970581055, -6.136899948120117, -6.175300121307373, -6.211299896240234, -6.29580020904541, -6.305099964141846, -6.313300132751465, -6.321899890899658, -6.321899890899658, -6.3902997970581055, -6.390999794006348, -6.404900074005127, -6.431399822235107, -3.1357998847961426, -3.74780011177063, -5.566999912261963, -4.493000030517578, -4.603300094604492, -4.46019983291626, -4.864799976348877, -4.771699905395508, -5.139100074768066, -3.0741000175476074, -5.656099796295166, -3.34089994430542, -4.980100154876709, -5.041399955749512, -5.212800025939941, -4.608799934387207, -4.4593000411987305, -4.469600200653076, -5.428699970245361, -4.928800106048584, -3.9549999237060547, -4.97790002822876, -4.812699794769287, -5.120999813079834, -5.240099906921387, -5.23330020904541, -5.140600204467773, -5.2835001945495605, -5.31879997253418, -5.333499908447266, -5.385499954223633, -5.470600128173828, -5.555799961090088, -5.567500114440918, -5.615499973297119, -5.6855998039245605, -5.700500011444092, -5.7530999183654785, -5.89109992980957, -5.925000190734863, -5.9375, -6.123300075531006, -6.1768999099731445, -6.206200122833252, -6.216800212860107, -6.253699779510498, -6.2754998207092285, -6.275899887084961, -6.2855000495910645, -6.299099922180176, -6.301199913024902, -6.34119987487793, -6.34660005569458, -6.351099967956543, -6.376500129699707, -6.394800186157227, -5.263800144195557, -4.090799808502197, -5.826700210571289, -4.775300025939941, -5.109799861907959, -5.782199859619141, -5.911499977111816, -4.728600025177002, -5.331600189208984, -5.742700099945068, -5.747099876403809, -5.0346999168396, -5.830599784851074, -4.409800052642822, -3.785799980163574, -4.554500102996826, -5.412700176239014, -5.26609992980957, -4.142600059509277, -5.479300022125244, -5.221700191497803, -4.952499866485596, -5.128300189971924, -5.157700061798096, -4.907100200653076, -5.392399787902832, -4.65880012512207, -5.066800117492676, -5.3958001136779785, -5.421899795532227, -5.3404998779296875, -5.396200180053711, -5.392600059509277, -5.4079999923706055, -3.354599952697754, -4.630899906158447, -4.905799865722656, -5.174600124359131, -5.186200141906738, -5.213699817657471, -5.296999931335449, -5.396699905395508, -5.406700134277344, -5.490600109100342, -5.672299861907959, -5.682000160217285, -5.736700057983398, -5.748799800872803, -5.763199806213379, -5.981900215148926, -6.170300006866455, -6.198699951171875, -6.197199821472168, -6.207099914550781, -6.252299785614014, -6.239500045776367, -6.269899845123291, -6.340000152587891, -6.353300094604492, -6.392300128936768, -6.418099880218506, -6.440499782562256, -6.46619987487793, -6.475900173187256, -3.776400089263916, -4.96999979019165, -4.8454999923706055, -4.029300212860107, -5.803699970245361, -5.491099834442139, -5.741199970245361, -5.372799873352051, -4.2459001541137695, -5.031099796295166, -5.18209981918335, -5.173299789428711, -4.325200080871582, -5.61269998550415, -5.144400119781494, -5.199999809265137, -4.145299911499023, -5.008399963378906, -4.528299808502197, -3.8926000595092773, -4.621200084686279, -4.797299861907959, -4.497799873352051, -5.08650016784668, -4.131800174713135, -5.015399932861328, -5.078199863433838, -4.698299884796143, -4.596700191497803, -4.953400135040283, -3.9488000869750977, -4.634900093078613, -4.7596001625061035, -4.906700134277344, -4.947500228881836, -4.950799942016602, -5.140200138092041, -5.171299934387207, -5.219299793243408, -5.241199970245361, -5.281499862670898, -5.28849983215332, -5.314599990844727, -5.487500190734863, -5.473999977111816, -5.537700176239014, -5.663899898529053, -5.678899765014648, -5.742099761962891, -5.889900207519531, -5.901800155639648, -5.918600082397461, -5.926700115203857, -5.973199844360352, -5.989500045776367, -6.0015997886657715, -6.009500026702881, -6.013500213623047, -6.050000190734863, -6.116799831390381, -4.473800182342529, -4.979400157928467, -4.519599914550781, -5.364200115203857, -4.344600200653076, -4.312900066375732, -4.768599987030029, -3.700500011444092, -4.736299991607666, -4.741099834442139, -4.736100196838379, -5.406899929046631, -4.628200054168701, -4.20419979095459, -5.258699893951416, -4.641900062561035, -4.740300178527832, -4.765900135040283, -4.916500091552734, -4.603099822998047, -4.492700099945068, -4.53849983215332, -4.449900150299072, -4.81220006942749, -4.950799942016602, -5.171000003814697]}, \"token.table\": {\"Topic\": [1, 2, 8, 1, 2, 4, 8, 7, 7, 3, 1, 3, 4, 5, 2, 8, 3, 4, 1, 4, 5, 1, 3, 3, 1, 1, 1, 2, 3, 5, 6, 7, 8, 5, 6, 2, 3, 5, 6, 7, 8, 5, 1, 2, 3, 4, 5, 6, 7, 8, 1, 2, 3, 5, 6, 2, 2, 5, 7, 2, 3, 6, 7, 5, 4, 3, 4, 5, 1, 5, 4, 1, 2, 3, 5, 7, 7, 5, 4, 4, 1, 2, 3, 4, 5, 6, 7, 8, 2, 3, 4, 7, 8, 1, 8, 1, 2, 4, 5, 6, 3, 6, 7, 1, 8, 3, 2, 5, 6, 1, 2, 3, 4, 1, 2, 5, 6, 3, 6, 1, 6, 1, 4, 8, 7, 4, 5, 6, 2, 6, 7, 6, 2, 5, 5, 2, 3, 5, 3, 1, 2, 4, 5, 6, 5, 2, 1, 2, 3, 4, 8, 4, 1, 3, 1, 2, 6, 8, 4, 6, 8, 8, 5, 1, 7, 1, 3, 8, 3, 6, 7, 1, 2, 3, 5, 6, 7, 6, 3, 4, 5, 8, 1, 2, 3, 4, 5, 6, 5, 4, 5, 6, 4, 1, 2, 3, 5, 1, 1, 4, 1, 3, 4, 6, 7, 1, 7, 1, 2, 3, 5, 6, 7, 8, 1, 4, 5, 1, 1, 1, 2, 3, 5, 6, 8, 3, 5, 4, 3, 3, 5, 7, 7, 1, 3, 4, 5, 7, 8, 7, 1, 2, 2, 6, 5, 6, 7, 8, 8, 8, 2, 3, 6, 8, 5, 2, 1, 1, 3, 4, 1, 3, 4, 2, 6, 2, 4, 6, 8, 4, 6, 1, 6, 3, 3, 4, 5, 7, 8, 1, 3, 4, 8, 3, 1, 3, 4, 6, 7, 2, 1, 4, 6, 3, 3, 1, 2, 4, 5, 2, 2, 5, 6, 1, 2, 3, 4, 5, 6, 7, 4, 5, 7, 1, 4, 6, 1, 2, 3, 4, 5, 6, 7, 8, 7, 5, 2, 3, 4, 7, 8, 7, 4, 1, 2, 3, 4, 5, 6, 7, 1, 6, 7, 1, 6, 6, 3, 7, 3, 7, 8, 1, 2, 4, 5, 6, 1, 2, 3, 4, 5, 6, 7, 2, 6, 2, 1, 3, 4, 6, 7, 4, 4, 4, 4, 5, 1, 6, 2, 5, 6, 1, 7, 1, 4, 8, 1, 6, 1, 4, 8, 2, 3, 5, 6, 8, 1, 4, 3, 5, 7, 6, 7, 3, 2, 3, 4, 5, 6, 7, 2, 6, 1, 2, 3, 5, 6, 7, 7, 3, 8, 1, 2, 3, 6, 7, 7, 2, 3, 1, 3, 4, 6, 7, 2, 6, 2, 8, 3, 5, 6, 2, 2, 1, 6, 7, 1, 4, 5, 8, 7, 1, 3, 5, 5, 8, 2, 3, 6, 7, 6, 1, 2, 5, 2, 3, 5, 6, 7, 1, 5, 7, 3, 4, 5, 8, 1, 2, 3, 5, 6, 7, 2, 6, 1, 4, 8, 3, 8, 8, 3, 1, 2, 3, 4, 5, 6, 7, 8, 5, 7, 7, 7, 4, 5, 8, 8, 3, 1, 6, 5, 1, 3, 6, 2, 2, 6, 7, 3, 6, 1, 4, 5, 1, 7, 1, 4, 5, 6, 6, 1, 1, 3, 8, 1, 4, 1, 2, 3, 5, 6, 7, 8, 4, 2, 3, 3, 1, 2, 3, 7, 1, 1, 2, 5, 7, 4, 7, 2, 8, 6, 8, 1, 1, 3, 4, 5, 6, 8, 3, 3, 1, 2, 3, 4, 5, 6, 7, 8, 8, 3, 4, 5, 8, 5, 1, 2, 3, 5, 7, 8, 6, 1, 6, 5, 6, 3, 1, 2, 3, 6, 2, 6, 3, 6, 7, 3, 7, 6, 8, 5, 1, 7, 8, 2, 4, 6, 8, 1, 7, 1, 2, 3, 4, 5, 6, 5, 8, 8, 7, 1, 2, 3, 5, 6, 7, 8, 6, 6, 1, 7, 1, 2, 3, 5, 6, 7, 1, 2, 5, 6, 6, 7, 1, 4, 2, 8, 2, 8, 2, 5, 6, 7, 2, 3, 5, 6, 7, 1, 4, 4, 2, 5, 6, 1, 2, 3, 4, 5, 6, 7, 8, 1, 2, 4, 5, 6, 3, 5, 1, 6, 2, 5, 6, 8, 7, 8, 2, 7, 2, 5, 6, 7, 6, 4, 5, 1, 4, 7, 2, 4, 8, 8, 6, 7, 7, 4, 1, 4, 3, 8, 2, 5, 6, 8, 6, 6, 1, 4, 8, 1, 2, 6, 7, 2, 5, 6, 7, 5, 1, 3, 8, 4, 1, 4, 3, 4, 5, 7, 8, 1, 4, 7, 4, 2, 2, 3, 5, 6, 7, 8, 4, 1, 2, 4, 5, 6, 2, 4, 1, 2, 6, 6, 7, 2, 7, 1, 5, 8, 2, 3, 7, 1, 3, 4, 5, 7, 8, 5, 1, 2, 3, 6, 7, 8, 1, 3, 4, 6, 7, 1, 3, 4, 5, 6, 7, 2, 6, 3, 4, 2, 5, 6, 2, 3, 4, 5, 6, 7, 8, 1, 2, 4, 6, 1, 2, 3, 5, 6, 8, 4, 1, 4, 8, 2, 3, 7, 1, 2, 3, 7, 8, 1, 5, 5, 7, 5, 6, 2, 5, 6, 2, 1, 5, 2, 6, 2, 6, 2, 3, 2, 2, 3, 5, 6, 2, 3, 7, 2, 2, 6, 7, 4, 1, 2, 3, 5, 6, 7, 3, 5, 8, 2, 6, 3, 1, 3, 1, 2, 3, 4, 5, 6, 7, 4, 1, 2, 3, 5, 6, 7, 7, 3, 6, 7, 1, 1, 4, 1, 7, 2, 6, 7, 2, 2, 3, 6, 7, 8, 1, 4, 5, 6, 7, 1, 2, 5, 6, 4, 3, 5, 3, 1, 6, 7, 2, 2, 8, 2, 3, 8, 2, 1, 2, 3, 5, 7, 1, 2, 3, 5, 6, 8, 8, 2, 5, 5, 5, 5, 7, 2, 5, 6, 1, 1, 1, 6, 1, 3, 4, 8, 1, 2, 3, 4, 5, 6, 7, 4, 1, 2, 4, 8, 6, 5, 6, 1, 3, 7, 1, 2, 3, 5, 7, 2, 6, 7, 1, 3, 7, 1, 2, 3, 4, 5, 6, 7, 8], \"Freq\": [0.03600117936730385, 0.11314656585454941, 0.8485992550849915, 0.022190678864717484, 0.030115922912955284, 0.35346582531929016, 0.5943931937217712, 0.9815168976783752, 0.9965754151344299, 0.9936425685882568, 0.24041950702667236, 0.3793995678424835, 0.31869563460350037, 0.060703929513692856, 0.22947588562965393, 0.7688932418823242, 0.06556576490402222, 0.9314195513725281, 0.515988290309906, 0.48296502232551575, 0.9979883432388306, 0.9746226072311401, 0.024289660155773163, 0.9966028928756714, 0.9955593347549438, 0.9970300793647766, 0.6372681260108948, 0.08936353027820587, 0.20372231304645538, 0.023446867242455482, 0.03605508804321289, 0.0015483780298382044, 0.008626677095890045, 0.9950785636901855, 0.9979292154312134, 0.44831764698028564, 0.08066615462303162, 0.20903392136096954, 0.04653816670179367, 0.20709483325481415, 0.008919814601540565, 0.9969310164451599, 0.14450806379318237, 0.004831576719880104, 0.5024839639663696, 0.07994063198566437, 0.09707076847553253, 0.021961713209748268, 0.041288021951913834, 0.10849086195230484, 0.0012458357959985733, 0.3644069731235504, 0.22892232239246368, 0.11991169303655624, 0.28529638051986694, 0.9948574900627136, 0.023648923262953758, 0.9760782122612, 0.9853124022483826, 0.30859479308128357, 0.1718311905860901, 0.4009394347667694, 0.1180608868598938, 0.99037104845047, 0.9910491108894348, 0.9694820046424866, 0.028574205935001373, 0.9974042773246765, 0.9982856512069702, 0.9903061389923096, 0.993937611579895, 0.4615176320075989, 0.22337453067302704, 0.08614995330572128, 0.020922131836414337, 0.2079906165599823, 0.997126042842865, 0.9955018758773804, 0.9946775436401367, 0.9975417256355286, 0.032350629568099976, 0.16534766554832458, 0.5161722898483276, 0.10855434089899063, 0.06973358243703842, 0.011502446606755257, 0.09201957285404205, 0.004313417244702578, 0.00921574980020523, 0.3394467830657959, 0.5168499946594238, 0.08601366728544235, 0.04838268831372261, 0.27122849225997925, 0.726966142654419, 0.16157467663288116, 0.2608392536640167, 0.5599817037582397, 0.008901442401111126, 0.00863170251250267, 0.18119147419929504, 0.4151178002357483, 0.40430039167404175, 0.2932091951370239, 0.7043960094451904, 0.9961503744125366, 0.18810570240020752, 0.7370957136154175, 0.0738489031791687, 0.13329027593135834, 0.34106627106666565, 0.5243403911590576, 0.997944712638855, 0.15541723370552063, 0.7618616223335266, 0.07612273097038269, 0.006343560758978128, 0.2787962853908539, 0.7197294235229492, 0.9804962277412415, 0.017548030242323875, 0.5803576111793518, 0.12607768177986145, 0.29218003153800964, 0.9949696063995361, 0.7199618816375732, 0.2790052890777588, 0.998440682888031, 0.9276179075241089, 0.03985469043254852, 0.03288011997938156, 0.9959759712219238, 0.12328366935253143, 0.8760085701942444, 0.9972072839736938, 0.8528646230697632, 0.11218728870153427, 0.033776815980672836, 0.9982265830039978, 0.0020412979647517204, 0.4167650043964386, 0.5610166788101196, 0.01973254606127739, 0.9914159178733826, 0.9982029795646667, 0.9960836172103882, 0.08067832887172699, 0.15670214593410492, 0.06206025183200836, 0.6570629477500916, 0.04266642406582832, 0.996595561504364, 0.9954418540000916, 0.9944259524345398, 0.02266378328204155, 0.8626112937927246, 0.10961870104074478, 0.005087787751108408, 0.07857875525951385, 0.9181306958198547, 0.9986446499824524, 0.9963091015815735, 0.9967880845069885, 0.9730632305145264, 0.02459004707634449, 0.9618716239929199, 0.01827389933168888, 0.01827389933168888, 0.053845569491386414, 0.26188525557518005, 0.6828597187995911, 0.21428313851356506, 0.6203590631484985, 0.019991429522633553, 0.008746250532567501, 0.04685491323471069, 0.08933670073747635, 0.9898460507392883, 0.7595951557159424, 0.06296110153198242, 0.09951915591955185, 0.0751471146941185, 0.7890892624855042, 0.06463129073381424, 0.004700457211583853, 0.05934327468276024, 0.06404373049736023, 0.01880182884633541, 0.9944960474967957, 0.07439082115888596, 0.9248824119567871, 0.9949398040771484, 0.9987120032310486, 0.310357928276062, 0.14063093066215515, 0.5033617615699768, 0.044613949954509735, 0.9992621541023254, 0.9969057440757751, 0.9960144758224487, 0.8540548086166382, 0.0018957931315526366, 0.14360633492469788, 0.05203722417354584, 0.9431747198104858, 0.062013089656829834, 0.9351574182510376, 0.0478755421936512, 0.05385998636484146, 0.32914435863494873, 0.05385998636484146, 0.07181331515312195, 0.4428487718105316, 0.9961873888969421, 0.9996492266654968, 0.9949766397476196, 0.9959977269172668, 0.9961174726486206, 0.9969359636306763, 0.20502270758152008, 0.6187958121299744, 0.009052950888872147, 0.07135855406522751, 0.07668381929397583, 0.018105901777744293, 0.9971837997436523, 0.9927037954330444, 0.9912781119346619, 0.9972565174102783, 0.9223096370697021, 0.0751882866024971, 0.9924689531326294, 0.9977858662605286, 0.1885387897491455, 0.02142486348748207, 0.4403999447822571, 0.29566311836242676, 0.026662051677703857, 0.027138158679008484, 0.9962737560272217, 0.9951961636543274, 0.9988514184951782, 0.8068609237670898, 0.19269466400146484, 0.5620405673980713, 0.392367959022522, 0.04531030356884003, 0.9916191101074219, 0.9924191832542419, 0.9881466031074524, 0.996391236782074, 0.9943574070930481, 0.030729029327630997, 0.9665676355361938, 0.9943848252296448, 0.9911372661590576, 0.9980131983757019, 0.9965331554412842, 0.6474234461784363, 0.35062360763549805, 0.9971574544906616, 0.9962638020515442, 0.9895642399787903, 0.9964362382888794, 0.9975631833076477, 0.9972996115684509, 0.12423364073038101, 0.8734001517295837, 0.9900066256523132, 0.9626566171646118, 0.03397611528635025, 0.2101314812898636, 0.7871026992797852, 0.9973667860031128, 0.5844569206237793, 0.0536009855568409, 0.1886342316865921, 0.016492610797286034, 0.15667980909347534, 0.44578903913497925, 0.3948107361793518, 0.1008719727396965, 0.05802850052714348, 0.9974752068519592, 0.3157893717288971, 0.2024063766002655, 0.1085110753774643, 0.03676089644432068, 0.33616289496421814, 0.9955213069915771, 0.33918240666389465, 0.1324426531791687, 0.5276170969009399, 0.9979265332221985, 0.9977623224258423, 0.23159076273441315, 0.14613749086856842, 0.5573039650917053, 0.06439957022666931, 0.9976317882537842, 0.9014517068862915, 0.014430442824959755, 0.08387694507837296, 0.7170088887214661, 0.08947078138589859, 0.15098194777965546, 0.02112504467368126, 0.004970598965883255, 0.00994119793176651, 0.006213248707354069, 0.04809429123997688, 0.734880805015564, 0.21642431616783142, 0.18304254114627838, 0.8160646557807922, 0.9963595271110535, 0.2731674313545227, 0.1724633276462555, 0.22432292997837067, 0.001809055800549686, 0.04763847216963768, 0.11457353830337524, 0.036784134805202484, 0.12964899837970734, 0.9977887868881226, 0.9962958097457886, 0.32762497663497925, 0.01434048730880022, 0.32983121275901794, 0.043021462857723236, 0.2846035063266754, 0.991860032081604, 0.9949401617050171, 0.39282408356666565, 0.24240601062774658, 0.07303764671087265, 0.022108692675828934, 0.1342313438653946, 0.13462615013122559, 0.00039479805855080485, 0.3950161039829254, 0.6047832369804382, 0.9967231750488281, 0.18752765655517578, 0.8070386648178101, 0.9918730854988098, 0.024855051189661026, 0.9746730327606201, 0.9956735968589783, 0.9966453313827515, 0.994961142539978, 0.5228274464607239, 0.14418870210647583, 0.024477656930685043, 0.18396489322185516, 0.12391813844442368, 0.22271820902824402, 0.34444141387939453, 0.0066153923980891705, 0.2011079341173172, 0.04895390197634697, 0.14862582087516785, 0.027343621477484703, 0.09543804079294205, 0.9041498303413391, 0.9939875602722168, 0.014365756884217262, 0.5253762602806091, 0.21138185262680054, 0.18675483763217926, 0.06054140254855156, 0.9912965893745422, 0.9897450804710388, 0.9950254559516907, 0.858280599117279, 0.1412479281425476, 0.9975935816764832, 0.9925127625465393, 0.9365457892417908, 0.04525326192378998, 0.01770779862999916, 0.09631624817848206, 0.9017741084098816, 0.6862112283706665, 0.30480045080184937, 0.008922489359974861, 0.9729852676391602, 0.024736912921071053, 0.4089773893356323, 0.5898541212081909, 0.9933608174324036, 0.699633002281189, 0.10159888118505478, 0.05718739330768585, 0.10585752129554749, 0.035285837948322296, 0.9516927003860474, 0.0477474108338356, 0.18940581381320953, 0.806254506111145, 0.9864163994789124, 0.9720029234886169, 0.02741546742618084, 0.9981204867362976, 0.13760456442832947, 0.13851585984230042, 0.13669328391551971, 0.015491904690861702, 0.21050764620304108, 0.3599589765071869, 0.8773134350776672, 0.1225658506155014, 0.6061431765556335, 0.18577542901039124, 0.0628291592001915, 0.08045747876167297, 0.036612674593925476, 0.028024516999721527, 0.9844809770584106, 0.21272721886634827, 0.7819162607192993, 0.17778263986110687, 0.07249389588832855, 0.13894663751125336, 0.06386367231607437, 0.5471562743186951, 0.9955960512161255, 0.9975012540817261, 0.99660724401474, 0.008170684799551964, 0.28733575344085693, 0.48615574836730957, 0.09192020446062088, 0.12664560973644257, 0.9631168842315674, 0.0368405357003212, 0.9939529299736023, 0.9955733418464661, 0.8882328867912292, 0.09234104305505753, 0.017588770017027855, 0.9963525533676147, 0.9966099858283997, 0.17530688643455505, 0.14361298084259033, 0.6794379949569702, 0.19597721099853516, 0.074421726167202, 0.0669795498251915, 0.6598726511001587, 0.999603807926178, 0.9182559251785278, 0.05226995423436165, 0.028254028409719467, 0.992746114730835, 0.983917236328125, 0.22321556508541107, 0.09606745839118958, 0.3150447607040405, 0.3659040033817291, 0.9974141120910645, 0.13394996523857117, 0.2100203037261963, 0.6548664569854736, 0.18562030792236328, 0.2732974588871002, 0.38576099276542664, 0.11061379313468933, 0.0446709543466568, 0.5984445810317993, 0.05351055786013603, 0.3472726047039032, 0.5926744341850281, 0.035977043211460114, 0.2811889946460724, 0.08994260430335999, 0.09555758535861969, 0.29077646136283875, 0.34529703855514526, 0.06976290047168732, 0.08441897481679916, 0.11373111605644226, 0.9976969361305237, 0.9914402961730957, 0.10271561145782471, 0.2876037061214447, 0.6071633696556091, 0.990225076675415, 0.008150000125169754, 0.9855115413665771, 0.9957761168479919, 0.1814364492893219, 0.05370518937706947, 0.45402657985687256, 0.006676861550658941, 0.036867886781692505, 0.04644773155450821, 0.1268603652715683, 0.09405665844678879, 0.017652884125709534, 0.9797350168228149, 0.9948397874832153, 0.988639235496521, 0.9989777207374573, 0.9989317059516907, 0.9800153970718384, 0.9882490634918213, 0.9943076968193054, 0.9971330165863037, 0.9894106388092041, 0.9910339713096619, 0.7296925783157349, 0.27014151215553284, 0.9947038888931274, 0.9929869174957275, 0.09874322265386581, 0.5351245999336243, 0.36630550026893616, 0.1007542684674263, 0.8936465382575989, 0.9382210373878479, 0.04787278175354004, 0.013677937909960747, 0.9995497465133667, 0.9897521734237671, 0.26231351494789124, 0.47851720452308655, 0.13525539636611938, 0.12398411333560944, 0.994163453578949, 0.9956098198890686, 0.9452587962150574, 0.05037716403603554, 0.004579741973429918, 0.8937437534332275, 0.10444813966751099, 0.158516988158226, 0.1601768434047699, 0.4498230516910553, 0.13693875074386597, 0.01991836354136467, 0.0008299318724311888, 0.07303400337696075, 0.996335506439209, 0.38730451464653015, 0.6119275093078613, 0.9979936480522156, 0.10044310241937637, 0.0923672765493393, 0.6904832124710083, 0.11659475415945053, 0.996858537197113, 0.7678254842758179, 0.17117129266262054, 0.04401547461748123, 0.016767799854278564, 0.9994869828224182, 0.9851011037826538, 0.9939374327659607, 0.9922081232070923, 0.07507064938545227, 0.9229273796081543, 0.9958630800247192, 0.0007848560926504433, 0.22368398308753967, 0.5971184968948364, 0.11505990475416183, 0.007534618489444256, 0.05556781217455864, 0.9937689900398254, 0.9970081448554993, 0.18573322892189026, 0.17375831305980682, 0.12634746730327606, 0.1979525238275528, 0.07307136058807373, 0.11608326435089111, 0.04423383250832558, 0.08284679055213928, 0.9837769269943237, 0.185683935880661, 0.04384204000234604, 0.32236793637275696, 0.44357830286026, 0.9954687356948853, 0.13797535002231598, 0.44544848799705505, 0.03669007495045662, 0.33744531869888306, 0.02377103455364704, 0.01860341802239418, 0.9968717098236084, 0.9966282844543457, 0.9968549609184265, 0.991134524345398, 0.9907248020172119, 0.9972834587097168, 0.029659617692232132, 0.6983491778373718, 0.09706784039735794, 0.17458729445934296, 0.9444276690483093, 0.05492517352104187, 0.9951440095901489, 0.08819073438644409, 0.9054248929023743, 0.17374378442764282, 0.8217611312866211, 0.9941962957382202, 0.9862788319587708, 0.9942619204521179, 0.8069827556610107, 0.1742754429578781, 0.01872970536351204, 0.11915307492017746, 0.7588169574737549, 0.08988740295171738, 0.031356070190668106, 0.9972113966941833, 0.9835050106048584, 0.585735559463501, 0.2944003939628601, 9.431375656276941e-05, 0.004574217367917299, 0.08148708194494247, 0.03367001190781593, 0.3493480086326599, 0.6493762731552124, 0.9936960935592651, 0.993977427482605, 0.024203795939683914, 0.43850070238113403, 0.04042549058794975, 0.26881662011146545, 0.14342036843299866, 0.055617235600948334, 0.028838565573096275, 0.9966581463813782, 0.9963855147361755, 0.995814859867096, 0.995063066482544, 0.017103346064686775, 0.8261526823043823, 0.024891477078199387, 0.051615454256534576, 0.05237899720668793, 0.02794564515352249, 0.889248251914978, 0.07323220372200012, 0.03709163889288902, 0.9973959922790527, 0.12376094609498978, 0.8751667141914368, 0.9956216216087341, 0.9930702447891235, 0.9984757900238037, 0.992835521697998, 0.6790919899940491, 0.32008159160614014, 0.7357199192047119, 0.0850018560886383, 0.07881239801645279, 0.10026917606592178, 0.3687938153743744, 0.2210170328617096, 0.07064767181873322, 0.03435162082314491, 0.30592384934425354, 0.9505466818809509, 0.047527335584163666, 0.9932361841201782, 0.9285581111907959, 0.05333397164940834, 0.01777799054980278, 0.486008882522583, 0.027543464675545692, 0.10810069739818573, 0.24611419439315796, 0.04146328195929527, 0.03553995490074158, 0.020435474812984467, 0.035243790596723557, 0.1406044363975525, 0.026507392525672913, 0.44870486855506897, 0.34536445140838623, 0.0388006754219532, 0.8711541295051575, 0.12766914069652557, 0.987857460975647, 0.01109062135219574, 0.7655662298202515, 0.2023618072271347, 0.03193124383687973, 0.9933751821517944, 0.9945828914642334, 0.9885267019271851, 0.9961963891983032, 0.993505597114563, 0.04182758182287216, 0.6030953526496887, 0.3239205777645111, 0.031127503141760826, 0.994468092918396, 0.2132505178451538, 0.7859374284744263, 0.1623329371213913, 0.8134291768074036, 0.02382059395313263, 0.29032763838768005, 0.09290485084056854, 0.6154946088790894, 0.9966000318527222, 0.9955351948738098, 0.9928540587425232, 0.9863098859786987, 0.9974399209022522, 0.0755576565861702, 0.923599898815155, 0.9957596063613892, 0.9961492419242859, 0.9153085947036743, 0.03486889973282814, 0.04903439059853554, 0.9868350028991699, 0.9962238669395447, 0.9938048124313354, 0.20406214892864227, 0.7950113415718079, 0.992743730545044, 0.048508722335100174, 0.12935659289360046, 0.7761395573616028, 0.04527480527758598, 0.8281570672988892, 0.11301014572381973, 0.05723511427640915, 0.0014600794529542327, 0.9969643950462341, 0.949677586555481, 0.04266560822725296, 0.006620525382459164, 0.9931173324584961, 0.012997115962207317, 0.9865992665290833, 0.8057073354721069, 0.14659717679023743, 0.02424047887325287, 0.0017314627766609192, 0.021354706957936287, 0.8942829966545105, 0.09460928291082382, 0.010136708617210388, 0.9983184337615967, 0.9949865341186523, 0.11771053075790405, 0.32531610131263733, 0.30741408467292786, 0.16448675096035004, 0.07401422411203384, 0.01106844749301672, 0.9954706430435181, 0.18350926041603088, 0.6627922654151917, 0.0956098660826683, 0.0033926081378012896, 0.05428173020482063, 0.026664989069104195, 0.9688279032707214, 0.07919880747795105, 0.9003040790557861, 0.019799701869487762, 0.21051031351089478, 0.7864899039268494, 0.9972173571586609, 0.00166480359621346, 0.9964585900306702, 0.9936640858650208, 0.9883255958557129, 0.022463373839855194, 0.42334818840026855, 0.5529446005821228, 0.2534642815589905, 0.2184414565563202, 0.3567275404930115, 0.11878882348537445, 0.02563527785241604, 0.026357397437095642, 0.9951550960540771, 0.020563509315252304, 0.516252338886261, 0.42642223834991455, 0.0032468698918819427, 0.0330098457634449, 0.9864035844802856, 0.3711399435997009, 0.15930207073688507, 0.4423174560070038, 0.005931460298597813, 0.020336436107754707, 0.5120811462402344, 0.15650618076324463, 0.05009971186518669, 0.21192622184753418, 0.007537125144153833, 0.06118372082710266, 0.9718247056007385, 0.028117895126342773, 0.9957275986671448, 0.9932824969291687, 0.6118917465209961, 0.06609024852514267, 0.3215402066707611, 0.030754709616303444, 0.004731493536382914, 0.06387516856193542, 0.3122785985469818, 0.11355584859848022, 0.16087079048156738, 0.31346145272254944, 0.014103210531175137, 0.6166403889656067, 0.13142992556095123, 0.23765410482883453, 0.9957724213600159, 0.21634358167648315, 0.2871006727218628, 0.20565366744995117, 0.06057620421051979, 0.23059681057929993, 0.9954693913459778, 0.061614397913217545, 0.8945497870445251, 0.04107626527547836, 0.0808415338397026, 0.15188409388065338, 0.7667696475982666, 0.024879734963178635, 0.012439867481589317, 0.30602073669433594, 0.6568250060081482, 0.9885612726211548, 0.9797532558441162, 0.019701559096574783, 0.8105685114860535, 0.18919242918491364, 0.9969944953918457, 0.9939072132110596, 0.8220081329345703, 0.026085397228598595, 0.15078632533550262, 0.9982298016548157, 0.9978813529014587, 0.9914084672927856, 0.7210653424263, 0.2786490023136139, 0.9933180809020996, 0.0027065889444202185, 0.9977833032608032, 0.9976396560668945, 0.9955712556838989, 0.08043960481882095, 0.04620998352766037, 0.09413144737482071, 0.7787238359451294, 0.9291684627532959, 0.035958532243967056, 0.034520190209150314, 0.9946978688240051, 0.9005294442176819, 0.08084297925233841, 0.01739659160375595, 0.9972252249717712, 0.5356390476226807, 0.2156529277563095, 0.041453804820775986, 0.0302752498537302, 0.07964719831943512, 0.09734657406806946, 0.9941098690032959, 0.10618411004543304, 0.8869495987892151, 0.9719542264938354, 0.027879992499947548, 0.9969034790992737, 0.857175886631012, 0.14194832742214203, 0.39340925216674805, 0.008712640963494778, 0.02546771988272667, 0.32102730870246887, 0.1950291246175766, 0.02077629789710045, 0.0355207696557045, 0.9933609366416931, 0.3553021550178528, 0.5425461530685425, 0.0012142930645495653, 0.005585748236626387, 0.07892905175685883, 0.016271527856588364, 0.9957509636878967, 0.12093948572874069, 0.11531439423561096, 0.7650125622749329, 0.996109127998352, 0.28382211923599243, 0.7146846652030945, 0.15195909142494202, 0.8433730006217957, 0.9943689107894897, 0.9953794479370117, 0.9962338209152222, 0.9975857734680176, 0.628131628036499, 0.08090262860059738, 0.24179886281490326, 0.03817876800894737, 0.010908219031989574, 0.9233681559562683, 0.07057049870491028, 0.005101481452584267, 0.556273877620697, 0.4411216378211975, 0.08631762862205505, 0.7109673023223877, 0.1634104698896408, 0.03887587785720825, 0.9909160733222961, 0.9964451789855957, 0.9958513975143433, 0.9972817897796631, 0.9328028559684753, 0.04728493466973305, 0.019773701205849648, 0.9961324334144592, 0.9891700148582458, 0.010513359680771828, 0.1079147458076477, 0.4910120964050293, 0.39928457140922546, 0.9930861592292786, 0.23562924563884735, 0.14903046190738678, 0.4732724130153656, 0.12788425385951996, 0.01309051364660263, 0.011166723445057869, 0.24030788242816925, 0.6655367016792297, 0.03350016847252846, 0.048686910420656204, 0.9917790293693542, 0.9928837418556213, 0.04156989976763725, 0.9561076760292053, 0.9968571066856384, 0.9984228014945984, 0.9906173944473267, 0.9955019950866699, 0.15292978286743164, 0.7495713233947754, 0.09692732989788055, 0.9968341588973999, 0.9986366629600525, 0.9970619082450867, 0.9909542202949524, 0.8043860793113708, 0.019910546019673347, 0.12278170138597488, 0.05243110656738281, 0.3988471031188965, 0.3272218704223633, 0.025450589135289192, 0.07417029142379761, 0.05162833631038666, 0.08289620280265808, 0.039993781596422195, 0.9941158890724182, 0.283384770154953, 0.0963229089975357, 0.6184209585189819, 0.001395984087139368, 0.9937921762466431, 0.5572144389152527, 0.441459059715271, 0.8137581944465637, 0.13247226178646088, 0.05278969928622246, 0.8404319882392883, 0.06595318019390106, 0.06155630201101303, 0.01633126474916935, 0.015075013041496277, 0.21481160819530487, 0.741333544254303, 0.04319581389427185, 0.9300808906555176, 0.06581483036279678, 0.0035713473334908485, 0.6465148329734802, 0.18252897262573242, 0.00928900670260191, 0.0710609033703804, 0.014397960156202316, 0.01857801340520382, 0.015791311860084534, 0.04226497933268547], \"Term\": [\"abdoman\", \"abdoman\", \"abdoman\", \"abdominal\", \"abdominal\", \"abdominal\", \"abdominal\", \"abduction\", \"ability\", \"accident\", \"acute\", \"acute\", \"acute\", \"acute\", \"adhesion\", \"adhesion\", \"admission\", \"admission\", \"admit\", \"admit\", \"advance\", \"ago\", \"ago\", \"airway\", \"alcohol\", \"allergy\", \"also\", \"also\", \"also\", \"also\", \"also\", \"also\", \"also\", \"angiography\", \"angioplasty\", \"anterior\", \"anterior\", \"anterior\", \"anterior\", \"anterior\", \"anterior\", \"aortic\", \"appear\", \"appear\", \"appear\", \"appear\", \"appear\", \"appear\", \"appear\", \"appear\", \"area\", \"area\", \"area\", \"area\", \"area\", \"arrival\", \"artery\", \"artery\", \"arthrosis\", \"aspect\", \"aspect\", \"aspect\", \"aspect\", \"aspiration\", \"aspirin\", \"associate\", \"associate\", \"atrial\", \"atrial_fibrillation\", \"atrium\", \"baby\", \"back\", \"back\", \"back\", \"back\", \"back\", \"balance\", \"balloon\", \"beat_per\", \"bid\", \"bilateral\", \"bilateral\", \"bilateral\", \"bilateral\", \"bilateral\", \"bilateral\", \"bilateral\", \"bilateral\", \"bilaterally\", \"bilaterally\", \"bilaterally\", \"bilaterally\", \"bilaterally\", \"bladder\", \"bladder\", \"blood\", \"blood\", \"blood\", \"blood\", \"blood\", \"bone\", \"bone\", \"bone\", \"bowel\", \"bowel\", \"brain\", \"branch\", \"branch\", \"branch\", \"breast\", \"breast\", \"breast\", \"breath\", \"bring\", \"bring\", \"bring\", \"bring\", \"bypass\", \"bypass\", \"call\", \"call\", \"cancer\", \"cancer\", \"cancer\", \"cap\", \"cardiac\", \"cardiac\", \"carotid\", \"carry\", \"carry\", \"carry\", \"cataract\", \"catheter\", \"catheter\", \"catheterization\", \"cavity\", \"cavity\", \"cavity\", \"cervical\", \"chest\", \"chest\", \"chest\", \"chest\", \"circulation\", \"circumflex\", \"clamp\", \"clear\", \"clear\", \"clear\", \"clear\", \"clear\", \"clear_auscultation\", \"clinic\", \"clinically\", \"close\", \"close\", \"close\", \"close\", \"collateral\", \"collateral\", \"colon\", \"colonoscopy\", \"common\", \"complain\", \"complain\", \"complaint\", \"complaint\", \"complaint\", \"compression\", \"compression\", \"compression\", \"condition\", \"condition\", \"condition\", \"condition\", \"condition\", \"condition\", \"congenital\", \"consistent\", \"consistent\", \"consistent\", \"consistent\", \"continue\", \"continue\", \"continue\", \"continue\", \"continue\", \"continue\", \"contrast\", \"coronary\", \"coronary\", \"cosmetic\", \"cough\", \"could\", \"could\", \"could\", \"could\", \"currently\", \"daily\", \"daughter\", \"day\", \"day\", \"day\", \"decompression\", \"decompression\", \"degenerative\", \"degenerative\", \"degree\", \"degree\", \"degree\", \"degree\", \"degree\", \"degree\", \"delay\", \"deny\", \"depression\", \"descending\", \"diabete\", \"diabetes\", \"diagnosis\", \"diagnosis\", \"diagnosis\", \"diagnosis\", \"diagnosis\", \"diagnosis\", \"diagnostic\", \"diagonal\", \"diarrhea\", \"die\", \"diet\", \"diet\", \"disability\", \"disc\", \"disease\", \"disease\", \"disease\", \"disease\", \"disease\", \"disease\", \"disk\", \"disorder\", \"dissect\", \"dissection\", \"dissection\", \"distal\", \"distal\", \"distal\", \"distention\", \"diverticulitis\", \"diverticulosis\", \"divide\", \"doctor\", \"document\", \"document\", \"dominant\", \"dressing_apply\", \"drink\", \"drug\", \"ear\", \"ear\", \"eat\", \"edema\", \"effusion\", \"electrocautery\", \"elevation\", \"endotracheal\", \"engage\", \"engage\", \"epigastric\", \"equal\", \"equal\", \"establish\", \"establish\", \"evening\", \"evidence\", \"evidence\", \"evidence\", \"evidence\", \"evidence\", \"examination\", \"examination\", \"examination\", \"examination\", \"experience\", \"extremity\", \"extremity\", \"extremity\", \"extremity\", \"extremity\", \"extubate\", \"eye\", \"eye\", \"eye\", \"face\", \"facial\", \"failure\", \"failure\", \"failure\", \"failure\", \"fascia\", \"fashion\", \"fashion\", \"fashion\", \"feel\", \"feel\", \"feel\", \"feel\", \"feel\", \"feel\", \"feel\", \"femoral\", \"femoral\", \"femoral\", \"fever\", \"fever\", \"fifth\", \"find\", \"find\", \"find\", \"find\", \"find\", \"find\", \"find\", \"find\", \"flexion\", \"flow\", \"fluid\", \"fluid\", \"fluid\", \"fluid\", \"fluid\", \"fluoroscopic\", \"focal\", \"follow\", \"follow\", \"follow\", \"follow\", \"follow\", \"follow\", \"follow\", \"foot\", \"foot\", \"force\", \"forearm\", \"forearm\", \"fourth\", \"fracture\", \"fracture\", \"frequent\", \"fusion\", \"gallbladder\", \"give\", \"give\", \"give\", \"give\", \"give\", \"good\", \"good\", \"good\", \"good\", \"good\", \"good\", \"good\", \"graft\", \"graft\", \"harvest\", \"head\", \"head\", \"head\", \"head\", \"head\", \"headache\", \"health\", \"hearing\", \"heart\", \"heart\", \"heent\", \"hemodialysis\", \"hemostasis\", \"hemostasis\", \"hemostasis\", \"hip\", \"hip\", \"history\", \"history\", \"history\", \"home\", \"home\", \"hypertension\", \"hypertension\", \"hysterectomy\", \"identify\", \"identify\", \"identify\", \"identify\", \"identify\", \"illness\", \"illness\", \"image\", \"image\", \"impingement\", \"implant\", \"implant\", \"impression\", \"inch\", \"inch\", \"inch\", \"inch\", \"inch\", \"inch\", \"incision\", \"incision\", \"include\", \"include\", \"include\", \"include\", \"include\", \"include\", \"infiltration\", \"inflammatory\", \"inflammatory\", \"injury\", \"injury\", \"injury\", \"injury\", \"injury\", \"instability\", \"instrument\", \"insulin\", \"intact\", \"intact\", \"intact\", \"intact\", \"intact\", \"interrupt\", \"interrupt\", \"interrupted\", \"invasion\", \"involve\", \"involve\", \"involve\", \"irrigate\", \"irrigation\", \"joint\", \"joint\", \"joint\", \"kidney\", \"kidney\", \"kidney\", \"kidney\", \"knee\", \"know\", \"know\", \"know\", \"lad\", \"laparoscopic\", \"lateral\", \"lateral\", \"lateral\", \"lateral\", \"lavage\", \"lead\", \"lead\", \"lead\", \"leave\", \"leave\", \"leave\", \"leave\", \"leave\", \"leg\", \"leg\", \"leg\", \"lesion\", \"lesion\", \"lesion\", \"lesion\", \"level\", \"level\", \"level\", \"level\", \"level\", \"level\", \"ligature\", \"limb\", \"liver\", \"liver\", \"liver\", \"lobe\", \"lobe\", \"lobectomy\", \"lot\", \"low\", \"low\", \"low\", \"low\", \"low\", \"low\", \"low\", \"low\", \"lumbar\", \"lumbar\", \"lumbar_spine\", \"lumbosacral\", \"lung\", \"main\", \"malignancy\", \"malignant\", \"man\", \"marry\", \"maximal\", \"maximum\", \"may\", \"may\", \"measurement\", \"mechanical\", \"medial\", \"medial\", \"medial\", \"mediastinal\", \"mediastinal\", \"medical\", \"medical\", \"medical\", \"medication\", \"meniscus\", \"minute\", \"minute\", \"minute\", \"minute\", \"modify\", \"mom\", \"month\", \"month\", \"month\", \"mother\", \"mother\", \"multiple\", \"multiple\", \"multiple\", \"multiple\", \"multiple\", \"multiple\", \"multiple\", \"murmur\", \"muscle\", \"muscle\", \"nasal\", \"neck\", \"neck\", \"neck\", \"neck\", \"nee\", \"need\", \"need\", \"need\", \"need\", \"negative\", \"neurologically\", \"nipple\", \"node\", \"nodule\", \"nodule\", \"nontender\", \"normal\", \"normal\", \"normal\", \"normal\", \"normal\", \"normal\", \"normally\", \"nose\", \"note\", \"note\", \"note\", \"note\", \"note\", \"note\", \"note\", \"note\", \"nursing\", \"obstruction\", \"obstruction\", \"obstruction\", \"obstruction\", \"obstructive\", \"obtain\", \"obtain\", \"obtain\", \"obtain\", \"obtain\", \"obtain\", \"obtuse_marginal\", \"occasional\", \"occlude\", \"occlusion\", \"occlusive\", \"onset\", \"open\", \"open\", \"open\", \"open\", \"operate\", \"operate\", \"orient\", \"orthopedic\", \"orthopedic\", \"osteoarthritis\", \"osteoarthritis\", \"outline\", \"ovary\", \"oxygen\", \"pain\", \"pain\", \"pain\", \"palpable\", \"palpable\", \"palpable\", \"palpable\", \"past\", \"patellar\", \"patient\", \"patient\", \"patient\", \"patient\", \"patient\", \"patient\", \"pattern\", \"pattern\", \"pelvic\", \"penetration\", \"perform\", \"perform\", \"perform\", \"perform\", \"perform\", \"perform\", \"perform\", \"pericardial\", \"pericardium\", \"physician\", \"pin\", \"place\", \"place\", \"place\", \"place\", \"place\", \"place\", \"plan\", \"plan\", \"plan\", \"plaque\", \"plate\", \"plate\", \"pleasant\", \"pleural\", \"pocket\", \"polyp\", \"port\", \"port\", \"position\", \"position\", \"position\", \"position\", \"posterior\", \"posterior\", \"posterior\", \"posterior\", \"posterior\", \"pound\", \"pound\", \"prednisone\", \"preppe_drape\", \"preppe_drape\", \"preppe_drape\", \"present\", \"present\", \"present\", \"present\", \"present\", \"present\", \"present\", \"present\", \"pressure\", \"pressure\", \"pressure\", \"pressure\", \"pressure\", \"primary\", \"primary\", \"problem\", \"problem\", \"procedure\", \"procedure\", \"procedure\", \"progress\", \"progression\", \"prolapse\", \"protamine\", \"protrusion\", \"proximal\", \"proximal\", \"proximal\", \"proximal\", \"proximally\", \"pulmonary\", \"pulmonary\", \"pulse\", \"pulse\", \"pulse\", \"quadrant\", \"quadrant\", \"quadrant\", \"questionable\", \"radial\", \"radicular\", \"radiculopathy\", \"rash\", \"rate\", \"rate\", \"really\", \"reasonable\", \"recovery\", \"recovery\", \"recovery\", \"rectum\", \"reduction\", \"refill\", \"regular\", \"regular\", \"regularly\", \"release\", \"release\", \"release\", \"release\", \"remove\", \"remove\", \"remove\", \"remove\", \"renal\", \"report\", \"report\", \"report\", \"respiration\", \"respiratory\", \"respiratory\", \"reveal\", \"reveal\", \"reveal\", \"reveal\", \"reveal\", \"review\", \"review\", \"review\", \"rhythm\", \"rib\", \"right\", \"right\", \"right\", \"right\", \"right\", \"right\", \"rise\", \"room\", \"room\", \"room\", \"room\", \"room\", \"rule\", \"rule\", \"run\", \"run\", \"run\", \"screw\", \"screw\", \"secure\", \"secure\", \"seizure\", \"selective\", \"serve\", \"shoulder\", \"shoulder\", \"shoulder\", \"show\", \"show\", \"show\", \"show\", \"show\", \"show\", \"shunt\", \"side\", \"side\", \"side\", \"side\", \"side\", \"sigmoid\", \"sign\", \"sign\", \"sign\", \"sign\", \"sign\", \"significant\", \"significant\", \"significant\", \"significant\", \"significant\", \"significant\", \"silk\", \"silk\", \"sinus\", \"sister\", \"site\", \"site\", \"site\", \"size\", \"size\", \"size\", \"size\", \"size\", \"size\", \"size\", \"skin\", \"skin\", \"skin\", \"skin\", \"sleep\", \"small\", \"small\", \"small\", \"small\", \"small\", \"social\", \"sound\", \"sound\", \"sound\", \"spinal\", \"spinal\", \"spinal\", \"spine\", \"spine\", \"spine\", \"spine\", \"stain\", \"state\", \"state\", \"stenosis\", \"stenosis\", \"stent\", \"stente\", \"sterile\", \"sterile\", \"sterile\", \"stitch\", \"stroke\", \"subclavian\", \"subcutaneous\", \"subcutaneous\", \"subcuticular\", \"subcuticular\", \"suction\", \"sugar\", \"suite\", \"superficial\", \"superficial\", \"superficial\", \"superficial\", \"superior\", \"superior\", \"superior\", \"superiorly\", \"supine\", \"supine\", \"supine\", \"supple\", \"surgery\", \"surgery\", \"surgery\", \"surgery\", \"surgery\", \"surgery\", \"suspect\", \"suspicious\", \"suspicious\", \"suture\", \"suture\", \"symmetrical\", \"symptom\", \"symptom\", \"system\", \"system\", \"system\", \"system\", \"system\", \"system\", \"system\", \"tachycardia\", \"take\", \"take\", \"take\", \"take\", \"take\", \"take\", \"taper\", \"tear\", \"tear\", \"tear\", \"tell\", \"temperature\", \"temperature\", \"thigh\", \"thigh\", \"thoracotomy\", \"thumb\", \"tibial\", \"tie\", \"tissue\", \"tissue\", \"tissue\", \"tissue\", \"tissue\", \"today\", \"today\", \"today\", \"toe\", \"toe\", \"tolerate\", \"tolerate\", \"tolerate\", \"tolerate\", \"tone\", \"tongue\", \"tooth\", \"tracheostomy\", \"treatment\", \"treatment\", \"treatment\", \"true\", \"tube\", \"tube\", \"tumor\", \"tumor\", \"tumor\", \"tunnel\", \"undergo\", \"undergo\", \"undergo\", \"undergo\", \"undergo\", \"upper\", \"upper\", \"upper\", \"upper\", \"upper\", \"uterine\", \"vaginal\", \"venous\", \"venous\", \"ventricle\", \"ventricular\", \"verse\", \"vertebral\", \"vessel\", \"vessel\", \"vessel\", \"visit\", \"walk\", \"want\", \"wedge\", \"week\", \"week\", \"week\", \"week\", \"well\", \"well\", \"well\", \"well\", \"well\", \"well\", \"well\", \"wheeze\", \"white\", \"white\", \"white\", \"white\", \"width\", \"wire\", \"wire\", \"work\", \"work\", \"work\", \"would\", \"would\", \"would\", \"would\", \"would\", \"wound\", \"wound\", \"wound\", \"year\", \"year\", \"year\", \"yearold\", \"yearold\", \"yearold\", \"yearold\", \"yearold\", \"yearold\", \"yearold\", \"yearold\"]}, \"R\": 30, \"lambda.step\": 0.01, \"plot.opts\": {\"xlab\": \"PC1\", \"ylab\": \"PC2\"}, \"topic.order\": [4, 2, 7, 1, 5, 3, 6, 8]};\n",
       "\n",
       "function LDAvis_load_lib(url, callback){\n",
       "  var s = document.createElement('script');\n",
       "  s.src = url;\n",
       "  s.async = true;\n",
       "  s.onreadystatechange = s.onload = callback;\n",
       "  s.onerror = function(){console.warn(\"failed to load library \" + url);};\n",
       "  document.getElementsByTagName(\"head\")[0].appendChild(s);\n",
       "}\n",
       "\n",
       "if(typeof(LDAvis) !== \"undefined\"){\n",
       "   // already loaded: just create the visualization\n",
       "   !function(LDAvis){\n",
       "       new LDAvis(\"#\" + \"ldavis_el55008018511194123526231380746\", ldavis_el55008018511194123526231380746_data);\n",
       "   }(LDAvis);\n",
       "}else if(typeof define === \"function\" && define.amd){\n",
       "   // require.js is available: use it to load d3/LDAvis\n",
       "   require.config({paths: {d3: \"https://cdnjs.cloudflare.com/ajax/libs/d3/3.5.5/d3.min\"}});\n",
       "   require([\"d3\"], function(d3){\n",
       "      window.d3 = d3;\n",
       "      LDAvis_load_lib(\"https://cdn.rawgit.com/bmabey/pyLDAvis/files/ldavis.v1.0.0.js\", function(){\n",
       "        new LDAvis(\"#\" + \"ldavis_el55008018511194123526231380746\", ldavis_el55008018511194123526231380746_data);\n",
       "      });\n",
       "    });\n",
       "}else{\n",
       "    // require.js not available: dynamically load d3 & LDAvis\n",
       "    LDAvis_load_lib(\"https://cdnjs.cloudflare.com/ajax/libs/d3/3.5.5/d3.min.js\", function(){\n",
       "         LDAvis_load_lib(\"https://cdn.rawgit.com/bmabey/pyLDAvis/files/ldavis.v1.0.0.js\", function(){\n",
       "                 new LDAvis(\"#\" + \"ldavis_el55008018511194123526231380746\", ldavis_el55008018511194123526231380746_data);\n",
       "            })\n",
       "         });\n",
       "}\n",
       "</script>"
      ],
      "text/plain": [
       "PreparedData(topic_coordinates=              x         y  topics  cluster       Freq\n",
       "topic                                                \n",
       "3     -0.130641  0.198747       1        1  26.546515\n",
       "1      0.190607  0.116228       2        1  20.673826\n",
       "6     -0.017877 -0.121916       3        1  13.913031\n",
       "0     -0.316722  0.106224       4        1  10.743358\n",
       "4      0.104762  0.069866       5        1  10.407042\n",
       "2      0.205669  0.029307       6        1   8.688398\n",
       "5      0.099679 -0.136311       7        1   5.528525\n",
       "7     -0.135478 -0.262145       8        1   3.499306, topic_info=     Category          Freq            Term         Total  loglift  logprob\n",
       "113   Default   9750.000000         history   9750.000000  30.0000  30.0000\n",
       "68    Default   4017.000000          artery   4017.000000  29.0000  29.0000\n",
       "287   Default  10812.000000           leave  10812.000000  28.0000  28.0000\n",
       "414   Default  21205.000000         patient  21205.000000  27.0000  27.0000\n",
       "151   Default  10389.000000           right  10389.000000  26.0000  26.0000\n",
       "294   Default   6370.000000          normal   6370.000000  25.0000  25.0000\n",
       "140   Default   5606.000000            pain   5606.000000  24.0000  24.0000\n",
       "418   Default   5104.000000       procedure   5104.000000  23.0000  23.0000\n",
       "415   Default   6548.000000           place   6548.000000  22.0000  22.0000\n",
       "123   Default   1674.000000            knee   1674.000000  21.0000  21.0000\n",
       "83    Default   2298.000000        coronary   2298.000000  20.0000  20.0000\n",
       "9     Default   3707.000000           blood   3707.000000  19.0000  19.0000\n",
       "448   Default   3120.000000          suture   3120.000000  18.0000  18.0000\n",
       "78    Default   2939.000000           chest   2939.000000  17.0000  17.0000\n",
       "250   Default   1892.000000            rate   1892.000000  16.0000  16.0000\n",
       "111   Default   2131.000000           heart   2131.000000  15.0000  15.0000\n",
       "394   Default   2945.000000        incision   2945.000000  14.0000  14.0000\n",
       "133   Default   1528.000000        negative   1528.000000  13.0000  13.0000\n",
       "773   Default   1261.000000       abdominal   1261.000000  12.0000  12.0000\n",
       "424   Default   3424.000000          remove   3424.000000  11.0000  11.0000\n",
       "3904  Default   1126.000000        fracture   1126.000000  10.0000  10.0000\n",
       "158   Default   3332.000000            skin   3332.000000   9.0000   9.0000\n",
       "912   Default   2187.000000            tube   2187.000000   8.0000   8.0000\n",
       "3458  Default   1393.000000           graft   1393.000000   7.0000   7.0000\n",
       "224   Default   3444.000000             low   3444.000000   6.0000   6.0000\n",
       "205   Default   2257.000000       extremity   2257.000000   5.0000   5.0000\n",
       "87    Default   2209.000000            deny   2209.000000   4.0000   4.0000\n",
       "436   Default   1964.000000           small   1964.000000   3.0000   3.0000\n",
       "42    Default   2603.000000        pressure   2603.000000   2.0000   2.0000\n",
       "623   Default   1940.000000        evidence   1940.000000   1.0000   1.0000\n",
       "...       ...           ...             ...           ...      ...      ...\n",
       "3005   Topic8     74.482979      malignancy     75.509018   3.3389  -6.0095\n",
       "221    Topic8     74.183746    laparoscopic     75.209579   3.3389  -6.0135\n",
       "8923   Topic8     71.523491  diverticulitis     72.549988   3.3384  -6.0500\n",
       "3008   Topic8     66.907066           ovary     67.932106   3.3374  -6.1168\n",
       "3446   Topic8    345.925079        document    357.967712   3.3184  -4.4738\n",
       "2050   Topic8    208.651367          nodule    226.453354   3.2707  -4.9794\n",
       "353    Topic8    330.453033         abdoman    388.876129   3.1898  -4.5196\n",
       "760    Topic8    142.002625      suspicious    160.099289   3.2327  -5.3642\n",
       "617    Topic8    393.655670         bladder    541.978455   3.0329  -4.3446\n",
       "188    Topic8    406.340363           bowel    576.380310   3.0030  -4.3129\n",
       "1773   Topic8    257.603149        adhesion    335.547241   3.0883  -4.7686\n",
       "773    Topic8    749.592224       abdominal   1261.791016   2.8318  -3.7005\n",
       "1104   Topic8    266.078461          kidney    403.108093   2.9372  -4.7363\n",
       "828    Topic8    264.790131        quadrant    430.548035   2.8665  -4.7411\n",
       "402    Topic8    266.128235           liver    438.102844   2.8541  -4.7361\n",
       "956    Topic8    136.072525    inflammatory    173.931671   3.1071  -5.4069\n",
       "1434   Topic8    296.441528           tumor    741.325928   2.4360  -4.6282\n",
       "436    Topic8    452.975647           small   1964.467773   1.8855  -4.2042\n",
       "337    Topic8    157.812515         pattern    243.310394   2.9197  -5.2587\n",
       "74     Topic8    292.409973          cancer    999.383850   2.1236  -4.6419\n",
       "297    Topic8    265.014221            size    845.398987   2.1926  -4.7403\n",
       "594    Topic8    258.314972           fluid    906.524292   2.0972  -4.7659\n",
       "417    Topic8    222.195084            port    693.573181   2.2143  -4.9165\n",
       "623    Topic8    303.973267        evidence   1940.262817   1.4990  -4.6031\n",
       "725    Topic8    339.450836            note   4091.890381   0.8632  -4.4927\n",
       "224    Topic8    324.248627             low   3444.732178   0.9895  -4.5385\n",
       "294    Topic8    354.298981          normal   6370.594727   0.4633  -4.4499\n",
       "5      Topic8    246.610443          appear   2276.689453   1.1299  -4.8122\n",
       "690    Topic8    214.702225            find   1658.323608   1.3083  -4.9508\n",
       "231    Topic8    172.272018     obstruction    387.755676   2.5413  -5.1710\n",
       "\n",
       "[534 rows x 6 columns], token_table=      Topic      Freq       Term\n",
       "term                            \n",
       "353       1  0.036001    abdoman\n",
       "353       2  0.113147    abdoman\n",
       "353       8  0.848599    abdoman\n",
       "773       1  0.022191  abdominal\n",
       "773       2  0.030116  abdominal\n",
       "773       4  0.353466  abdominal\n",
       "773       8  0.594393  abdominal\n",
       "4692      7  0.981517  abduction\n",
       "4250      7  0.996575    ability\n",
       "1022      3  0.993643   accident\n",
       "641       1  0.240420      acute\n",
       "641       3  0.379400      acute\n",
       "641       4  0.318696      acute\n",
       "641       5  0.060704      acute\n",
       "1773      2  0.229476   adhesion\n",
       "1773      8  0.768893   adhesion\n",
       "643       3  0.065566  admission\n",
       "643       4  0.931420  admission\n",
       "644       1  0.515988      admit\n",
       "644       4  0.482965      admit\n",
       "1118      5  0.997988    advance\n",
       "0         1  0.974623        ago\n",
       "0         3  0.024290        ago\n",
       "914       3  0.996603     airway\n",
       "182       1  0.995559    alcohol\n",
       "3         1  0.997030    allergy\n",
       "4         1  0.637268       also\n",
       "4         2  0.089364       also\n",
       "4         3  0.203722       also\n",
       "4         5  0.023447       also\n",
       "...     ...       ...        ...\n",
       "3149      4  0.994116     wheeze\n",
       "59        1  0.283385      white\n",
       "59        2  0.096323      white\n",
       "59        4  0.618421      white\n",
       "59        8  0.001396      white\n",
       "4535      6  0.993792      width\n",
       "2145      5  0.557214       wire\n",
       "2145      6  0.441459       wire\n",
       "60        1  0.813758       work\n",
       "60        3  0.132472       work\n",
       "60        7  0.052790       work\n",
       "177       1  0.840432      would\n",
       "177       2  0.065953      would\n",
       "177       3  0.061556      would\n",
       "177       5  0.016331      would\n",
       "177       7  0.015075      would\n",
       "611       2  0.214812      wound\n",
       "611       6  0.741334      wound\n",
       "611       7  0.043196      wound\n",
       "178       1  0.930081       year\n",
       "178       3  0.065815       year\n",
       "178       7  0.003571       year\n",
       "62        1  0.646515    yearold\n",
       "62        2  0.182529    yearold\n",
       "62        3  0.009289    yearold\n",
       "62        4  0.071061    yearold\n",
       "62        5  0.014398    yearold\n",
       "62        6  0.018578    yearold\n",
       "62        7  0.015791    yearold\n",
       "62        8  0.042265    yearold\n",
       "\n",
       "[1008 rows x 3 columns], R=30, lambda_step=0.01, plot_opts={'xlab': 'PC1', 'ylab': 'PC2'}, topic_order=[4, 2, 7, 1, 5, 3, 6, 8])"
      ]
     },
     "execution_count": 18,
     "metadata": {},
     "output_type": "execute_result"
    }
   ],
   "source": [
    "import pyLDAvis\n",
    "import pyLDAvis.gensim \n",
    "\n",
    "# Topic Visualization\n",
    "pyLDAvis.enable_notebook()\n",
    "distance_map = pyLDAvis.gensim.prepare(lda_model, corpus, id2word)\n",
    "distance_map"
   ]
  },
  {
   "cell_type": "code",
   "execution_count": 19,
   "metadata": {},
   "outputs": [],
   "source": [
    "# get topics for each transcription\n",
    "topics = lda_model.get_document_topics(corpus, per_word_topics=True)\n",
    "all_topics = [(doc_topics, word_topics, word_phis) for doc_topics, word_topics, word_phis in topics]\n",
    "# commented out for export \n",
    "#all_topics"
   ]
  },
  {
   "cell_type": "code",
   "execution_count": 20,
   "metadata": {},
   "outputs": [],
   "source": [
    "# pull out just the topics from the get_document_topics function\n",
    "def Extract(all_topics): \n",
    "    return [doc[0] for doc in all_topics] "
   ]
  },
  {
   "cell_type": "code",
   "execution_count": 21,
   "metadata": {},
   "outputs": [
    {
     "data": {
      "text/html": [
       "<div>\n",
       "<style scoped>\n",
       "    .dataframe tbody tr th:only-of-type {\n",
       "        vertical-align: middle;\n",
       "    }\n",
       "\n",
       "    .dataframe tbody tr th {\n",
       "        vertical-align: top;\n",
       "    }\n",
       "\n",
       "    .dataframe thead th {\n",
       "        text-align: right;\n",
       "    }\n",
       "</style>\n",
       "<table border=\"1\" class=\"dataframe\">\n",
       "  <thead>\n",
       "    <tr style=\"text-align: right;\">\n",
       "      <th></th>\n",
       "      <th>Unnamed: 0</th>\n",
       "      <th>description</th>\n",
       "      <th>medical_specialty</th>\n",
       "      <th>sample_name</th>\n",
       "      <th>transcription</th>\n",
       "      <th>keywords</th>\n",
       "      <th>clean</th>\n",
       "      <th>all_doc_topics</th>\n",
       "    </tr>\n",
       "  </thead>\n",
       "  <tbody>\n",
       "    <tr>\n",
       "      <th>0</th>\n",
       "      <td>0</td>\n",
       "      <td>A 23-year-old white female presents with comp...</td>\n",
       "      <td>Allergy / Immunology</td>\n",
       "      <td>Allergic Rhinitis</td>\n",
       "      <td>SUBJECTIVE:,  This 23-year-old white female pr...</td>\n",
       "      <td>allergy / immunology, allergic rhinitis, aller...</td>\n",
       "      <td>subjective yearold white female present compla...</td>\n",
       "      <td>(0, 0.02260399)</td>\n",
       "    </tr>\n",
       "    <tr>\n",
       "      <th>1</th>\n",
       "      <td>1</td>\n",
       "      <td>Consult for laparoscopic gastric bypass.</td>\n",
       "      <td>Bariatrics</td>\n",
       "      <td>Laparoscopic Gastric Bypass Consult - 2</td>\n",
       "      <td>PAST MEDICAL HISTORY:, He has difficulty climb...</td>\n",
       "      <td>bariatrics, laparoscopic gastric bypass, weigh...</td>\n",
       "      <td>past medical history difficulty climb_stair di...</td>\n",
       "      <td>(0, 0.2115749)</td>\n",
       "    </tr>\n",
       "    <tr>\n",
       "      <th>2</th>\n",
       "      <td>2</td>\n",
       "      <td>Consult for laparoscopic gastric bypass.</td>\n",
       "      <td>Bariatrics</td>\n",
       "      <td>Laparoscopic Gastric Bypass Consult - 1</td>\n",
       "      <td>HISTORY OF PRESENT ILLNESS: , I have seen ABC ...</td>\n",
       "      <td>bariatrics, laparoscopic gastric bypass, heart...</td>\n",
       "      <td>history present today old overweight year age ...</td>\n",
       "      <td>(0, 0.14475581)</td>\n",
       "    </tr>\n",
       "    <tr>\n",
       "      <th>3</th>\n",
       "      <td>3</td>\n",
       "      <td>2-D M-Mode. Doppler.</td>\n",
       "      <td>Cardiovascular / Pulmonary</td>\n",
       "      <td>2-D Echocardiogram - 1</td>\n",
       "      <td>2-D M-MODE: , ,1.  Left atrial enlargement wit...</td>\n",
       "      <td>cardiovascular / pulmonary, 2-d m-mode, dopple...</td>\n",
       "      <td>leave atrial enlargement leave atrial diameter...</td>\n",
       "      <td>(0, 0.047300287)</td>\n",
       "    </tr>\n",
       "    <tr>\n",
       "      <th>4</th>\n",
       "      <td>4</td>\n",
       "      <td>2-D Echocardiogram</td>\n",
       "      <td>Cardiovascular / Pulmonary</td>\n",
       "      <td>2-D Echocardiogram - 2</td>\n",
       "      <td>1.  The left ventricular cavity size and wall ...</td>\n",
       "      <td>cardiovascular / pulmonary, 2-d, doppler, echo...</td>\n",
       "      <td>leave ventricular cavity size wall thickness a...</td>\n",
       "      <td>(0, 0.16625309)</td>\n",
       "    </tr>\n",
       "  </tbody>\n",
       "</table>\n",
       "</div>"
      ],
      "text/plain": [
       "   Unnamed: 0                                        description  \\\n",
       "0           0   A 23-year-old white female presents with comp...   \n",
       "1           1           Consult for laparoscopic gastric bypass.   \n",
       "2           2           Consult for laparoscopic gastric bypass.   \n",
       "3           3                             2-D M-Mode. Doppler.     \n",
       "4           4                                 2-D Echocardiogram   \n",
       "\n",
       "             medical_specialty                                sample_name  \\\n",
       "0         Allergy / Immunology                         Allergic Rhinitis    \n",
       "1                   Bariatrics   Laparoscopic Gastric Bypass Consult - 2    \n",
       "2                   Bariatrics   Laparoscopic Gastric Bypass Consult - 1    \n",
       "3   Cardiovascular / Pulmonary                    2-D Echocardiogram - 1    \n",
       "4   Cardiovascular / Pulmonary                    2-D Echocardiogram - 2    \n",
       "\n",
       "                                       transcription  \\\n",
       "0  SUBJECTIVE:,  This 23-year-old white female pr...   \n",
       "1  PAST MEDICAL HISTORY:, He has difficulty climb...   \n",
       "2  HISTORY OF PRESENT ILLNESS: , I have seen ABC ...   \n",
       "3  2-D M-MODE: , ,1.  Left atrial enlargement wit...   \n",
       "4  1.  The left ventricular cavity size and wall ...   \n",
       "\n",
       "                                            keywords  \\\n",
       "0  allergy / immunology, allergic rhinitis, aller...   \n",
       "1  bariatrics, laparoscopic gastric bypass, weigh...   \n",
       "2  bariatrics, laparoscopic gastric bypass, heart...   \n",
       "3  cardiovascular / pulmonary, 2-d m-mode, dopple...   \n",
       "4  cardiovascular / pulmonary, 2-d, doppler, echo...   \n",
       "\n",
       "                                               clean    all_doc_topics  \n",
       "0  subjective yearold white female present compla...   (0, 0.02260399)  \n",
       "1  past medical history difficulty climb_stair di...    (0, 0.2115749)  \n",
       "2  history present today old overweight year age ...   (0, 0.14475581)  \n",
       "3  leave atrial enlargement leave atrial diameter...  (0, 0.047300287)  \n",
       "4  leave ventricular cavity size wall thickness a...   (0, 0.16625309)  "
      ]
     },
     "execution_count": 21,
     "metadata": {},
     "output_type": "execute_result"
    }
   ],
   "source": [
    "# pull out just the topics from the get_document_topics function\n",
    "# each bracket is a sublist of the score each topic has\n",
    "all_doc_topics = Extract(all_topics)\n",
    "df['all_doc_topics'] = Extract(all_doc_topics)\n",
    "df.head()\n",
    "# commented out for export \n",
    "#all_doc_topics"
   ]
  },
  {
   "cell_type": "code",
   "execution_count": 22,
   "metadata": {
    "scrolled": true
   },
   "outputs": [],
   "source": [
    "# sorting sublist to pull the top topic to the front of each sublist\n",
    "for sublist in all_doc_topics: \n",
    "    sublist.sort(key = lambda x: x[1],reverse=1) \n",
    "    \n",
    "# commented out for export \n",
    "#all_doc_topics"
   ]
  },
  {
   "cell_type": "code",
   "execution_count": 23,
   "metadata": {},
   "outputs": [
    {
     "data": {
      "text/html": [
       "<div>\n",
       "<style scoped>\n",
       "    .dataframe tbody tr th:only-of-type {\n",
       "        vertical-align: middle;\n",
       "    }\n",
       "\n",
       "    .dataframe tbody tr th {\n",
       "        vertical-align: top;\n",
       "    }\n",
       "\n",
       "    .dataframe thead th {\n",
       "        text-align: right;\n",
       "    }\n",
       "</style>\n",
       "<table border=\"1\" class=\"dataframe\">\n",
       "  <thead>\n",
       "    <tr style=\"text-align: right;\">\n",
       "      <th></th>\n",
       "      <th>Unnamed: 0</th>\n",
       "      <th>description</th>\n",
       "      <th>medical_specialty</th>\n",
       "      <th>sample_name</th>\n",
       "      <th>transcription</th>\n",
       "      <th>keywords</th>\n",
       "      <th>clean</th>\n",
       "      <th>all_doc_topics</th>\n",
       "      <th>topic</th>\n",
       "    </tr>\n",
       "  </thead>\n",
       "  <tbody>\n",
       "    <tr>\n",
       "      <th>0</th>\n",
       "      <td>0</td>\n",
       "      <td>A 23-year-old white female presents with comp...</td>\n",
       "      <td>Allergy / Immunology</td>\n",
       "      <td>Allergic Rhinitis</td>\n",
       "      <td>SUBJECTIVE:,  This 23-year-old white female pr...</td>\n",
       "      <td>allergy / immunology, allergic rhinitis, aller...</td>\n",
       "      <td>subjective yearold white female present compla...</td>\n",
       "      <td>(0, 0.02260399)</td>\n",
       "      <td>(3, 0.7769482)</td>\n",
       "    </tr>\n",
       "    <tr>\n",
       "      <th>1</th>\n",
       "      <td>1</td>\n",
       "      <td>Consult for laparoscopic gastric bypass.</td>\n",
       "      <td>Bariatrics</td>\n",
       "      <td>Laparoscopic Gastric Bypass Consult - 2</td>\n",
       "      <td>PAST MEDICAL HISTORY:, He has difficulty climb...</td>\n",
       "      <td>bariatrics, laparoscopic gastric bypass, weigh...</td>\n",
       "      <td>past medical history difficulty climb_stair di...</td>\n",
       "      <td>(0, 0.2115749)</td>\n",
       "      <td>(3, 0.544639)</td>\n",
       "    </tr>\n",
       "    <tr>\n",
       "      <th>2</th>\n",
       "      <td>2</td>\n",
       "      <td>Consult for laparoscopic gastric bypass.</td>\n",
       "      <td>Bariatrics</td>\n",
       "      <td>Laparoscopic Gastric Bypass Consult - 1</td>\n",
       "      <td>HISTORY OF PRESENT ILLNESS: , I have seen ABC ...</td>\n",
       "      <td>bariatrics, laparoscopic gastric bypass, heart...</td>\n",
       "      <td>history present today old overweight year age ...</td>\n",
       "      <td>(0, 0.14475581)</td>\n",
       "      <td>(3, 0.6755157)</td>\n",
       "    </tr>\n",
       "    <tr>\n",
       "      <th>3</th>\n",
       "      <td>3</td>\n",
       "      <td>2-D M-Mode. Doppler.</td>\n",
       "      <td>Cardiovascular / Pulmonary</td>\n",
       "      <td>2-D Echocardiogram - 1</td>\n",
       "      <td>2-D M-MODE: , ,1.  Left atrial enlargement wit...</td>\n",
       "      <td>cardiovascular / pulmonary, 2-d m-mode, dopple...</td>\n",
       "      <td>leave atrial enlargement leave atrial diameter...</td>\n",
       "      <td>(0, 0.047300287)</td>\n",
       "      <td>(4, 0.8070171)</td>\n",
       "    </tr>\n",
       "    <tr>\n",
       "      <th>4</th>\n",
       "      <td>4</td>\n",
       "      <td>2-D Echocardiogram</td>\n",
       "      <td>Cardiovascular / Pulmonary</td>\n",
       "      <td>2-D Echocardiogram - 2</td>\n",
       "      <td>1.  The left ventricular cavity size and wall ...</td>\n",
       "      <td>cardiovascular / pulmonary, 2-d, doppler, echo...</td>\n",
       "      <td>leave ventricular cavity size wall thickness a...</td>\n",
       "      <td>(0, 0.16625309)</td>\n",
       "      <td>(4, 0.6450536)</td>\n",
       "    </tr>\n",
       "  </tbody>\n",
       "</table>\n",
       "</div>"
      ],
      "text/plain": [
       "   Unnamed: 0                                        description  \\\n",
       "0           0   A 23-year-old white female presents with comp...   \n",
       "1           1           Consult for laparoscopic gastric bypass.   \n",
       "2           2           Consult for laparoscopic gastric bypass.   \n",
       "3           3                             2-D M-Mode. Doppler.     \n",
       "4           4                                 2-D Echocardiogram   \n",
       "\n",
       "             medical_specialty                                sample_name  \\\n",
       "0         Allergy / Immunology                         Allergic Rhinitis    \n",
       "1                   Bariatrics   Laparoscopic Gastric Bypass Consult - 2    \n",
       "2                   Bariatrics   Laparoscopic Gastric Bypass Consult - 1    \n",
       "3   Cardiovascular / Pulmonary                    2-D Echocardiogram - 1    \n",
       "4   Cardiovascular / Pulmonary                    2-D Echocardiogram - 2    \n",
       "\n",
       "                                       transcription  \\\n",
       "0  SUBJECTIVE:,  This 23-year-old white female pr...   \n",
       "1  PAST MEDICAL HISTORY:, He has difficulty climb...   \n",
       "2  HISTORY OF PRESENT ILLNESS: , I have seen ABC ...   \n",
       "3  2-D M-MODE: , ,1.  Left atrial enlargement wit...   \n",
       "4  1.  The left ventricular cavity size and wall ...   \n",
       "\n",
       "                                            keywords  \\\n",
       "0  allergy / immunology, allergic rhinitis, aller...   \n",
       "1  bariatrics, laparoscopic gastric bypass, weigh...   \n",
       "2  bariatrics, laparoscopic gastric bypass, heart...   \n",
       "3  cardiovascular / pulmonary, 2-d m-mode, dopple...   \n",
       "4  cardiovascular / pulmonary, 2-d, doppler, echo...   \n",
       "\n",
       "                                               clean    all_doc_topics  \\\n",
       "0  subjective yearold white female present compla...   (0, 0.02260399)   \n",
       "1  past medical history difficulty climb_stair di...    (0, 0.2115749)   \n",
       "2  history present today old overweight year age ...   (0, 0.14475581)   \n",
       "3  leave atrial enlargement leave atrial diameter...  (0, 0.047300287)   \n",
       "4  leave ventricular cavity size wall thickness a...   (0, 0.16625309)   \n",
       "\n",
       "            topic  \n",
       "0  (3, 0.7769482)  \n",
       "1   (3, 0.544639)  \n",
       "2  (3, 0.6755157)  \n",
       "3  (4, 0.8070171)  \n",
       "4  (4, 0.6450536)  "
      ]
     },
     "execution_count": 23,
     "metadata": {},
     "output_type": "execute_result"
    }
   ],
   "source": [
    "# extract the top topic and add it to the data\n",
    "def topic(all_doc_topics): \n",
    "    to_sort = [[item[1],item[0]] for item in all_doc_topics]\n",
    "    to_sort.sort(reverse=1)\n",
    "    max_value,max_topic = to_sort[0][0],to_sort[0][1]\n",
    "    return [doc[0] for doc in all_doc_topics]\n",
    "\n",
    "topics = topic(all_doc_topics)\n",
    "\n",
    "df['topic'] = topics\n",
    "df.head()"
   ]
  },
  {
   "cell_type": "code",
   "execution_count": 24,
   "metadata": {
    "scrolled": false
   },
   "outputs": [
    {
     "data": {
      "text/html": [
       "<div>\n",
       "<style scoped>\n",
       "    .dataframe tbody tr th:only-of-type {\n",
       "        vertical-align: middle;\n",
       "    }\n",
       "\n",
       "    .dataframe tbody tr th {\n",
       "        vertical-align: top;\n",
       "    }\n",
       "\n",
       "    .dataframe thead th {\n",
       "        text-align: right;\n",
       "    }\n",
       "</style>\n",
       "<table border=\"1\" class=\"dataframe\">\n",
       "  <thead>\n",
       "    <tr style=\"text-align: right;\">\n",
       "      <th></th>\n",
       "      <th>Unnamed: 0</th>\n",
       "      <th>description</th>\n",
       "      <th>medical_specialty</th>\n",
       "      <th>sample_name</th>\n",
       "      <th>transcription</th>\n",
       "      <th>keywords</th>\n",
       "      <th>clean</th>\n",
       "      <th>all_doc_topics</th>\n",
       "      <th>topic</th>\n",
       "      <th>topic_value</th>\n",
       "    </tr>\n",
       "  </thead>\n",
       "  <tbody>\n",
       "    <tr>\n",
       "      <th>0</th>\n",
       "      <td>0</td>\n",
       "      <td>A 23-year-old white female presents with comp...</td>\n",
       "      <td>Allergy / Immunology</td>\n",
       "      <td>Allergic Rhinitis</td>\n",
       "      <td>SUBJECTIVE:,  This 23-year-old white female pr...</td>\n",
       "      <td>allergy / immunology, allergic rhinitis, aller...</td>\n",
       "      <td>subjective yearold white female present compla...</td>\n",
       "      <td>(0, 0.02260399)</td>\n",
       "      <td>3</td>\n",
       "      <td>0.776948</td>\n",
       "    </tr>\n",
       "    <tr>\n",
       "      <th>1</th>\n",
       "      <td>1</td>\n",
       "      <td>Consult for laparoscopic gastric bypass.</td>\n",
       "      <td>Bariatrics</td>\n",
       "      <td>Laparoscopic Gastric Bypass Consult - 2</td>\n",
       "      <td>PAST MEDICAL HISTORY:, He has difficulty climb...</td>\n",
       "      <td>bariatrics, laparoscopic gastric bypass, weigh...</td>\n",
       "      <td>past medical history difficulty climb_stair di...</td>\n",
       "      <td>(0, 0.2115749)</td>\n",
       "      <td>3</td>\n",
       "      <td>0.544639</td>\n",
       "    </tr>\n",
       "    <tr>\n",
       "      <th>2</th>\n",
       "      <td>2</td>\n",
       "      <td>Consult for laparoscopic gastric bypass.</td>\n",
       "      <td>Bariatrics</td>\n",
       "      <td>Laparoscopic Gastric Bypass Consult - 1</td>\n",
       "      <td>HISTORY OF PRESENT ILLNESS: , I have seen ABC ...</td>\n",
       "      <td>bariatrics, laparoscopic gastric bypass, heart...</td>\n",
       "      <td>history present today old overweight year age ...</td>\n",
       "      <td>(0, 0.14475581)</td>\n",
       "      <td>3</td>\n",
       "      <td>0.675516</td>\n",
       "    </tr>\n",
       "    <tr>\n",
       "      <th>3</th>\n",
       "      <td>3</td>\n",
       "      <td>2-D M-Mode. Doppler.</td>\n",
       "      <td>Cardiovascular / Pulmonary</td>\n",
       "      <td>2-D Echocardiogram - 1</td>\n",
       "      <td>2-D M-MODE: , ,1.  Left atrial enlargement wit...</td>\n",
       "      <td>cardiovascular / pulmonary, 2-d m-mode, dopple...</td>\n",
       "      <td>leave atrial enlargement leave atrial diameter...</td>\n",
       "      <td>(0, 0.047300287)</td>\n",
       "      <td>4</td>\n",
       "      <td>0.807017</td>\n",
       "    </tr>\n",
       "    <tr>\n",
       "      <th>4</th>\n",
       "      <td>4</td>\n",
       "      <td>2-D Echocardiogram</td>\n",
       "      <td>Cardiovascular / Pulmonary</td>\n",
       "      <td>2-D Echocardiogram - 2</td>\n",
       "      <td>1.  The left ventricular cavity size and wall ...</td>\n",
       "      <td>cardiovascular / pulmonary, 2-d, doppler, echo...</td>\n",
       "      <td>leave ventricular cavity size wall thickness a...</td>\n",
       "      <td>(0, 0.16625309)</td>\n",
       "      <td>4</td>\n",
       "      <td>0.645054</td>\n",
       "    </tr>\n",
       "  </tbody>\n",
       "</table>\n",
       "</div>"
      ],
      "text/plain": [
       "   Unnamed: 0                                        description  \\\n",
       "0           0   A 23-year-old white female presents with comp...   \n",
       "1           1           Consult for laparoscopic gastric bypass.   \n",
       "2           2           Consult for laparoscopic gastric bypass.   \n",
       "3           3                             2-D M-Mode. Doppler.     \n",
       "4           4                                 2-D Echocardiogram   \n",
       "\n",
       "             medical_specialty                                sample_name  \\\n",
       "0         Allergy / Immunology                         Allergic Rhinitis    \n",
       "1                   Bariatrics   Laparoscopic Gastric Bypass Consult - 2    \n",
       "2                   Bariatrics   Laparoscopic Gastric Bypass Consult - 1    \n",
       "3   Cardiovascular / Pulmonary                    2-D Echocardiogram - 1    \n",
       "4   Cardiovascular / Pulmonary                    2-D Echocardiogram - 2    \n",
       "\n",
       "                                       transcription  \\\n",
       "0  SUBJECTIVE:,  This 23-year-old white female pr...   \n",
       "1  PAST MEDICAL HISTORY:, He has difficulty climb...   \n",
       "2  HISTORY OF PRESENT ILLNESS: , I have seen ABC ...   \n",
       "3  2-D M-MODE: , ,1.  Left atrial enlargement wit...   \n",
       "4  1.  The left ventricular cavity size and wall ...   \n",
       "\n",
       "                                            keywords  \\\n",
       "0  allergy / immunology, allergic rhinitis, aller...   \n",
       "1  bariatrics, laparoscopic gastric bypass, weigh...   \n",
       "2  bariatrics, laparoscopic gastric bypass, heart...   \n",
       "3  cardiovascular / pulmonary, 2-d m-mode, dopple...   \n",
       "4  cardiovascular / pulmonary, 2-d, doppler, echo...   \n",
       "\n",
       "                                               clean    all_doc_topics  topic  \\\n",
       "0  subjective yearold white female present compla...   (0, 0.02260399)      3   \n",
       "1  past medical history difficulty climb_stair di...    (0, 0.2115749)      3   \n",
       "2  history present today old overweight year age ...   (0, 0.14475581)      3   \n",
       "3  leave atrial enlargement leave atrial diameter...  (0, 0.047300287)      4   \n",
       "4  leave ventricular cavity size wall thickness a...   (0, 0.16625309)      4   \n",
       "\n",
       "   topic_value  \n",
       "0     0.776948  \n",
       "1     0.544639  \n",
       "2     0.675516  \n",
       "3     0.807017  \n",
       "4     0.645054  "
      ]
     },
     "execution_count": 24,
     "metadata": {},
     "output_type": "execute_result"
    }
   ],
   "source": [
    "# separate the topics from their values and capture both\n",
    "topic_num = [item[0] for item in topics]\n",
    "df['topic'] = topic_num\n",
    "\n",
    "topic_value = [item[1] for item in topics]\n",
    "df['topic_value'] = topic_value\n",
    "\n",
    "df.head()"
   ]
  },
  {
   "cell_type": "code",
   "execution_count": 25,
   "metadata": {},
   "outputs": [],
   "source": [
    "train_vector = []\n",
    "for i in range(len(data)):\n",
    "    top_topics = lda_model.get_document_topics(corpus[i], minimum_probability=0.0)\n",
    "    topic_vec = [top_topics[i][1] for i in range(5)]\n",
    "    train_vector.append(topic_vec)"
   ]
  },
  {
   "cell_type": "code",
   "execution_count": 26,
   "metadata": {},
   "outputs": [],
   "source": [
    "# commented out for export \n",
    "#train_vector"
   ]
  },
  {
   "cell_type": "code",
   "execution_count": 27,
   "metadata": {},
   "outputs": [
    {
     "name": "stderr",
     "output_type": "stream",
     "text": [
      "C:\\Users\\607791\\AppData\\Roaming\\Python\\Python37\\site-packages\\sklearn\\linear_model\\logistic.py:469: FutureWarning: Default multi_class will be changed to 'auto' in 0.22. Specify the multi_class option to silence this warning.\n",
      "  \"this warning.\", FutureWarning)\n",
      "C:\\Users\\607791\\Anaconda\\lib\\site-packages\\scipy\\optimize\\linesearch.py:314: LineSearchWarning: The line search algorithm did not converge\n",
      "  warn('The line search algorithm did not converge', LineSearchWarning)\n",
      "C:\\Users\\607791\\AppData\\Roaming\\Python\\Python37\\site-packages\\sklearn\\utils\\optimize.py:195: UserWarning: Line Search failed\n",
      "  warnings.warn('Line Search failed')\n",
      "C:\\Users\\607791\\Anaconda\\lib\\site-packages\\scipy\\optimize\\linesearch.py:314: LineSearchWarning: The line search algorithm did not converge\n",
      "  warn('The line search algorithm did not converge', LineSearchWarning)\n",
      "C:\\Users\\607791\\AppData\\Roaming\\Python\\Python37\\site-packages\\sklearn\\utils\\optimize.py:195: UserWarning: Line Search failed\n",
      "  warnings.warn('Line Search failed')\n",
      "C:\\Users\\607791\\Anaconda\\lib\\site-packages\\scipy\\optimize\\linesearch.py:314: LineSearchWarning: The line search algorithm did not converge\n",
      "  warn('The line search algorithm did not converge', LineSearchWarning)\n",
      "C:\\Users\\607791\\AppData\\Roaming\\Python\\Python37\\site-packages\\sklearn\\utils\\optimize.py:195: UserWarning: Line Search failed\n",
      "  warnings.warn('Line Search failed')\n",
      "C:\\Users\\607791\\Anaconda\\lib\\site-packages\\scipy\\optimize\\linesearch.py:314: LineSearchWarning: The line search algorithm did not converge\n",
      "  warn('The line search algorithm did not converge', LineSearchWarning)\n",
      "C:\\Users\\607791\\AppData\\Roaming\\Python\\Python37\\site-packages\\sklearn\\utils\\optimize.py:195: UserWarning: Line Search failed\n",
      "  warnings.warn('Line Search failed')\n",
      "C:\\Users\\607791\\Anaconda\\lib\\site-packages\\scipy\\optimize\\linesearch.py:314: LineSearchWarning: The line search algorithm did not converge\n",
      "  warn('The line search algorithm did not converge', LineSearchWarning)\n",
      "C:\\Users\\607791\\AppData\\Roaming\\Python\\Python37\\site-packages\\sklearn\\utils\\optimize.py:195: UserWarning: Line Search failed\n",
      "  warnings.warn('Line Search failed')\n",
      "C:\\Users\\607791\\AppData\\Roaming\\Python\\Python37\\site-packages\\sklearn\\metrics\\classification.py:1437: UndefinedMetricWarning: F-score is ill-defined and being set to 0.0 in labels with no predicted samples.\n",
      "  'precision', 'predicted', average, warn_for)\n",
      "C:\\Users\\607791\\AppData\\Roaming\\Python\\Python37\\site-packages\\sklearn\\linear_model\\logistic.py:469: FutureWarning: Default multi_class will be changed to 'auto' in 0.22. Specify the multi_class option to silence this warning.\n",
      "  \"this warning.\", FutureWarning)\n",
      "C:\\Users\\607791\\Anaconda\\lib\\site-packages\\scipy\\optimize\\linesearch.py:314: LineSearchWarning: The line search algorithm did not converge\n",
      "  warn('The line search algorithm did not converge', LineSearchWarning)\n",
      "C:\\Users\\607791\\AppData\\Roaming\\Python\\Python37\\site-packages\\sklearn\\utils\\optimize.py:195: UserWarning: Line Search failed\n",
      "  warnings.warn('Line Search failed')\n",
      "C:\\Users\\607791\\Anaconda\\lib\\site-packages\\scipy\\optimize\\linesearch.py:314: LineSearchWarning: The line search algorithm did not converge\n",
      "  warn('The line search algorithm did not converge', LineSearchWarning)\n",
      "C:\\Users\\607791\\AppData\\Roaming\\Python\\Python37\\site-packages\\sklearn\\utils\\optimize.py:195: UserWarning: Line Search failed\n",
      "  warnings.warn('Line Search failed')\n",
      "C:\\Users\\607791\\Anaconda\\lib\\site-packages\\scipy\\optimize\\linesearch.py:314: LineSearchWarning: The line search algorithm did not converge\n",
      "  warn('The line search algorithm did not converge', LineSearchWarning)\n",
      "C:\\Users\\607791\\AppData\\Roaming\\Python\\Python37\\site-packages\\sklearn\\utils\\optimize.py:195: UserWarning: Line Search failed\n",
      "  warnings.warn('Line Search failed')\n",
      "C:\\Users\\607791\\Anaconda\\lib\\site-packages\\scipy\\optimize\\linesearch.py:314: LineSearchWarning: The line search algorithm did not converge\n",
      "  warn('The line search algorithm did not converge', LineSearchWarning)\n",
      "C:\\Users\\607791\\AppData\\Roaming\\Python\\Python37\\site-packages\\sklearn\\utils\\optimize.py:195: UserWarning: Line Search failed\n",
      "  warnings.warn('Line Search failed')\n",
      "C:\\Users\\607791\\AppData\\Roaming\\Python\\Python37\\site-packages\\sklearn\\linear_model\\logistic.py:469: FutureWarning: Default multi_class will be changed to 'auto' in 0.22. Specify the multi_class option to silence this warning.\n",
      "  \"this warning.\", FutureWarning)\n",
      "C:\\Users\\607791\\Anaconda\\lib\\site-packages\\scipy\\optimize\\linesearch.py:314: LineSearchWarning: The line search algorithm did not converge\n",
      "  warn('The line search algorithm did not converge', LineSearchWarning)\n",
      "C:\\Users\\607791\\AppData\\Roaming\\Python\\Python37\\site-packages\\sklearn\\utils\\optimize.py:195: UserWarning: Line Search failed\n",
      "  warnings.warn('Line Search failed')\n",
      "C:\\Users\\607791\\Anaconda\\lib\\site-packages\\scipy\\optimize\\linesearch.py:314: LineSearchWarning: The line search algorithm did not converge\n",
      "  warn('The line search algorithm did not converge', LineSearchWarning)\n",
      "C:\\Users\\607791\\AppData\\Roaming\\Python\\Python37\\site-packages\\sklearn\\utils\\optimize.py:195: UserWarning: Line Search failed\n",
      "  warnings.warn('Line Search failed')\n",
      "C:\\Users\\607791\\Anaconda\\lib\\site-packages\\scipy\\optimize\\linesearch.py:314: LineSearchWarning: The line search algorithm did not converge\n",
      "  warn('The line search algorithm did not converge', LineSearchWarning)\n",
      "C:\\Users\\607791\\AppData\\Roaming\\Python\\Python37\\site-packages\\sklearn\\utils\\optimize.py:195: UserWarning: Line Search failed\n",
      "  warnings.warn('Line Search failed')\n",
      "C:\\Users\\607791\\Anaconda\\lib\\site-packages\\scipy\\optimize\\linesearch.py:314: LineSearchWarning: The line search algorithm did not converge\n",
      "  warn('The line search algorithm did not converge', LineSearchWarning)\n",
      "C:\\Users\\607791\\AppData\\Roaming\\Python\\Python37\\site-packages\\sklearn\\utils\\optimize.py:195: UserWarning: Line Search failed\n",
      "  warnings.warn('Line Search failed')\n",
      "C:\\Users\\607791\\Anaconda\\lib\\site-packages\\scipy\\optimize\\linesearch.py:314: LineSearchWarning: The line search algorithm did not converge\n",
      "  warn('The line search algorithm did not converge', LineSearchWarning)\n",
      "C:\\Users\\607791\\AppData\\Roaming\\Python\\Python37\\site-packages\\sklearn\\utils\\optimize.py:195: UserWarning: Line Search failed\n",
      "  warnings.warn('Line Search failed')\n",
      "C:\\Users\\607791\\AppData\\Roaming\\Python\\Python37\\site-packages\\sklearn\\linear_model\\logistic.py:469: FutureWarning: Default multi_class will be changed to 'auto' in 0.22. Specify the multi_class option to silence this warning.\n",
      "  \"this warning.\", FutureWarning)\n",
      "C:\\Users\\607791\\Anaconda\\lib\\site-packages\\scipy\\optimize\\linesearch.py:314: LineSearchWarning: The line search algorithm did not converge\n",
      "  warn('The line search algorithm did not converge', LineSearchWarning)\n",
      "C:\\Users\\607791\\AppData\\Roaming\\Python\\Python37\\site-packages\\sklearn\\utils\\optimize.py:195: UserWarning: Line Search failed\n",
      "  warnings.warn('Line Search failed')\n",
      "C:\\Users\\607791\\Anaconda\\lib\\site-packages\\scipy\\optimize\\linesearch.py:314: LineSearchWarning: The line search algorithm did not converge\n",
      "  warn('The line search algorithm did not converge', LineSearchWarning)\n",
      "C:\\Users\\607791\\AppData\\Roaming\\Python\\Python37\\site-packages\\sklearn\\utils\\optimize.py:195: UserWarning: Line Search failed\n",
      "  warnings.warn('Line Search failed')\n",
      "C:\\Users\\607791\\Anaconda\\lib\\site-packages\\scipy\\optimize\\linesearch.py:314: LineSearchWarning: The line search algorithm did not converge\n",
      "  warn('The line search algorithm did not converge', LineSearchWarning)\n",
      "C:\\Users\\607791\\AppData\\Roaming\\Python\\Python37\\site-packages\\sklearn\\utils\\optimize.py:195: UserWarning: Line Search failed\n",
      "  warnings.warn('Line Search failed')\n",
      "C:\\Users\\607791\\Anaconda\\lib\\site-packages\\scipy\\optimize\\linesearch.py:314: LineSearchWarning: The line search algorithm did not converge\n",
      "  warn('The line search algorithm did not converge', LineSearchWarning)\n",
      "C:\\Users\\607791\\AppData\\Roaming\\Python\\Python37\\site-packages\\sklearn\\utils\\optimize.py:195: UserWarning: Line Search failed\n",
      "  warnings.warn('Line Search failed')\n",
      "C:\\Users\\607791\\Anaconda\\lib\\site-packages\\scipy\\optimize\\linesearch.py:314: LineSearchWarning: The line search algorithm did not converge\n",
      "  warn('The line search algorithm did not converge', LineSearchWarning)\n",
      "C:\\Users\\607791\\AppData\\Roaming\\Python\\Python37\\site-packages\\sklearn\\utils\\optimize.py:195: UserWarning: Line Search failed\n",
      "  warnings.warn('Line Search failed')\n",
      "C:\\Users\\607791\\Anaconda\\lib\\site-packages\\scipy\\optimize\\linesearch.py:314: LineSearchWarning: The line search algorithm did not converge\n",
      "  warn('The line search algorithm did not converge', LineSearchWarning)\n",
      "C:\\Users\\607791\\AppData\\Roaming\\Python\\Python37\\site-packages\\sklearn\\utils\\optimize.py:195: UserWarning: Line Search failed\n",
      "  warnings.warn('Line Search failed')\n",
      "C:\\Users\\607791\\AppData\\Roaming\\Python\\Python37\\site-packages\\sklearn\\linear_model\\logistic.py:469: FutureWarning: Default multi_class will be changed to 'auto' in 0.22. Specify the multi_class option to silence this warning.\n",
      "  \"this warning.\", FutureWarning)\n",
      "C:\\Users\\607791\\Anaconda\\lib\\site-packages\\scipy\\optimize\\linesearch.py:314: LineSearchWarning: The line search algorithm did not converge\n",
      "  warn('The line search algorithm did not converge', LineSearchWarning)\n",
      "C:\\Users\\607791\\AppData\\Roaming\\Python\\Python37\\site-packages\\sklearn\\utils\\optimize.py:195: UserWarning: Line Search failed\n",
      "  warnings.warn('Line Search failed')\n",
      "C:\\Users\\607791\\Anaconda\\lib\\site-packages\\scipy\\optimize\\linesearch.py:314: LineSearchWarning: The line search algorithm did not converge\n",
      "  warn('The line search algorithm did not converge', LineSearchWarning)\n",
      "C:\\Users\\607791\\AppData\\Roaming\\Python\\Python37\\site-packages\\sklearn\\utils\\optimize.py:195: UserWarning: Line Search failed\n",
      "  warnings.warn('Line Search failed')\n",
      "C:\\Users\\607791\\Anaconda\\lib\\site-packages\\scipy\\optimize\\linesearch.py:314: LineSearchWarning: The line search algorithm did not converge\n",
      "  warn('The line search algorithm did not converge', LineSearchWarning)\n",
      "C:\\Users\\607791\\AppData\\Roaming\\Python\\Python37\\site-packages\\sklearn\\utils\\optimize.py:195: UserWarning: Line Search failed\n",
      "  warnings.warn('Line Search failed')\n",
      "C:\\Users\\607791\\Anaconda\\lib\\site-packages\\scipy\\optimize\\linesearch.py:314: LineSearchWarning: The line search algorithm did not converge\n",
      "  warn('The line search algorithm did not converge', LineSearchWarning)\n",
      "C:\\Users\\607791\\AppData\\Roaming\\Python\\Python37\\site-packages\\sklearn\\utils\\optimize.py:195: UserWarning: Line Search failed\n",
      "  warnings.warn('Line Search failed')\n",
      "C:\\Users\\607791\\AppData\\Roaming\\Python\\Python37\\site-packages\\sklearn\\linear_model\\logistic.py:469: FutureWarning: Default multi_class will be changed to 'auto' in 0.22. Specify the multi_class option to silence this warning.\n",
      "  \"this warning.\", FutureWarning)\n",
      "C:\\Users\\607791\\Anaconda\\lib\\site-packages\\scipy\\optimize\\linesearch.py:314: LineSearchWarning: The line search algorithm did not converge\n",
      "  warn('The line search algorithm did not converge', LineSearchWarning)\n",
      "C:\\Users\\607791\\AppData\\Roaming\\Python\\Python37\\site-packages\\sklearn\\utils\\optimize.py:195: UserWarning: Line Search failed\n",
      "  warnings.warn('Line Search failed')\n",
      "C:\\Users\\607791\\Anaconda\\lib\\site-packages\\scipy\\optimize\\linesearch.py:314: LineSearchWarning: The line search algorithm did not converge\n",
      "  warn('The line search algorithm did not converge', LineSearchWarning)\n",
      "C:\\Users\\607791\\AppData\\Roaming\\Python\\Python37\\site-packages\\sklearn\\utils\\optimize.py:195: UserWarning: Line Search failed\n",
      "  warnings.warn('Line Search failed')\n",
      "C:\\Users\\607791\\Anaconda\\lib\\site-packages\\scipy\\optimize\\linesearch.py:314: LineSearchWarning: The line search algorithm did not converge\n",
      "  warn('The line search algorithm did not converge', LineSearchWarning)\n",
      "C:\\Users\\607791\\AppData\\Roaming\\Python\\Python37\\site-packages\\sklearn\\utils\\optimize.py:195: UserWarning: Line Search failed\n",
      "  warnings.warn('Line Search failed')\n"
     ]
    }
   ],
   "source": [
    "#logistic regression to label unseen data with topics\n",
    "X = np.array(train_vector)\n",
    "y = np.array(topic_num)\n",
    "\n",
    "# kfold to split data with 1/6th for validation\n",
    "kf = KFold(6, shuffle=True, random_state=10)\n",
    "log_reg = []\n",
    "\n",
    "for train, valid in kf.split(X, y):\n",
    "    X_train, y_train = X[train], y[train]\n",
    "    X_valid, y_valid = X[valid], y[valid]\n",
    "    \n",
    "    scaler = StandardScaler()\n",
    "    X_trainS = scaler.fit_transform(X_train)\n",
    "    X_valS = scaler.transform(X_valid)\n",
    "\n",
    "    # logisitic regression model\n",
    "    logreg_model = LogisticRegression(class_weight= 'balanced',solver='newton-cg',fit_intercept=True).fit(X_trainS, y_train)\n",
    "\n",
    "    y_predict = logreg_model.predict(X_valS)\n",
    "    log_reg.append(f1_score(y_valid, y_predict, average=None))"
   ]
  },
  {
   "cell_type": "code",
   "execution_count": 28,
   "metadata": {},
   "outputs": [
    {
     "name": "stdout",
     "output_type": "stream",
     "text": [
      "Logistic Regression Result: 0.743 +- 0.311\n"
     ]
    }
   ],
   "source": [
    "# logistic regression result with 1.0 being 100% success and a standard deviation\n",
    "print(f'Logistic Regression Result: {np.mean(log_reg):.3f} +- {np.std(log_reg):.3f}')"
   ]
  },
  {
   "cell_type": "code",
   "execution_count": 29,
   "metadata": {},
   "outputs": [],
   "source": [
    "# commented out for export \n",
    "#y_valid"
   ]
  },
  {
   "cell_type": "code",
   "execution_count": 30,
   "metadata": {},
   "outputs": [],
   "source": [
    "# commented out for export \n",
    "#y_predict"
   ]
  },
  {
   "cell_type": "code",
   "execution_count": 31,
   "metadata": {},
   "outputs": [],
   "source": [
    "df['Joined'] = df.clean.apply(''.join)"
   ]
  },
  {
   "cell_type": "code",
   "execution_count": 32,
   "metadata": {},
   "outputs": [],
   "source": [
    "# commented out for export \n",
    "#df['Joined']"
   ]
  },
  {
   "cell_type": "code",
   "execution_count": 33,
   "metadata": {},
   "outputs": [],
   "source": [
    "cleaned = df.clean.to_string()"
   ]
  },
  {
   "cell_type": "code",
   "execution_count": 34,
   "metadata": {},
   "outputs": [
    {
     "data": {
      "text/plain": [
       "Sentiment(polarity=0.06326311140966269, subjectivity=0.30700536975441356)"
      ]
     },
     "execution_count": 34,
     "metadata": {},
     "output_type": "execute_result"
    }
   ],
   "source": [
    "# overall sentiment of all transcriptions\n",
    "# textblob uses a lookup dictionary for sentiment and subjectivity \n",
    "from textblob import TextBlob\n",
    "TextBlob(cleaned).sentiment"
   ]
  },
  {
   "cell_type": "code",
   "execution_count": 35,
   "metadata": {},
   "outputs": [
    {
     "data": {
      "text/plain": [
       "'subjective yearold white female present complaint allergy allergy live bad try claritin zyrtec work short seem lose effectiveness allegra also summer begin week ago appear work well overthecounter spray prescription nasal spray asthma do require upmedication medication currently ortho tricyclen know medicine weight pound blood pressure heent throat mildly erythematous exudate nasal mucosa erythematous swollen clear drainage clearassessment allergic rhinitisplan try zyrtec instead allegra option loratadine prescription coverage may cheap sample give week prescription write well'"
      ]
     },
     "execution_count": 35,
     "metadata": {},
     "output_type": "execute_result"
    }
   ],
   "source": [
    "df.clean[0]"
   ]
  },
  {
   "cell_type": "code",
   "execution_count": 36,
   "metadata": {},
   "outputs": [],
   "source": [
    "from nltk.corpus import subjectivity\n",
    "from nltk.sentiment.vader import SentimentIntensityAnalyzer"
   ]
  },
  {
   "cell_type": "code",
   "execution_count": 37,
   "metadata": {},
   "outputs": [
    {
     "data": {
      "text/plain": [
       "Sentiment(polarity=-0.002754820936639111, subjectivity=0.34696969696969693, assessments=[(['white'], 0.0, 0.0, None), (['female'], 0.0, 0.16666666666666666, None), (['present'], 0.0, 0.0, None), (['complaint'], -0.3, 0.2, None), (['live'], 0.13636363636363635, 0.5, None), (['bad'], -0.6999999999999998, 0.6666666666666666, None), (['short'], 0.0, 0.3, None), (['currently'], 0.0, 0.4, None), (['mildly'], 0.3333333333333333, 0.5, None), (['clear'], 0.10000000000000002, 0.3833333333333333, None), (['cheap'], 0.4, 0.7, None)])"
      ]
     },
     "execution_count": 37,
     "metadata": {},
     "output_type": "execute_result"
    }
   ],
   "source": [
    "import textblob\n",
    "tb = textblob.TextBlob(df.clean[0])\n",
    "tb.sentiment_assessments"
   ]
  },
  {
   "cell_type": "code",
   "execution_count": 38,
   "metadata": {},
   "outputs": [
    {
     "data": {
      "text/plain": [
       "Sentiment(classification='neg', p_pos=4.882977098405317e-05, p_neg=0.9999511702290205)"
      ]
     },
     "execution_count": 38,
     "metadata": {},
     "output_type": "execute_result"
    }
   ],
   "source": [
    "# naive bayes sentiment classification, sentiment probabilities\n",
    "nb = textblob.en.sentiments.NaiveBayesAnalyzer()\n",
    "nb.analyze(df.clean[0])"
   ]
  },
  {
   "cell_type": "code",
   "execution_count": 39,
   "metadata": {},
   "outputs": [
    {
     "data": {
      "text/plain": [
       "Sentiment(classification='pos', p_pos=0.9996668473753652, p_neg=0.00033315262466885595)"
      ]
     },
     "execution_count": 39,
     "metadata": {},
     "output_type": "execute_result"
    }
   ],
   "source": [
    "nb.analyze(df.clean[1])"
   ]
  },
  {
   "cell_type": "code",
   "execution_count": 40,
   "metadata": {},
   "outputs": [],
   "source": [
    "# rule based method for sentiment analysis\n",
    "from vaderSentiment.vaderSentiment import SentimentIntensityAnalyzer\n",
    "analyzer = SentimentIntensityAnalyzer()"
   ]
  },
  {
   "cell_type": "code",
   "execution_count": 41,
   "metadata": {},
   "outputs": [
    {
     "data": {
      "text/plain": [
       "{'neg': 0.146, 'neu': 0.776, 'pos': 0.078, 'compound': -0.7184}"
      ]
     },
     "execution_count": 41,
     "metadata": {},
     "output_type": "execute_result"
    }
   ],
   "source": [
    "analyzer.polarity_scores(df.clean[0])"
   ]
  },
  {
   "cell_type": "code",
   "execution_count": 42,
   "metadata": {},
   "outputs": [],
   "source": [
    "def sentiment_score(clean_med):\n",
    "    score = analyzer.polarity_scores(clean_med)\n",
    "    weight = score['compound']\n",
    "    if weight >= 0.1:\n",
    "        return 1\n",
    "    elif (weight < 0.1) and (weight > -0.1):\n",
    "        return 0\n",
    "    else:\n",
    "        return -1"
   ]
  },
  {
   "cell_type": "code",
   "execution_count": 43,
   "metadata": {},
   "outputs": [
    {
     "data": {
      "text/plain": [
       "-1"
      ]
     },
     "execution_count": 43,
     "metadata": {},
     "output_type": "execute_result"
    }
   ],
   "source": [
    "sentiment_score(df.clean[0])"
   ]
  },
  {
   "cell_type": "code",
   "execution_count": 44,
   "metadata": {},
   "outputs": [
    {
     "data": {
      "text/html": [
       "<div>\n",
       "<style scoped>\n",
       "    .dataframe tbody tr th:only-of-type {\n",
       "        vertical-align: middle;\n",
       "    }\n",
       "\n",
       "    .dataframe tbody tr th {\n",
       "        vertical-align: top;\n",
       "    }\n",
       "\n",
       "    .dataframe thead th {\n",
       "        text-align: right;\n",
       "    }\n",
       "</style>\n",
       "<table border=\"1\" class=\"dataframe\">\n",
       "  <thead>\n",
       "    <tr style=\"text-align: right;\">\n",
       "      <th></th>\n",
       "      <th>polarity</th>\n",
       "      <th>clean_med</th>\n",
       "    </tr>\n",
       "  </thead>\n",
       "  <tbody>\n",
       "    <tr>\n",
       "      <th>0</th>\n",
       "      <td>-0.021562</td>\n",
       "      <td>SUBJECTIVE   yearold white female present comp...</td>\n",
       "    </tr>\n",
       "    <tr>\n",
       "      <th>1</th>\n",
       "      <td>0.012826</td>\n",
       "      <td>past MEDICAL history difficulty climb stair di...</td>\n",
       "    </tr>\n",
       "    <tr>\n",
       "      <th>2</th>\n",
       "      <td>0.051970</td>\n",
       "      <td>history PRESENT ILLNESS   ABC today   pleasant...</td>\n",
       "    </tr>\n",
       "    <tr>\n",
       "      <th>3</th>\n",
       "      <td>0.135450</td>\n",
       "      <td>D MMODE     leave atrial enlargement left atri...</td>\n",
       "    </tr>\n",
       "    <tr>\n",
       "      <th>4</th>\n",
       "      <td>0.125709</td>\n",
       "      <td>left ventricular cavity size wall thickness...</td>\n",
       "    </tr>\n",
       "  </tbody>\n",
       "</table>\n",
       "</div>"
      ],
      "text/plain": [
       "   polarity                                          clean_med\n",
       "0 -0.021562  SUBJECTIVE   yearold white female present comp...\n",
       "1  0.012826  past MEDICAL history difficulty climb stair di...\n",
       "2  0.051970  history PRESENT ILLNESS   ABC today   pleasant...\n",
       "3  0.135450  D MMODE     leave atrial enlargement left atri...\n",
       "4  0.125709     left ventricular cavity size wall thickness..."
      ]
     },
     "execution_count": 44,
     "metadata": {},
     "output_type": "execute_result"
    }
   ],
   "source": [
    "sent = [TextBlob(transcriptions) for transcriptions in clean_med]\n",
    "sent[0].polarity, sent[0]\n",
    "\n",
    "val_sentiment = [[transcriptions.sentiment.polarity, str(transcriptions)] for transcriptions in sent]\n",
    "val_sentiment[0]\n",
    "\n",
    "df_sentiment = pd.DataFrame(val_sentiment, columns=[\"polarity\", \"clean_med\"])\n",
    "df_sentiment.head()"
   ]
  },
  {
   "cell_type": "code",
   "execution_count": 45,
   "metadata": {},
   "outputs": [
    {
     "data": {
      "image/png": "[encoded data removed]",
      "text/plain": [
       "<Figure size 720x504 with 1 Axes>"
      ]
     },
     "metadata": {
      "needs_background": "light"
     },
     "output_type": "display_data"
    }
   ],
   "source": [
    "fig, ax = plt.subplots(figsize=(10, 7))\n",
    "\n",
    "# polarity histogram\n",
    "df_sentiment.hist(bins=12,ax=ax)\n",
    "\n",
    "plt.title(\"Sentiments of Transcriptions\")\n",
    "plt.xlabel(\"Sentiment Score\")\n",
    "plt.ylabel(\"Number of Transcriptions\")\n",
    "plt.show()"
   ]
  },
  {
   "cell_type": "code",
   "execution_count": 46,
   "metadata": {},
   "outputs": [
    {
     "data": {
      "image/png": "[encoded data removed]",
      "text/plain": [
       "<PIL.Image.Image image mode=RGB size=400x200 at 0x1AEB48F5828>"
      ]
     },
     "execution_count": 46,
     "metadata": {},
     "output_type": "execute_result"
    }
   ],
   "source": [
    "long_string = ','.join(list(df.clean))\n",
    "wordcloud = WordCloud(background_color=\"white\", max_words=5000, contour_width=3, contour_color='steelblue')\n",
    "wordcloud.generate(long_string)\n",
    "wordcloud.to_image()"
   ]
  },
  {
   "cell_type": "code",
   "execution_count": 47,
   "metadata": {},
   "outputs": [
    {
     "data": {
      "text/html": [
       "<div>\n",
       "<style scoped>\n",
       "    .dataframe tbody tr th:only-of-type {\n",
       "        vertical-align: middle;\n",
       "    }\n",
       "\n",
       "    .dataframe tbody tr th {\n",
       "        vertical-align: top;\n",
       "    }\n",
       "\n",
       "    .dataframe thead th {\n",
       "        text-align: right;\n",
       "    }\n",
       "</style>\n",
       "<table border=\"1\" class=\"dataframe\">\n",
       "  <thead>\n",
       "    <tr style=\"text-align: right;\">\n",
       "      <th></th>\n",
       "      <th>polarity</th>\n",
       "      <th>clean_med</th>\n",
       "    </tr>\n",
       "  </thead>\n",
       "  <tbody>\n",
       "    <tr>\n",
       "      <th>1939</th>\n",
       "      <td>-0.45</td>\n",
       "      <td>PROCEDURE   Newborn circumcisionINDICATIONS   ...</td>\n",
       "    </tr>\n",
       "    <tr>\n",
       "      <th>151</th>\n",
       "      <td>-0.45</td>\n",
       "      <td>PROCEDURE   Newborn circumcisionINDICATIONS   ...</td>\n",
       "    </tr>\n",
       "    <tr>\n",
       "      <th>1026</th>\n",
       "      <td>-0.45</td>\n",
       "      <td>PROCEDURE   Newborn circumcisionINDICATIONS   ...</td>\n",
       "    </tr>\n",
       "    <tr>\n",
       "      <th>3242</th>\n",
       "      <td>-0.35</td>\n",
       "      <td>REVIEW systemsthere weight loss fever chill sw...</td>\n",
       "    </tr>\n",
       "    <tr>\n",
       "      <th>4219</th>\n",
       "      <td>-0.35</td>\n",
       "      <td>REVIEW systemsthere weight loss fever chill sw...</td>\n",
       "    </tr>\n",
       "  </tbody>\n",
       "</table>\n",
       "</div>"
      ],
      "text/plain": [
       "      polarity                                          clean_med\n",
       "1939     -0.45  PROCEDURE   Newborn circumcisionINDICATIONS   ...\n",
       "151      -0.45  PROCEDURE   Newborn circumcisionINDICATIONS   ...\n",
       "1026     -0.45  PROCEDURE   Newborn circumcisionINDICATIONS   ...\n",
       "3242     -0.35  REVIEW systemsthere weight loss fever chill sw...\n",
       "4219     -0.35  REVIEW systemsthere weight loss fever chill sw..."
      ]
     },
     "execution_count": 47,
     "metadata": {},
     "output_type": "execute_result"
    }
   ],
   "source": [
    "df_sentiment.sort_values(by=['polarity']).head()"
   ]
  },
  {
   "cell_type": "code",
   "execution_count": 48,
   "metadata": {},
   "outputs": [
    {
     "data": {
      "text/plain": [
       "'PROCEDURE   Newborn circumcisionINDICATIONS   Parental preferenceANESTHESIA   Dorsal penile nerve blockdescription PROCEDURE   baby prepare drape sterile manner   lidocaine    ml without epinephrine instill base penis   oclock   oclock   penile foreskin remove XXX Gomco   Hemostasis achieve minimal blood loss   sign infection   baby tolerate procedure well   Vaseline apply penis baby diapere nursing staff'"
      ]
     },
     "execution_count": 48,
     "metadata": {},
     "output_type": "execute_result"
    }
   ],
   "source": [
    "clean_med[1939]"
   ]
  },
  {
   "cell_type": "code",
   "execution_count": 49,
   "metadata": {},
   "outputs": [
    {
     "data": {
      "text/plain": [
       "'REVIEW systemsthere weight loss fever chill sweat   blurring vision itch throat neck pain neck fullness   vertigo hoarseness painful swallowing   chest pain shortness breath paroxysmal nocturnal dyspnea chest pain exertion   shortness breath cough hemoptysis   melena nausea vomit dysphagia abdominal pain diarrhea constipation blood stool   dysuria hematuria excessive urination   muscle weakness tenderness   numbness tingle   arthralgia arthritis   rash   excessive fatigability loss motor skill sensation   change hair texture change skin color excessive decrease appetite   swollen lymph node night sweat   headache   rest review system negative'"
      ]
     },
     "execution_count": 49,
     "metadata": {},
     "output_type": "execute_result"
    }
   ],
   "source": [
    "clean_med[3242]"
   ]
  },
  {
   "cell_type": "code",
   "execution_count": 50,
   "metadata": {},
   "outputs": [
    {
     "data": {
      "text/html": [
       "<div>\n",
       "<style scoped>\n",
       "    .dataframe tbody tr th:only-of-type {\n",
       "        vertical-align: middle;\n",
       "    }\n",
       "\n",
       "    .dataframe tbody tr th {\n",
       "        vertical-align: top;\n",
       "    }\n",
       "\n",
       "    .dataframe thead th {\n",
       "        text-align: right;\n",
       "    }\n",
       "</style>\n",
       "<table border=\"1\" class=\"dataframe\">\n",
       "  <thead>\n",
       "    <tr style=\"text-align: right;\">\n",
       "      <th></th>\n",
       "      <th>polarity</th>\n",
       "      <th>clean_med</th>\n",
       "    </tr>\n",
       "  </thead>\n",
       "  <tbody>\n",
       "    <tr>\n",
       "      <th>1344</th>\n",
       "      <td>0.8</td>\n",
       "      <td>stable require intervention today visit   retu...</td>\n",
       "    </tr>\n",
       "    <tr>\n",
       "      <th>2422</th>\n",
       "      <td>0.8</td>\n",
       "      <td>stable require intervention today visit   retu...</td>\n",
       "    </tr>\n",
       "    <tr>\n",
       "      <th>1234</th>\n",
       "      <td>0.4</td>\n",
       "      <td>PREOPERATIVE diagnosis     spondylosis cervica...</td>\n",
       "    </tr>\n",
       "    <tr>\n",
       "      <th>2335</th>\n",
       "      <td>0.4</td>\n",
       "      <td>PREOPERATIVE diagnosis     spondylosis cervica...</td>\n",
       "    </tr>\n",
       "    <tr>\n",
       "      <th>2727</th>\n",
       "      <td>0.4</td>\n",
       "      <td>PREOPERATIVE diagnosis     spondylosis cervica...</td>\n",
       "    </tr>\n",
       "  </tbody>\n",
       "</table>\n",
       "</div>"
      ],
      "text/plain": [
       "      polarity                                          clean_med\n",
       "1344       0.8  stable require intervention today visit   retu...\n",
       "2422       0.8  stable require intervention today visit   retu...\n",
       "1234       0.4  PREOPERATIVE diagnosis     spondylosis cervica...\n",
       "2335       0.4  PREOPERATIVE diagnosis     spondylosis cervica...\n",
       "2727       0.4  PREOPERATIVE diagnosis     spondylosis cervica..."
      ]
     },
     "execution_count": 50,
     "metadata": {},
     "output_type": "execute_result"
    }
   ],
   "source": [
    "df_sentiment.sort_values(by=['polarity'],ascending=False).head()"
   ]
  },
  {
   "cell_type": "code",
   "execution_count": 51,
   "metadata": {},
   "outputs": [
    {
     "data": {
      "text/plain": [
       "'stable require intervention today visit   return six month followup dilate examination would happy sooner notice change vision'"
      ]
     },
     "execution_count": 51,
     "metadata": {},
     "output_type": "execute_result"
    }
   ],
   "source": [
    "clean_med[1344]"
   ]
  },
  {
   "cell_type": "code",
   "execution_count": 52,
   "metadata": {},
   "outputs": [
    {
     "data": {
      "text/plain": [
       "'PREOPERATIVE diagnosis     spondylosis cervical stenosis cc great cc cc     neck pain left radiculopathy progressive    headache progressive POSTOPERATIVE diagnosis     spondylosis cervical stenosis cc great cc cc     neck pain left radiculopathy progressive    headache progressive procedures     anterior cervical discectomy cc neural decompression    anterior interbody fusion cc   utilize Bengal cage    anterior cervical instrumentation cc stabilization uniplate construction cc   intraoperative xray xSERVICE     neurosurgeryanesthesia'"
      ]
     },
     "execution_count": 52,
     "metadata": {},
     "output_type": "execute_result"
    }
   ],
   "source": [
    "clean_med[1234]"
   ]
  },
  {
   "cell_type": "markdown",
   "metadata": {},
   "source": [
    "The goal of this assignment was to acquire medical data, preprocess the text, examine the top words across all medical transcriptions, cluster transcriptions into topics, assign each transcription a topic and topic value based on the highest topic percentage contained within, perform logistic regression to determine how good the model is at predicting topics of unseen records so that LDA does not have to be run every time and the same topics can be utilized, find the overall sentiment of the transcriptions, visualize the overall sentiment distribution of transcriptions and examine the highest/lowest polarity transcriptions. \n",
    "\n",
    "Preprocessing/text cleaning was completed. The top words across all transcriptions were examined and found to be \"patient, right, history, place, left, normal, pain, procedure, note, diagnosis and remove\" These words indicate the most discussed issues appear to involve diagnosing, procedures, removal and pain.\n",
    "\n",
    "Transcriptions were then clustered into topics using LDA over LSA as it is more accurate even though it takes much longer. Eight distinct topics can easily be seen through the pyDavis visualization. The next step for these topics would be for a human to interpret the words within them to assign an actual overall topic that makes sense for other humans. Examples of possible topics are \"Vitals\" for topic 0 (heart, rate, blood pressure) and \"Surgery\" for topic 1 (patient, procedure, suture, remove, incision, take, tube, skin). For this data they have been left numbers and each transcription was assigned a score for each percentage of each topic that the text within indicates. The perplexity was found to be -7.616 and a coherence score of about 49%. Perplexity measures the model with lower scores being better and a sign of a good model. Coherence measures the proposed topics distinguishability. Next, the highest scoring topic and its associated score were extracted and assigned to their respective transcriptions. \n",
    "\n",
    "Logistic Regression was performed as a supervised learning method to assign topics to unseen transcriptions with a success rate of about 74%. The benefit of using a supervised learning method is that the LDA model does not have to be run again and again to find new topics. Logistic regression will also apply these topics to future data where running the LDA again and again would ultimately result in new topics. To analyze the sentiment of all the transcriptions they were combined into a single string and TextBlob was used to find the polarity and subjectivity scores of -0.003% and 34.6% respectively. This means the overall sentiment of the transcriptions are slightly negative (polarity) and slight below average subjective-ness (~35%).\n",
    "\n",
    "A couple of scoring methods were examined to find the polarity/sentiment of the transcriptions. Ultimately TextBlob was selected to assign a polarity score. The sentiment spread was visualized and found to be fairly normally distributed among the transcriptions. Somewhat surprisingly the transcriptions had many transcriptions scoring over 0 polarity meaning they were positive transcriptions and only a few scoring below -0.2 polarity. This is surprising as it would make sense that patients would be having a negative issue when seeing a medical professional. I suspect this is a result of certain medical words not having the correct sentiment value they would need to be used on this type of data. The texts in question do not appear to be more positive than negative further increasing my suspicions. Child circumcision appears to be the most negatively transcribed events while contain words like \"great\" and \"happy\". Notice how transcript 1234 has a polarity of 0.4 but has a great deal of words I would likely associate with being negative, I believe this is an example of my earlier point on word sentiment value needing to be adjusted for the medical field."
   ]
  }
 ],
 "metadata": {
  "kernelspec": {
   "display_name": "Python 3",
   "language": "python",
   "name": "python3"
  },
  "language_info": {
   "codemirror_mode": {
    "name": "ipython",
    "version": 3
   },
   "file_extension": ".py",
   "mimetype": "text/x-python",
   "name": "python",
   "nbconvert_exporter": "python",
   "pygments_lexer": "ipython3",
   "version": "3.7.3"
  }
 },
 "nbformat": 4,
 "nbformat_minor": 2
}
